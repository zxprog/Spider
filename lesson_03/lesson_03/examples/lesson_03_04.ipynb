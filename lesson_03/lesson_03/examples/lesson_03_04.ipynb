{
 "cells": [
  {
   "cell_type": "markdown",
   "metadata": {},
   "source": [
    "# 第三课 网络数据的获取与表示\n",
    "## 第四节 网页解析模块(1)"
   ]
  },
  {
   "cell_type": "code",
   "execution_count": 2,
   "metadata": {},
   "outputs": [],
   "source": [
    "import requests\n",
    "from bs4 import BeautifulSoup"
   ]
  },
  {
   "cell_type": "markdown",
   "metadata": {},
   "source": [
    "* 简单解析百度首页"
   ]
  },
  {
   "cell_type": "code",
   "execution_count": 4,
   "metadata": {},
   "outputs": [],
   "source": [
    "url = 'http://www.baidu.com'\n",
    "r_obj = requests.get(url)"
   ]
  },
  {
   "cell_type": "code",
   "execution_count": 10,
   "metadata": {},
   "outputs": [],
   "source": [
    "bs = BeautifulSoup(r_obj.content, \n",
    "                   'lxml',\n",
    "                   from_encoding='utf-8')"
   ]
  },
  {
   "cell_type": "code",
   "execution_count": 25,
   "metadata": {},
   "outputs": [
    {
     "data": {
      "text/plain": [
       "<title>百度一下，你就知道</title>"
      ]
     },
     "execution_count": 25,
     "metadata": {},
     "output_type": "execute_result"
    }
   ],
   "source": [
    "# 查找title标签\n",
    "bs.find('title')"
   ]
  },
  {
   "cell_type": "code",
   "execution_count": 26,
   "metadata": {},
   "outputs": [
    {
     "data": {
      "text/plain": [
       "<a class=\"mnav\" href=\"http://news.baidu.com\" name=\"tj_trnews\">新闻</a>"
      ]
     },
     "execution_count": 26,
     "metadata": {},
     "output_type": "execute_result"
    }
   ],
   "source": [
    "# 查找第一个链接标签\n",
    "bs.find('a')"
   ]
  },
  {
   "cell_type": "code",
   "execution_count": 28,
   "metadata": {},
   "outputs": [
    {
     "data": {
      "text/plain": [
       "[<a class=\"mnav\" href=\"http://news.baidu.com\" name=\"tj_trnews\">新闻</a>,\n",
       " <a class=\"mnav\" href=\"http://www.hao123.com\" name=\"tj_trhao123\">hao123</a>,\n",
       " <a class=\"mnav\" href=\"http://map.baidu.com\" name=\"tj_trmap\">地图</a>,\n",
       " <a class=\"mnav\" href=\"http://v.baidu.com\" name=\"tj_trvideo\">视频</a>,\n",
       " <a class=\"mnav\" href=\"http://tieba.baidu.com\" name=\"tj_trtieba\">贴吧</a>,\n",
       " <a class=\"lb\" href=\"http://www.baidu.com/bdorz/login.gif?login&amp;tpl=mn&amp;u=http%3A%2F%2Fwww.baidu.com%2f%3fbdorz_come%3d1\" name=\"tj_login\">登录</a>,\n",
       " <a class=\"bri\" href=\"//www.baidu.com/more/\" name=\"tj_briicon\" style=\"display: block;\">更多产品</a>,\n",
       " <a href=\"http://home.baidu.com\">关于百度</a>,\n",
       " <a href=\"http://ir.baidu.com\">About Baidu</a>,\n",
       " <a href=\"http://www.baidu.com/duty/\">使用百度前必读</a>,\n",
       " <a class=\"cp-feedback\" href=\"http://jianyi.baidu.com/\">意见反馈</a>]"
      ]
     },
     "execution_count": 28,
     "metadata": {},
     "output_type": "execute_result"
    }
   ],
   "source": [
    "# 查找所有的链接标签\n",
    "bs.find_all('a')"
   ]
  },
  {
   "cell_type": "code",
   "execution_count": 29,
   "metadata": {},
   "outputs": [
    {
     "data": {
      "text/plain": [
       "[<a class=\"mnav\" href=\"http://news.baidu.com\" name=\"tj_trnews\">新闻</a>,\n",
       " <a class=\"mnav\" href=\"http://www.hao123.com\" name=\"tj_trhao123\">hao123</a>,\n",
       " <a class=\"mnav\" href=\"http://map.baidu.com\" name=\"tj_trmap\">地图</a>,\n",
       " <a class=\"mnav\" href=\"http://v.baidu.com\" name=\"tj_trvideo\">视频</a>,\n",
       " <a class=\"mnav\" href=\"http://tieba.baidu.com\" name=\"tj_trtieba\">贴吧</a>]"
      ]
     },
     "execution_count": 29,
     "metadata": {},
     "output_type": "execute_result"
    }
   ],
   "source": [
    "# 查找class为mnav的所有链接标签\n",
    "bs.find_all('a', class_='mnav')"
   ]
  }
 ],
 "metadata": {
  "anaconda-cloud": {},
  "kernelspec": {
   "display_name": "py_data_anal",
   "language": "python",
   "name": "py_data_anal"
  },
  "language_info": {
   "codemirror_mode": {
    "name": "ipython",
    "version": 3
   },
   "file_extension": ".py",
   "mimetype": "text/x-python",
   "name": "python",
   "nbconvert_exporter": "python",
   "pygments_lexer": "ipython3",
   "version": "3.5.5"
  }
 },
 "nbformat": 4,
 "nbformat_minor": 1
}
