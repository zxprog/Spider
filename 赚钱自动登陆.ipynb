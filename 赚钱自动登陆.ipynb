{
 "cells": [
  {
   "cell_type": "code",
   "execution_count": null,
   "metadata": {},
   "outputs": [],
   "source": [
    "# 本地Chrome浏览器设置方法\n",
    "from selenium import webdriver # 从selenium库中调用webdriver模块\n",
    "import time # 调用time模块\n",
    "import cv2\n",
    "import requests\n",
    "import matplotlib.pyplot as plt\n",
    "import numpy as np\n",
    "import matplotlib.image as mpimg\n",
    "from PIL import Image\n",
    "from pytesseract import image_to_string\n",
    "\n",
    "driver = webdriver.Chrome()\n",
    "url_login = 'https://www.jh260.com/home/cp.html'\n",
    "user_id = 'bing199001'\n",
    "password = 'lb199001'\n",
    "driver.get(url_login) # 访问页面\n",
    "driver.maximize_window()\n",
    "login = driver.find_element_by_link_text('登入')\n",
    "login.click()\n",
    "time.sleep(2) # 暂停两秒，等待浏览器缓冲\n",
    "user_name = driver.find_element_by_id('userName2')\n",
    "user_name.send_keys(user_id)\n",
    "user_password = driver.find_element_by_id('userPwd2')\n",
    "user_password.send_keys(password)\n",
    "\n",
    "\n",
    "validation_code_img = driver.find_element_by_class_name('imgCode')\n",
    "#print(validation_code_img.size)\n",
    "#print(validation_code_img.location)\n",
    "#print(validation_code.location)\n",
    "\n",
    "def validation_code_crop(driver,size,location):\n",
    "    driver.save_screenshot('1.png')\n",
    "    # 设置好图片的位置\n",
    "    left = location['x'] + 195   #776\n",
    "    upper = location['y'] + 90 #353\n",
    "    right = location['x'] + 220 + size['width']#353+120\n",
    "    lower = location['y'] + 98 + size['height'] #776+40\n",
    "    # 打开全屏，进行验证码截取\n",
    "    img = Image.open('1.png')\n",
    "    #  将图片的位置作为一个元祖传入\n",
    "    im = img.crop((left, upper, right, lower))\n",
    "    # 最后保存图片\n",
    "    im.save('validation.png')\n",
    "    #\n",
    "def validation_code_rec(img):\n",
    "    print(image_to_string(img))\n",
    "    print(image_to_string(img).replace(\" \",\"\"))\n",
    "    return image_to_string(img).replace(\" \",\"\")\n",
    "\n",
    "\n",
    "validation_code_crop(driver,validation_code_img.size,validation_code_img.location)\n",
    "validation_img_src = validation_code_img.get_attribute('src')\n",
    "\n",
    "plt.imshow(mpimg.imread('validation.png'))\n",
    "plt.show()\n",
    "\n",
    "img = Image.open(r\"validation.png\")\n",
    "validation_code = driver.find_element_by_id('loginVcode2')\n",
    "\n",
    "v_code = validation_code_rec(img)\n",
    "#v_code = '1111'\n",
    "validation_code.send_keys(v_code)\n",
    "login_2 = driver.find_element_by_class_name('dlbtn')\n",
    "login_2.click()\n",
    "\n",
    "#wrong_code = driver.find_element_by_id(\"layui-layer-content\")# layui-layer-padding  find_element_by_tag_name('div').\n",
    "#print(wrong_code.text)\n",
    "\n",
    "\n",
    "\n",
    "#<div id=\"\" class=\"layui-layer-content layui-layer-padding\"><i class=\"layui-layer-ico layui-layer-ico2\"></i>您输入的验证码不正确!</div>\n",
    "#<i class=\"layui-layer-ico layui-layer-ico2\"></i>\n",
    "\n",
    "\n",
    "def login(student_number,student_name,password,validation_code):\n",
    "    student_login = driver.find_element_by_id('_ctl0_txtusername')\n",
    "    student_login.send_keys(student_number)\n",
    "    English_name = driver.find_element_by_id('_ctl0_txtxmpy')\n",
    "    English_name.send_keys(student_name)\n",
    "    user_password = driver.find_element_by_id('_ctl0_txtpassword')\n",
    "    user_password.send_keys(password)\n",
    "    validation = driver.find_element_by_id('_ctl0_txtyzm')\n",
    "    validation.send_keys(validation_code)\n",
    "    login = driver.find_element_by_id('_ctl0_ImageButton1')\n",
    "    login.click()\n",
    "###官网上的是aspx文件，卡住了\n",
    "def choose_link(click_choice):\n",
    "    '''if click_choice == '查看成绩单':\n",
    "        report = driver.find_element_by_link_text('http://yjsy1.ustb.edu.cn:8080/pyxx/grgl/xskccjcx')  \n",
    "        report.click()\n",
    "    elif click_choice == '查看课表':\n",
    "        sechdule = driver.find_element_by_link_text('http://yjsy1.ustb.edu.cn:8080/pyxx/pygl/kbcx_xs')  \n",
    "        sechdule.click()'''\n",
    "    pass\n",
    "def choice():\n",
    "    list = ['查看成绩单','查看课表']\n",
    "    number = int(input('0：查看成绩单；1：查看课表'))\n",
    "    return list[number]\n"
   ]
  },
  {
   "cell_type": "code",
   "execution_count": 31,
   "metadata": {},
   "outputs": [
    {
     "name": "stdout",
     "output_type": "stream",
     "text": [
      "\n"
     ]
    }
   ],
   "source": [
    "from pytesseract import image_to_string\n",
    "from PIL import Image\n",
    "img = Image.open(r\"validation.png\")\n",
    "# print(img)\n",
    "print(image_to_string(img))\n",
    "#print(image_to_string(img).replace(\" \",\"\"))"
   ]
  },
  {
   "cell_type": "code",
   "execution_count": null,
   "metadata": {},
   "outputs": [],
   "source": [
    "validation_code = input('输入你看到的验证码')\n",
    "choose = choice()\n",
    "login(student_number,student_name,password,validation_code)\n",
    "choose_link(choose)"
   ]
  },
  {
   "cell_type": "code",
   "execution_count": null,
   "metadata": {},
   "outputs": [],
   "source": []
  },
  {
   "cell_type": "code",
   "execution_count": null,
   "metadata": {},
   "outputs": [],
   "source": []
  },
  {
   "cell_type": "code",
   "execution_count": null,
   "metadata": {},
   "outputs": [],
   "source": []
  },
  {
   "cell_type": "code",
   "execution_count": null,
   "metadata": {},
   "outputs": [],
   "source": []
  },
  {
   "cell_type": "code",
   "execution_count": 6,
   "metadata": {},
   "outputs": [],
   "source": [
    "from selenium import webdriver\n",
    "from PIL import Image\n",
    "import time\n",
    "\n",
    "#  打开一个谷歌浏览器的实例\n",
    "b = webdriver.Chrome()\n",
    "b.get(\"https://www.baidu.com/\")\n",
    "b.maximize_window() #  最大化浏览器\n",
    "time.sleep(2)\n",
    "# 获取元素的尺寸\n",
    "size =  b.find_element_by_xpath(\"//*[@id=\\\"lg\\\"]/img\").size\n",
    "# 获取元素的坐标\n",
    "location  =  b.find_element_by_xpath(\"//*[@id=\\\"lg\\\"]/img\").location\n",
    "# 截取全屏\n",
    "b.save_screenshot('1.png')\n",
    "# 设置好图片的位置\n",
    "left = location['x']\n",
    "upper = location['y']\n",
    "right = size['width'] + location['x']\n",
    "lower = size['height'] + location['y']\n",
    "# 打开全屏，进行验证码截取\n",
    "img = Image.open('1.png')\n",
    "#  将图片的位置作为一个元祖传入\n",
    "im = img.crop((left, upper, right, lower))\n",
    "# 最后保存图片\n",
    "im.save('img.png')"
   ]
  },
  {
   "cell_type": "code",
   "execution_count": null,
   "metadata": {},
   "outputs": [],
   "source": []
  },
  {
   "cell_type": "code",
   "execution_count": null,
   "metadata": {},
   "outputs": [],
   "source": []
  },
  {
   "cell_type": "code",
   "execution_count": null,
   "metadata": {},
   "outputs": [],
   "source": []
  },
  {
   "cell_type": "code",
   "execution_count": null,
   "metadata": {},
   "outputs": [],
   "source": []
  },
  {
   "cell_type": "code",
   "execution_count": null,
   "metadata": {},
   "outputs": [],
   "source": []
  },
  {
   "cell_type": "code",
   "execution_count": null,
   "metadata": {},
   "outputs": [],
   "source": []
  },
  {
   "cell_type": "code",
   "execution_count": null,
   "metadata": {},
   "outputs": [],
   "source": []
  },
  {
   "cell_type": "code",
   "execution_count": null,
   "metadata": {},
   "outputs": [],
   "source": []
  },
  {
   "cell_type": "code",
   "execution_count": null,
   "metadata": {},
   "outputs": [],
   "source": []
  },
  {
   "cell_type": "code",
   "execution_count": null,
   "metadata": {},
   "outputs": [],
   "source": []
  },
  {
   "cell_type": "code",
   "execution_count": null,
   "metadata": {},
   "outputs": [],
   "source": []
  },
  {
   "cell_type": "code",
   "execution_count": null,
   "metadata": {},
   "outputs": [],
   "source": []
  },
  {
   "cell_type": "code",
   "execution_count": null,
   "metadata": {},
   "outputs": [],
   "source": []
  },
  {
   "cell_type": "code",
   "execution_count": null,
   "metadata": {},
   "outputs": [],
   "source": []
  }
 ],
 "metadata": {
  "kernelspec": {
   "display_name": "tfcpu",
   "language": "python",
   "name": "tf"
  },
  "language_info": {
   "codemirror_mode": {
    "name": "ipython",
    "version": 3
   },
   "file_extension": ".py",
   "mimetype": "text/x-python",
   "name": "python",
   "nbconvert_exporter": "python",
   "pygments_lexer": "ipython3",
   "version": "3.5.6"
  }
 },
 "nbformat": 4,
 "nbformat_minor": 2
}
