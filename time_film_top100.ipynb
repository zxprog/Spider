{
 "cells": [
  {
   "cell_type": "code",
   "execution_count": 29,
   "metadata": {},
   "outputs": [
    {
     "name": "stdout",
     "output_type": "stream",
     "text": [
      "200\n",
      "200\n",
      "200\n",
      "200\n",
      "200\n",
      "200\n",
      "200\n",
      "200\n",
      "200\n",
      "200\n",
      "0.4105548858642578\n",
      "[['1', '老友记 :Friends (1994)', 'http://movie.mtime.com/15167/', ' 9.6  6051人评分  ', '故事主要描述了住在纽约的六个好朋友从相识到后来一起经历了9年的生活中发生的一系列的故事，朋友间的生活、友谊、麻烦、欢笑..'], ['2', '人类星球 :Human Planet (2011)', 'http://movie.mtime.com/148428/', ' 9.5  138人评分  ', '该剧暂时没有评价'], ['3', '海贼王 :One Piece (1999)', 'http://movie.mtime.com/15374/', ' 9.4  2645人评分  ', '故事围绕着梦想和同伴的友谊两个主题展开。整个作品拥有自己庞大的世界观。'], ['4', '猫和老鼠 :Tom and Jerry (1965)', 'http://movie.mtime.com/21581/', ' 9.4  966人评分  ', '猫和老鼠（英文：Tom and Jerry，台湾电视公司1970年代播出时曾经称作“妙妙妙”，华纳家庭娱乐在台湾发行的DVD称为“汤姆猫与..'], ['5', '地球脉动 :Planet Earth (2006)', 'http://movie.mtime.com/58244/', ' 9.4  493人评分  ', '《地球脉动》由得过多项大奖的《蓝色星球》原班人马拍摄制作，是对地球空前绝后的礼赞，拥抱地球上不可思议的美景和自然生物。..'], ['6', '野外求生 :Man vs. Wild (2006)', 'http://movie.mtime.com/147142/', ' 9.4  207人评分  ', '该剧暂时没有评价'], ['7', '兄弟连 :Band of Brothers (2001)', 'http://movie.mtime.com/13786/', ' 9.3  2945人评分  ', '该剧描写美国101空军部队的一个小支队Easy Company的真实故事，他们参与了盟军空降法国的任务，以及其后整个欧洲的战事。1942..'], ['8', '成长的烦恼 :Growing Pains (1985)', 'http://movie.mtime.com/23594/', ' 9.3  1905人评分  ', '《成长的烦恼》讲述的是关于居住在美国郊区（也许用“城市远郊”这个词更恰当）的西维尔（Seaver）一家的故事。他们生活在纽约..'], ['9', '灌篮高手 :Slam Dunk (1993)', 'http://movie.mtime.com/67296/', ' 9.3  1891人评分  ', '《灌篮高手》是一部围绕青少年篮球运动的日本幽默卡通巨片。 该片卡通人物形象幽默、语言风趣，是一部不可多得的卡通电视精品。'], ['10', '银魂 :Gintama (2006)', 'http://movie.mtime.com/65620/', ' 9.3  1019人评分  ', '“银魂”是1919年劳斯莱斯推出的一种车的型号。《银魂》是《周刊少年JUMP》连载中的人气漫画。它的故事背景取自江户。从宇宙来..'], ['11', '星际牛仔 :Cowboy Bebop (1998)', 'http://movie.mtime.com/23996/', ' 9.3  560人评分  ', '2071 年，人类已经遍布整个太阳系。面对日益严重的犯罪活动，政府也无能为力，于是在电视上悬赏捉拿各种罪犯。这造就了一种新..'], ['12', '周六夜现场 :Saturday Night Live (1975)', 'http://movie.mtime.com/23375/', ' 9.3  416人评分  ', '这是一档以短小的讽刺话题、电视广告的模仿、一个现场嘉宾乐队和一个流行文化名人的嘉宾主持为特色的深夜喜剧类节目。'], ['13', '银魂’ :銀魂’ (2011)', 'http://movie.mtime.com/147505/', ' 9.3  291人评分  ', '该剧暂时没有评价'], ['14', '是，大臣 :Yes, Minister (1980)', 'http://movie.mtime.com/40596/', ' 9.3  196人评分  ', '《是，大臣》（Yes Minister，后来续集名为Yes, Prime Minister）是一套于1980年代播出的英国电视处境喜剧。这套剧集走英式幽..'], ['15', '流言终结者 :MythBusters (2003)', 'http://movie.mtime.com/90109/', ' 9.3  182人评分  ', '每个人都想解开都市流言的真假之谜，而这正是《流言终结者》大受欢迎的原因。在每一集节目中，亚当和杰米都会运用科学实验、特..'], ['16', '我们这一家 : (2002)', 'http://movie.mtime.com/66289/', ' 9.3  66人评分  ', '该剧暂时没有评价'], ['17', '生活大爆炸 :The Big Bang Theory (2007)', 'http://movie.mtime.com/58936/', ' 9.2  8161人评分  ', 'Leonard和Sheldon是一对合起来智商超过360的疯狂科学家宅男。直到有一天，隔壁搬来一位美貌性感的女孩Penny……'], ['18', '豪斯医生 :House M.D. (2004)', 'http://movie.mtime.com/40212/', ' 9.2  2021人评分  ', '态度无礼，表情凶恶，跛足拄着一根藤棍，永远是牛仔裤运动鞋的便装打扮而不是整洁的白大褂，普林斯顿大学附属医院的格雷戈\\x12..'], ['19', '东京爱情故事 :Tokyo Love Story (1991)', 'http://movie.mtime.com/19314/', ' 9.2  1652人评分  ', '抱着不安而由爱媛到东京的完治，在机场莉香以令人回复冲动的笑颜迎接完治，在二人工作同时，莉香亦开始爱上了完治，但完治心中..'], ['20', '同志亦凡人 :Queer as Folk (2000)', 'http://movie.mtime.com/21236/', ' 9.2  1127人评分  ', '《同志亦凡人》，美国Showtime有线收费电视网拍摄的一部电视连续剧。2000年首播，共5季，2005年播完，拥有极高的收视率。该片..'], ['21', '犯罪现场调查 :C.S.I. (2000)', 'http://movie.mtime.com/14134/', ' 9.2  1010人评分  ', '围绕在形同长辈的组长格里森周围的，是由几个侦探专家组成的拉斯维加斯犯罪现场调查小组，他们的主要日常任务是研究犯罪现场，..'], ['22', '哆啦A梦 :Doraemon (1979)', 'http://movie.mtime.com/39051/', ' 9.2  869人评分  ', '故事是从一个小学4年级学生——大雄开始的。大雄并不是个非常优秀的学生，像不少小孩子一样，他在学校里成绩平平，也没有其他..'], ['23', '白色巨塔 :The Ivory Tower (2003)', 'http://movie.mtime.com/51832/', ' 9.2  636人评分  ', '阔别11年再度携手合作的唐泽寿明与江口洋介，在剧中分别诠释追求权势、野心勃勃的天才外科医－财前五郎，以及尊重生命、热心研..'], ['24', '棒球英豪 :Touch (1985)', 'http://movie.mtime.com/86596/', ' 9.2  554人评分  ', '《棒球英豪》是安达充最为著名、最为成功的作品之一，1981年36号～1986年50号连载于日本的《周刊少年SUNDAY》，1987年结束，单..'], ['25', '福尔摩斯探案全集 :The Adventures of Sherlock Holmes (1984)', 'http://movie.mtime.com/86959/', ' 9.2  366人评分  ', '天文学知识空白、文学知识空白、哲学知识空白、政治学不及格--这就是歇洛克·福尔摩斯。可是，这又有什么关系？对这位世界上最..'], ['26', '糊涂侦探 :Get Smart (1965)', 'http://movie.mtime.com/40430/', ' 9.2  244人评分  ', '《糊涂侦探》，是由喜剧大师梅尔.布鲁克斯编剧的电视剧集，在60年代仿效当时流行的007系列电影改编的间谍喜剧。'], ['27', '是，首相 :Yes, Prime Minister (1986)', 'http://movie.mtime.com/106479/', ' 9.2  143人评分  ', '在野党影子内阁成员吉姆在帮助本党大选获胜之后得到行政事务部部长的职务，从此开始面对以部秘书亨普利为首的公务员体系。'], ['28', '极速前进 :The Amazing Race (2001)', 'http://movie.mtime.com/53007/', ' 9.2  109人评分  ', '该剧暂时没有评价'], ['29', '9局下2出局 :9 End 2 Outs (2007)', 'http://movie.mtime.com/67038/', ' 9.2  46人评分  ', '《9局下2出局》讲述了30多岁的青年男女，在满怀希望走上社会后，遭到背叛，在冷酷的现实下彷徨不定，身心受伤，他们的生活就好..'], ['30', '权力的游戏 :Game of Thrones (2011)', 'http://movie.mtime.com/111754/', ' 9.1  6210人评分  ', '故事发生在一块虚构的大陆——维斯特洛上，剧情主要讲述北境之王Stark家族的领主Eddard Star受国王邀请进入议会，成为国王的右..'], ['31', '邪恶力量 :Supernatural (2005)', 'http://movie.mtime.com/40803/', ' 9.1  2480人评分  ', 'Sam是一名刚刚进入斯坦福大学的研究生，他与一直不和的哥哥Dean无意遇到了很多在北美民间传说和都市怪谈中都没听说过的幽灵和..'], ['32', '傲慢与偏见 :Pride and Prejudice (1995)', 'http://movie.mtime.com/21788/', ' 9.1  1785人评分  ', '温柔的伊莉莎白是班尼家最有才气的五千金之一，却因第一印象对英俊多金的达西先生执有偏见。然而习惯将自己的情感包裹在傲慢外..'], ['33', '西游记 :Pilgrimage to the West (1986)', 'http://movie.mtime.com/50700/', ' 9.1  1643人评分  ', '唐朝僧人唐僧带领徒弟孙悟空、猪八戒、沙和尚到西天取经，师徒四人一路遭遇九九八十一难，最后终于取得真经修成正果。'], ['34', '犯罪心理 :Criminal Minds (2005)', 'http://movie.mtime.com/40840/', ' 9.1  1461人评分  ', '讲述FBI心理学特工一步步逼近罪犯心灵深处的犯罪剧集，环环相扣。'], ['35', '新世纪福音战士 :Neon Genesis Evangelion (1995)', 'http://movie.mtime.com/23779/', ' 9.1  1361人评分  ', '公元2000年，南极发生了大爆炸，冰封的大陆在一瞬间融化，引起世界海洋水位上涨甚至海啸，淹没了地球上的很大一部分陆地，随后..'], ['36', '摩登家庭 :Modern Family (2009)', 'http://movie.mtime.com/106736/', ' 9.1  1226人评分  ', '《摩登家庭》瞄准的是三对各有不同的美国家庭：一对普通父母与三个孩子、一对同性恋夫夫从越南领养了养女组成三口之家，一个60..'], ['37', '无法阻挡的highkick :Trouble-free High Kick (2006)', 'http://movie.mtime.com/52950/', ' 9.1  942人评分  ', '顺载一家人为了庆祝俊儿过百天，决定照张全家福。不过，顺载这家人做什么事都不那么顺利！\\u3000\\u3000俊儿撒了一泼尿，顺载和文姬争着..'], ['38', '虫师 :蟲師 (2005)', 'http://movie.mtime.com/54645/', ' 9.1  706人评分  ', '另一个世界，住着一群与常见动植物孑然不同的生物。远古以来，人们敬畏地称它们为虫。当虫的世界和人的世界重合时，虫师银古便..'], ['39', '辛普森一家 :The Simpsons (1989)', 'http://movie.mtime.com/18375/', ' 9.1  623人评分  ', '《辛普森一家》讲述的是美国人辛普森一家的生活，父亲荷马是Springfield核能工厂的安全检查员，总体说来是一个善意的小丑。母..'], ['40', '海绵宝宝 :SpongeBob SquarePants (1999)', 'http://movie.mtime.com/21367/', ' 9.1  609人评分  ', '海绵宝宝是方块形的黄色海绵，住在比基尼海滩（裤头村，比奇堡）的一个菠萝（凤梨）里，他的宠物是一只会“猫￣猫￣”的海蜗牛..'], ['41', '美丽中国 :Wild China (2008)', 'http://movie.mtime.com/83129/', ' 9.1  544人评分  ', '《美丽中国》是由中英联合摄制小组拍摄的一部关于中国野生动物和自然风光的系列记录片，其中有些野生动画和风景的镜头从未在银..'], ['42', '走向共和 : (2003)', 'http://movie.mtime.com/48499/', ' 9.1  496人评分  ', '本剧是中国影视作品第一次以史诗般的艺术笔角全景式地呈现了中华民族推翻帝制、走向共和这一波澜壮阔的艰难历程。'], ['43', '威尔与格蕾丝 :Will and Grace (1998)', 'http://movie.mtime.com/24192/', ' 9.1  351人评分  ', '《威尔与格蕾丝》\"是备受欢迎的艾美奖获奖情景喜剧，其主要讲述了四个好朋友的生活：Will Truman，同性恋律师；Will的好朋友Gr..'], ['44', '夏目友人帐 叁 :夏目友人帳 参 (2011)', 'http://movie.mtime.com/150706/', ' 9.1  273人评分  ', '夏目贵志从祖母夏目玲子的遗物中得到了那些契约书所做成的“友人帐”，他做出了一个重要的决定：将玲子夺过来的妖怪们的名字一..'], ['45', '母亲 :Mother (2010)', 'http://movie.mtime.com/126942/', ' 9.1  258人评分  ', '一边是冷静孤独的女教师，一边是遭受着家庭暴力的女孩，两个毫无血缘关系的人为了找寻新的生活，成为“母女”，踏上了位置的旅..'], ['46', '冤家成双 :Coupling (2000)', 'http://movie.mtime.com/69717/', ' 9.1  220人评分  ', '故事延续着第一季六位主人公的生活。英国式的对白，英国式的幽默。该剧荣获2003年英国喜剧大奖最佳电视喜剧。'], ['47', '舞林争霸 :So You Think You Can Dance (2005)', 'http://movie.mtime.com/65993/', ' 9.1  213人评分  ', '《舞林争霸》制作人班底来自《美国偶像》，目的是要寻找美国最受欢迎的舞者。从街头的海选到进入最后的决选，参赛者秀的就是舞..'], ['48', '故园风雨后 :Brideshead Revisited (1981)', 'http://movie.mtime.com/23161/', ' 9.1  155人评分  ', '11集英国电视连续剧《故园风雨后》（Brideshead Revisited）改编自Evelyn Waugh的同名小说，由Granada电视公司出品，1981年10..'], ['49', '小查和寇弟的顶级生活 :The Suite Life of Zack and Cody (2005)', 'http://movie.mtime.com/63554/', ' 9.1  140人评分  ', '《小查和寇弟的顶级生活》是Disney从2005年3月18号开始在Disney频道播出的电视影集。该剧与Disney热播剧《汉娜.孟塔娜》一样非..'], ['50', ' :Clannad: After Story (2008)', 'http://movie.mtime.com/89617/', ' 9.1  128人评分  ', '作为日本著名游戏品牌Key最著名的四季四部曲之一的《CLANNAD》第二部作品。\\u3000\\u3000在某个小镇，主角冈崎朋也因为家庭的因素成为不..'], ['51', '银河英雄传说 :Legend of the Galactic Heroes (1989)', 'http://movie.mtime.com/63112/', ' 9.1  81人评分  ', '十卷本长篇小说《银河英雄传说》是20世纪80年代中叶由日本作家田中芳树所著的一部以浩瀚银河为舞台展现的壮丽英雄史诗。作品于..'], ['52', '风之花园 :Kaze no garden (2008)', 'http://movie.mtime.com/87742/', ' 9.1  79人评分  ', '在东京的大医院担任麻醉师白鸟患上癌症回到老家。因多年对前妻子不忠，两个孩子早已和他断绝关系。家人之间的羁绊能否化解？'], ['53', \"70年代秀 :That '70s Show (1998)\", 'http://movie.mtime.com/21368/', ' 9.1  78人评分  ', \"电视剧《70年代秀》(That 70s'show)，是美国FOX电视台从1998年8月23日首播、连续播出了8年的一部幽默情景喜剧。已于2006年5月1..\"], ['54', '马尔柯姆的一家 :Malcolm in the Middle (2000)', 'http://movie.mtime.com/21238/', ' 9.1  59人评分  ', '《马尔柯姆的一家》讲述了一个生于中产阶级家庭的小男孩马金和他的家人的故事。'], ['55', '甜心俏佳人 :Ally McBeal (1997)', 'http://movie.mtime.com/15170/', ' 9.1  53人评分  ', '主人翁Ally Mcbeal是个神经质的律师，会念书，会打官司，但是就是不太懂人事她是一个好孩子，从小青梅竹马的男友因为实在不能..'], ['56', '海岸情缘 :Summerland (2004)', 'http://movie.mtime.com/31050/', ' 9.1  50人评分  ', '该剧暂时没有评价'], ['57', '绝命毒师 :Breaking Bad (2008)', 'http://movie.mtime.com/75499/', ' 9.0  2453人评分  ', '沃尔特是个平凡的高中化学老师，在这个平凡的岗位上工作了25年。他本可以一直这样平凡下去，直到有一天，一纸绝症诊断彻底改变..'], ['58', '纸牌屋 :House of Cards (2013)', 'http://movie.mtime.com/148234/', ' 9.0  2155人评分  ', '剧集讲述美国政治家弗朗西斯和妻子克莱尔的故事，深深挖掘政治阶层人群的方方面面，聚焦在现代的华盛顿特区，那些光鲜背后的贪..'], ['59', '唐顿庄园 :Downton Abbey (2010)', 'http://movie.mtime.com/130689/', ' 9.0  2055人评分  ', 'ITV古装剧剧《唐顿庄园》由曾因《高斯福德庄园》而荣获奥斯卡的金牌编剧Julian Fellowes一手打造，明星云集的演员阵容极其耀眼..'], ['60', '24小时 :24 (2001)', 'http://movie.mtime.com/17406/', ' 9.0  1361人评分  ', '失去妻子的杰克·鲍尔已经不在反恐小组工作了，他对这份工作也失去了兴趣，与女儿生活刚刚恢复平静，已经入主白宫的大卫&#..'], ['61', '越狱兔 :Usavich (2008)', 'http://movie.mtime.com/88294/', ' 9.0  1134人评分  ', '普京兔和基里连科兔的监狱生活被关在俄罗斯监狱的两只兔子基里连科和普京本来暗无天日的监狱生活希望，却享受他们惬意的轻松的..'], ['62', '红楼梦 :Hong lou meng (1987)', 'http://movie.mtime.com/48954/', ' 9.0  1123人评分  ', '87版由中央台和中国电视剧制作中心共同摄制，前29集基本忠实原著，后7集根据前八十回并结合多年红学研究成果重新构建而成。'], ['63', 'IT狂人 :The IT Crowd (2006)', 'http://movie.mtime.com/90744/', ' 9.0  946人评分  ', '史上最囧，最雷，最脑残，最出乎意料，最不按常理出牌的IT “精英们”登上银屏了。让超擅长收发邮件、单击和双击鼠标的IT女皇J..'], ['64', '续 夏目友人帐 :Zoku natsume yûjinchô (2009)', 'http://movie.mtime.com/98319/', ' 9.0  531人评分  ', '《夏目友人帐》的动画版故事计述的是一位因为看得见妖怪而被人类疏远的女子夏目玲子，为了打发寂寞的日子，她向妖怪们发起挑战..'], ['65', '人人都爱雷蒙德 :Everybody Loves Raymond (1996)', 'http://movie.mtime.com/18977/', ' 9.0  470人评分  ', '故事发生在一个大家庭中，雷蒙是一个体育专栏作家，有一个漂亮的妻子和可爱的孩子。父母和他住对门，经常开门就进他家厨房，老..'], ['66', '波士顿法律 :Boston Legal (2004)', 'http://movie.mtime.com/23556/', ' 9.0  448人评分  ', '《波士顿法律》(Boston Legal)是讲述的是美国波士顿市一家律师事务所的故事，主要是两位活宝Alan(James Spader)扮演，曾凭该剧..'], ['67', '萤火虫 :Firefly (2002)', 'http://movie.mtime.com/50587/', ' 9.0  339人评分  ', '时空背景设定于2517年，人类已探索远行到新的星系。此剧讲述一群异议分子驾驶一艘“萤火虫级”太空船“宁静号”在宇宙中冒险的..'], ['68', '猎人 :Hunter x Hunter (1999)', 'http://movie.mtime.com/61738/', ' 9.0  301人评分  ', '集冒险、勇敢、斗争、残暴、亲情、友情、爱情等多种元素于一身。它虚构了一个猎人的世界，在这个世界里，充斥着各色的狩猎者与..'], ['69', '露易斯和克拉克：超人新冒险 :Lois & Clark: The New Adventures of Superman (1993)', 'http://movie.mtime.com/26775/', ' 9.0  281人评分  ', '该剧暂时没有评价'], ['70', '六尺之下 :Six Feet Under (2001)', 'http://movie.mtime.com/18307/', ' 9.0  281人评分  ', '故事基本上是围绕殡葬业者Fisher一家展开，而这个家庭是以在美国殡仪业大势并购垄断下，仍努力坚持家族式服务为生的。老大Nate..'], ['71', '怪物 :Monster (2004)', 'http://movie.mtime.com/78648/', ' 9.0  251人评分  ', '天马贤三被称为天才医生，在西德留学研习医术。因为他卓越的医术而被爱斯勒医院院长和同事赏识，更是被院长千金爱娃所爱慕。就..'], ['72', '降世神通：最后的气宗 :Avatar: The Last Airbender (2005)', 'http://movie.mtime.com/50807/', ' 9.0  250人评分  ', '《降世神通：最后的气宗》是由美国尼克国际儿童频道热播动漫电视系列片，其故事具有中国传统的神话色彩：气、火、水、土是主宰..'], ['73', \"加里森敢死队 :Garrison's Gorillas (1967)\", 'http://movie.mtime.com/41741/', ' 9.0  223人评分  ', '二十六集美国惊险电视系列片。一部越十亿人收看过的电视系列片，高创电视史上的收视率。“加里森敢死队”从战场到屏幕，它是二..'], ['74', '风之画员 :바람의 화원 (2008)', 'http://movie.mtime.com/84851/', ' 9.0  220人评分  ', '金弘道是以风俗画、水墨画以及自画像等多种类型的作品而在朝鲜历史上享有盛名的画家。而对于以精炼的笔法表现男女之间的爱情而..'], ['75', '荆棘鸟 :The Thorn Birds (1983)', 'http://movie.mtime.com/38062/', ' 9.0  198人评分  ', '20世纪上半叶澳洲一个新西兰移民家庭，女孩麦琪漂亮热情，同神父拉尔夫相爱炽烈。但神父的身份却让两人无法结合，心灰意冷的麦..'], ['76', '火线 :The Wire (2002)', 'http://movie.mtime.com/49739/', ' 9.0  193人评分  ', '这是一部刻画巴尔的摩贩毒集团与警界较量的黑色剧集，美国《时代》周刊将其评为2006年十佳电视剧榜首。'], ['77', \"夏目友人帐 四 :Natsume's Book of Friends Ⅳ (2012)\", 'http://movie.mtime.com/154898/', ' 9.0  185人评分  ', '玲子的孙子夏目贵志从外婆的遗物中得到了那些契约书所做成的“友人帐”，同样他也能看到不会显现在人前的物体。而且也和玲子一..'], ['78', '急诊室的故事 :ER (1994)', 'http://movie.mtime.com/18310/', ' 9.0  180人评分  ', '这是发生在美国芝加哥一家急诊室的故事，这里每天收治的都是需要急救的病人，每位医护人员都用自己的高超的医术和仁慈的爱心对..'], ['79', '屋事生非 :Spaced (1999)', 'http://movie.mtime.com/19654/', ' 9.0  171人评分  ', '剧集的幕后核心是导演Edgar Wright和编剧兼主演的Simon Pegg、Jessica Stevenson。第一集里咖啡店偶遇的古怪失恋漫画家Tim和慵..'], ['80', '如果还有明天 :The Big C (2010)', 'http://movie.mtime.com/126113/', ' 9.0  168人评分  ', '该剧讲述一个住在郊区的家庭主妇患上癌症后所面临的生活危机，以及用乐观的态度去珍惜生命的精神。该剧的主旨在于教育人们过好..'], ['81', '白兔糖 :うさぎドロップ (2011)', 'http://movie.mtime.com/147346/', ' 9.0  164人评分  ', '《白兔糖》是宇仁田由美于05年在祥传社女性漫画月刊《Feel Young》上开始连载的，并在08年4月完结了第一部，后于同年5月展开了..'], ['82', '加州靡情 :Californication (2007)', 'http://movie.mtime.com/65723/', ' 9.0  157人评分  ', '加州靡情，美国2007年喜剧电视剧，斯蒂芬·霍普金斯导演，大卫·杜楚尼、娜塔莎·麦克埃霍等主演。'], ['83', '永生之酒 :BACCANO! (2007)', 'http://movie.mtime.com/79136/', ' 9.0  151人评分  ', '故事要从头开始讲，1711年（中国正处于雍正年间），一艘航行于大西洋的船上，炼金术士为了掌握长生不老方法，通过召唤恶魔得到..'], ['84', '吉尔莫女孩 :Gilmore Girls (2000)', 'http://movie.mtime.com/20414/', ' 9.0  150人评分  ', 'Glmore Girl讲述一对关系十分融洽密切的母女在爱情，家庭，学业和事业等方面面临的问题和她们的选择。该剧风格轻松活波，语言..'], ['85', '飞出个未来 :Futurama (1999)', 'http://movie.mtime.com/61368/', ' 9.0  144人评分  ', '这部动画片是The Simpsons的制作班底制作的。 \\u3000\\u3000Phillip Fry是一个纽约市的25岁的比萨饼快递员，他的生活就是每天四处奔波.1..'], ['86', '生存之民工 : (2005)', 'http://movie.mtime.com/57720/', ' 9.0  126人评分  ', '松江市，一个东北边陲的小城。\\u3000\\u3000一群来自全国各地的农民工为了生存，来到了这里，他们把汗水浸透在城市人未来的梦榻上——“..'], ['87', '人人都恨克里斯 :Everybody Hates Chris (2005)', 'http://movie.mtime.com/50007/', ' 9.0  124人评分  ', '13岁的黑人小孩克里斯（泰勒·詹姆斯·威廉姆 Tyler James Williams 饰）生活在纽约布鲁克林区，家中有做好几份低等工拼命养家..'], ['88', '家庭教师 :Katei Kyoshi Hitman Reborn! (2006)', 'http://movie.mtime.com/136701/', ' 9.0  115人评分  ', '该剧暂时没有评价'], ['89', '少年魔法师 :Wizards of Waverly Place (2007)', 'http://movie.mtime.com/105063/', ' 9.0  114人评分  ', '该剧将魔法引入美国家庭日常生活，相比哈利波特这个剧更加幽默并且更具都市感。剧中的卢梭一家是做快餐生意的，因为爸爸出自巫..'], ['90', '福尔摩斯归来 :The Return of Sherlock Holmes (1986)', 'http://movie.mtime.com/64354/', ' 9.0  111人评分  ', '该剧暂时没有评价'], ['91', '牵绊的爱 :Aikurushii (2005)', 'http://movie.mtime.com/53780/', ' 9.0  108人评分  ', '讲述的是一个平凡7口之家因为妈妈的病倒而后发生的点点滴滴的事，故事很温馨，典型的野島伸司风格。 住在山田的真柴家一共七口..'], ['92', '火星生活 :Life on Mars (2006)', 'http://movie.mtime.com/66587/', ' 9.0  77人评分  ', '该剧暂时没有评价'], ['93', '重案疑云 :The Inside (2005)', 'http://movie.mtime.com/61991/', ' 9.0  55人评分  ', '该剧暂时没有评价'], ['94', '唇膏 :Lipstick (1999)', 'http://movie.mtime.com/59456/', ' 9.0  49人评分  ', '早川蓝因犯伤害罪而被监护所收容，和他同寝室的有松田惠理子、三池安奈、井川真白和铃丘小鸠都是心灵受伤的少女。监护所来了一..'], ['95', '越狱 :Prison Break (2005)', 'http://movie.mtime.com/39138/', ' 8.9  4927人评分  ', '迈克尔·斯科菲尔德是一头陷于绝境欲拼死一搏的怒狮——他的哥哥林肯·巴罗斯被认定犯有谋杀罪被投入了福克斯河监狱的死囚牢。..'], ['96', '黑镜 :Black Mirror (2011)', 'http://movie.mtime.com/158223/', ' 8.9  3254人评分  ', '《黑镜》(Black Mirror)是一部由查理·布洛克主创、英国电视4台播出的科幻系列剧。'], ['97', \"实习医生格蕾 :Grey's Anatomy (2005)\", 'http://movie.mtime.com/38820/', ' 8.9  1697人评分  ', '欢迎来到格雷斯医院，哈佛医学院西区最艰苦的外科住院医实习程序，医务新人最残酷的训练场。Meredith、Izzie和Christina昨天还..'], ['98', '真探 :True Detective (2014)', 'http://movie.mtime.com/164260/', ' 8.9  1378人评分  ', '这部剧采用多视角叙事，伍迪·哈里森与马修·麦康纳饰演两名侦探搭档，他们一起调查一桩17年前的悬案，寻找涉及该案的路易斯安..'], ['99', '老爸老妈的浪漫史 :How I Met Your Mother (2005)', 'http://movie.mtime.com/40806/', ' 8.9  1190人评分  ', 'Ted的好友Marshall突然告诉他，他要向自己相处了很久的女友Lily——一名幼儿园教师求婚。Ted震惊之余，顿悟自己也需要赶快找到..'], ['100', '疑犯追踪 :Person of Interest (2011)', 'http://movie.mtime.com/144128/', ' 8.9  996人评分  ', '《疑犯追踪》讲述了一位被误以为已死去的CIA特工与一位神秘的亿万富翁联合起来，运用独有的一套办法阻止犯罪的故事。Reese（Ji..']]\n"
     ]
    },
    {
     "name": "stderr",
     "output_type": "stream",
     "text": [
      "D:\\Anaconda3\\envs\\tfcpu\\lib\\site-packages\\gevent\\hub.py:154: UserWarning: libuv only supports millisecond timer resolution; all times less will be set to 1 ms\n",
      "  with loop.timer(seconds, ref=ref) as t:\n"
     ]
    }
   ],
   "source": [
    "import requests # 调用requests库\n",
    "from bs4 import BeautifulSoup # 调用BeautifulSoup库\n",
    "from gevent import monkey\n",
    "#从gevent库里导入monkey模块。\n",
    "monkey.patch_all()\n",
    "#monkey.patch_all()能把程序变成协作式运行，就是可以帮助程序实现异步。\n",
    "import gevent,time,requests\n",
    "#导入gevent、time、requests\n",
    "from gevent.queue import Queue\n",
    "#从gevent库里导入queue模块\n",
    "from Analysis import *\n",
    "import csv\n",
    "\n",
    "start = time.time()\n",
    "\n",
    "url_0 = 'http://www.mtime.com/top/tv/top100/'\n",
    "url_list = ['http://www.mtime.com/top/tv/top100/index-%d.html'%i for i in range(2,11)]\n",
    "url_list.insert(0,url_0)\n",
    "#print(url_list)\n",
    "\n",
    "#定义一个队列\n",
    "work= Queue()\n",
    "for url in url_list:\n",
    "    work.put_nowait(url)\n",
    "#定义写csv函数\n",
    "def csv_output(file_name,list_data,col_name=''):\n",
    "    with open(file_name,'w', newline = '',encoding = 'gb18030') as csvfile:\n",
    "        writer=csv.writer(csvfile,dialect='excel')\n",
    "        if col_name:\n",
    "            writer.writerow([col_name[0],col_name[1],col_name[2],col_name[3],col_name[4]])\n",
    "        for value in list_data:\n",
    "            writer.writerow([value[0],value[1],value[2],value[3],value[4]])\n",
    "            \n",
    "file_name = 'time_Hot_serach_top_100.csv'  \n",
    "col_name = ['序号','电影名称','电影链接','电影评分','评论']\n",
    "\n",
    "list_data = []\n",
    "#numbers=[]\n",
    "##测试\n",
    "'''for url in url_list:\n",
    "    soup = analysis(url)\n",
    "    film_messages = soup.find(class_='top_list').find_all('li')\n",
    "    #print(film_messages)\n",
    "    for film in film_messages:\n",
    "        #print(film.find('em'))\n",
    "        number = film.find(class_ = 'number').text\n",
    "        film_name = film.find('h2').find('a').text\n",
    "        link = film.find('h2').find('a')['href']\n",
    "        score = film.find(class_= 'mov_point').text\n",
    "        print(number,film_name,link,score)\n",
    "end = time.time()\n",
    "print(end-start) '''\n",
    "\n",
    "def crawler():\n",
    "    while not work.empty():\n",
    "        url = work.get_nowait()\n",
    "        soup = analysis(url)\n",
    "        film_messages = soup.find(class_='top_list').find_all('li')\n",
    "        for film in film_messages:\n",
    "            number = film.find(class_ = 'number').text\n",
    "            film_name = film.find('h2').find('a').text\n",
    "            film_name = film_name.replace('\\xa0',' :')\n",
    "            link = film.find('h2').find('a')['href']\n",
    "            score = film.find(class_= 'mov_point').text\n",
    "            try:\n",
    "                remark = film.find(class_='mt3').text\n",
    "            except :\n",
    "                remark = '该剧暂时没有评价'\n",
    "            list_data.append([number,film_name,link,score,remark])\n",
    "            \n",
    "\n",
    "tasks_list = []\n",
    "#定义协程操作\n",
    "for i in range(10):\n",
    "    task = gevent.spawn(crawler)\n",
    "    tasks_list.append(task)\n",
    "gevent.joinall(tasks_list)\n",
    "#print(len(list_data))\n",
    "end = time.time()\n",
    "print(end-start)\n",
    "#写文件\n",
    "#因为是多协程，所以顺序都乱了，因此排序一下\n",
    "list_data_last = sorted(list_data,key = lambda s:int(s[0]))\n",
    "print(list_data_last)\n",
    "csv_output(file_name,list_data_last,col_name)"
   ]
  },
  {
   "cell_type": "code",
   "execution_count": null,
   "metadata": {},
   "outputs": [],
   "source": []
  },
  {
   "cell_type": "code",
   "execution_count": null,
   "metadata": {},
   "outputs": [],
   "source": []
  },
  {
   "cell_type": "code",
   "execution_count": null,
   "metadata": {},
   "outputs": [],
   "source": []
  },
  {
   "cell_type": "code",
   "execution_count": 28,
   "metadata": {},
   "outputs": [
    {
     "name": "stdout",
     "output_type": "stream",
     "text": [
      "??aaa\n"
     ]
    },
    {
     "name": "stderr",
     "output_type": "stream",
     "text": [
      "D:\\Anaconda3\\envs\\tfcpu\\lib\\site-packages\\gevent\\hub.py:154: UserWarning: libuv only supports millisecond timer resolution; all times less will be set to 1 ms\n",
      "  with loop.timer(seconds, ref=ref) as t:\n"
     ]
    }
   ],
   "source": []
  }
 ],
 "metadata": {
  "kernelspec": {
   "display_name": "tfcpu",
   "language": "python",
   "name": "tf"
  },
  "language_info": {
   "codemirror_mode": {
    "name": "ipython",
    "version": 3
   },
   "file_extension": ".py",
   "mimetype": "text/x-python",
   "name": "python",
   "nbconvert_exporter": "python",
   "pygments_lexer": "ipython3",
   "version": "3.5.6"
  }
 },
 "nbformat": 4,
 "nbformat_minor": 2
}
