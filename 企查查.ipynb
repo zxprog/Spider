{
 "cells": [
  {
   "cell_type": "code",
   "execution_count": 1,
   "metadata": {},
   "outputs": [],
   "source": [
    "import requests\n",
    "import json\n",
    "import time\n",
    "from hashlib import md5\n",
    " \n",
    "\n",
    "#获取时间戳\n",
    "def get_time_tup():\n",
    "    \"\"\"\n",
    "    :return: 13位精确到秒的时间戳\n",
    "    \"\"\"\n",
    "    time_tup=str(int(time.time()))\n",
    "    return time_tup\n",
    "\n",
    "#md5加密\n",
    "def set_md5(s):\n",
    "    \"\"\"\n",
    "    :param s: 拼接的字符串\n",
    "    :return: md5加密再转化为大写的字符串\n",
    "    \"\"\"\n",
    "    new_md5 = md5()\n",
    "    new_md5.update(s.encode(encoding='utf-8'))\n",
    "    s_md5 = new_md5.hexdigest().upper()\n",
    "    return  s_md5\n",
    "\n",
    "#设置请求头\n",
    "def get_headers(key,screat_key):\n",
    "    \"\"\"\n",
    "    :param key: 我的key\n",
    "    :param screat_key: 我的密钥\n",
    "    :return: 请求头\n",
    "    \"\"\"\n",
    "    headers=dict()\n",
    "    token=key+get_time_tup()+screat_key\n",
    "    headers[\"Token\"]=set_md5(token)\n",
    "    headers[\"Timespan\"]=get_time_tup()\n",
    "    return headers"
   ]
  },
  {
   "cell_type": "code",
   "execution_count": 6,
   "metadata": {},
   "outputs": [
    {
     "ename": "SyntaxError",
     "evalue": "invalid syntax (<ipython-input-6-c40209c17dbb>, line 11)",
     "output_type": "error",
     "traceback": [
      "\u001b[1;36m  File \u001b[1;32m\"<ipython-input-6-c40209c17dbb>\"\u001b[1;36m, line \u001b[1;32m11\u001b[0m\n\u001b[1;33m    with open(f\"data_{name}.csv\", \"w\") as f,open(f\"error_data_{name}.csv\",\"w\") as f2:\u001b[0m\n\u001b[1;37m                               ^\u001b[0m\n\u001b[1;31mSyntaxError\u001b[0m\u001b[1;31m:\u001b[0m invalid syntax\n"
     ]
    }
   ],
   "source": [
    "#批量申请数据\n",
    "\"\"\"\n",
    "    :param codes: 关键字的可迭代对象\n",
    "    :param name: 存储文档的署名\n",
    "    :param key:  我的key\n",
    "    :param screat_key: 我的密钥\n",
    "    :return:  无\n",
    "\"\"\"\n",
    " \n",
    "def get_data(codes,name,key,screat_key):\n",
    "    with open(f\"data_{name}.csv\", \"w\") as f,open(f\"error_data_{name}.csv\",\"w\") as f2:\n",
    "    count=0\n",
    "    count_true = 0\n",
    "    count_false = 0\n",
    "    for code in codes:\n",
    "        try:\n",
    "          count+=1\n",
    "          url = f\"http://api.qichacha.com/ECIV4/GetBasicDetailsByName?key={key}&keyword={code}\"\n",
    "          s=requests.get(url=url,headers=get_headers(key,screat_key))\n",
    "          t=s.text\n",
    "          m=json.loads(t)\n",
    "          print(m)\n",
    "          if m[\"Status\"]==\"200\":\n",
    "               x=m[\"Result\"]\n",
    "               f.write(str(x[\"KeyNo\"])+'~'+str(x[\"Name\"])+'~'\n",
    "               +str(x[\"No\"]) + '~'+str(x[\"BelongOrg\"]) + '~'\n",
    "               +str(x[\"OperName\"]) + '~'+str(x[\"StartDate\"]) + '~'\n",
    "               +str(x[\"EndDate\"]) + '~' +str(x[\"Status\"]) + '~'\n",
    "               +str(x[\"Province\"])+ '~' +str(x[\"UpdatedDate\"]) + '~'\n",
    "               +str(x[\"CreditCode\"]) + '~'+str(x[\"RegistCapi\"]) + '~'\n",
    "               +str(x[\"EconKind\"]) + '~'+str(x[\"Address\"]) + '~'\n",
    "                +str(x[\"Scope\"]) + '~' +str(x[\"TermStart\"]) + '~'\n",
    "               +str(x[\"TeamEnd\"])+ '~'+str(x[\"CheckDate\"]) + '~'\n",
    "               +str(x[\"OrgNo\"]) + '~'+str(x[\"IsOnStock\"]) + '~'\n",
    "               +str(x[\"StockNumber\"]) + '~'+str(x[\"StockType\"])\n",
    "               +\"\\n\")\n",
    "               count_true += 1\n",
    "          else:\n",
    "             f2.write(code)\n",
    "             f2.write(\"\\n\")\n",
    "             count_false+=1\n",
    "        except :\n",
    "            f2.write(code)\n",
    "            f2.write(\"\\n\")\n",
    "            count_false+=1\n",
    "    print(\"匹配到的数据\",count_true)\n",
    "    print(\"未匹配到的数据\",count_false)\n",
    "    print(\"数据总数\",count)\n",
    "if __name__ == '__main__':\n",
    "\n",
    "    codes=data[\"企业名称\"]\n",
    "    key=我的key\n",
    "    screat_key=  我的密钥\n",
    "    get_data(codes, \"example\", key, screat_key)"
   ]
  },
  {
   "cell_type": "code",
   "execution_count": null,
   "metadata": {},
   "outputs": [],
   "source": []
  },
  {
   "cell_type": "code",
   "execution_count": null,
   "metadata": {},
   "outputs": [],
   "source": []
  },
  {
   "cell_type": "code",
   "execution_count": null,
   "metadata": {},
   "outputs": [],
   "source": []
  },
  {
   "cell_type": "code",
   "execution_count": null,
   "metadata": {},
   "outputs": [],
   "source": []
  },
  {
   "cell_type": "code",
   "execution_count": null,
   "metadata": {},
   "outputs": [],
   "source": []
  },
  {
   "cell_type": "code",
   "execution_count": null,
   "metadata": {},
   "outputs": [],
   "source": []
  },
  {
   "cell_type": "code",
   "execution_count": null,
   "metadata": {},
   "outputs": [],
   "source": []
  },
  {
   "cell_type": "code",
   "execution_count": null,
   "metadata": {},
   "outputs": [],
   "source": []
  },
  {
   "cell_type": "code",
   "execution_count": null,
   "metadata": {},
   "outputs": [],
   "source": []
  },
  {
   "cell_type": "code",
   "execution_count": null,
   "metadata": {},
   "outputs": [],
   "source": []
  },
  {
   "cell_type": "code",
   "execution_count": null,
   "metadata": {},
   "outputs": [],
   "source": []
  },
  {
   "cell_type": "code",
   "execution_count": null,
   "metadata": {},
   "outputs": [],
   "source": []
  },
  {
   "cell_type": "code",
   "execution_count": null,
   "metadata": {},
   "outputs": [],
   "source": []
  },
  {
   "cell_type": "code",
   "execution_count": null,
   "metadata": {},
   "outputs": [],
   "source": []
  }
 ],
 "metadata": {
  "kernelspec": {
   "display_name": "tfcpu",
   "language": "python",
   "name": "tf"
  },
  "language_info": {
   "codemirror_mode": {
    "name": "ipython",
    "version": 3
   },
   "file_extension": ".py",
   "mimetype": "text/x-python",
   "name": "python",
   "nbconvert_exporter": "python",
   "pygments_lexer": "ipython3",
   "version": "3.5.6"
  }
 },
 "nbformat": 4,
 "nbformat_minor": 2
}
