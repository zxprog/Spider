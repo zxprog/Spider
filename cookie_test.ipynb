{
 "cells": [
  {
   "cell_type": "code",
   "execution_count": 3,
   "metadata": {},
   "outputs": [
    {
     "name": "stdout",
     "output_type": "stream",
     "text": [
      "请输入你想要发表的评论：222\n",
      "<class 'requests.models.Response'> <class 'requests.models.Response'>\n",
      "<Response [200]> <Response [200]>\n",
      "200\n"
     ]
    }
   ],
   "source": [
    "import requests\n",
    "#引入requests。\n",
    "url = ' https://wordpress-edu-3autumn.localprod.forc.work/wp-login.php'\n",
    "#把请求登录的网址赋值给url。\n",
    "headers = {\n",
    "'User-Agent':'Mozilla/5.0 (Windows NT 10.0; Win64; x64) AppleWebKit/537.36 (KHTML, like Gecko) Chrome/70.0.3538.110 Safari/537.36'\n",
    "}\n",
    "#加请求头，前面有说过加请求头是为了模拟浏览器正常的访问，避免被反爬虫。\n",
    "data = {\n",
    "'log': 'spiderman',  #写入账户\n",
    "'pwd': 'crawler334566',  #写入密码\n",
    "'wp-submit': '登录',\n",
    "'redirect_to': 'https://wordpress-edu-3autumn.localprod.forc.work/wp-admin/',\n",
    "'testcookie': '1'\n",
    "}\n",
    "#把有关登录的参数封装成字典，赋值给data。\n",
    "login_in = requests.post(url,headers=headers,data=data)\n",
    "#用requests.post发起请求，放入参数：请求登录的网址、请求头和登录参数，然后赋值给login_in。\n",
    "cookies = login_in.cookies\n",
    "#提取cookies的方法：调用requests对象（login_in）的cookies属性获得登录的cookies，并赋值给变量cookies。\n",
    "\n",
    "url_1 = 'https://wordpress-edu-3autumn.localprod.forc.work/wp-comments-post.php'\n",
    "#我们想要评论的文章网址。\n",
    "data_1 = {\n",
    "'comment': input('请输入你想要发表的评论：'),\n",
    "'submit': '发表评论',\n",
    "'comment_post_ID': '7',\n",
    "'comment_parent': '0'\n",
    "}\n",
    "#把有关评论的参数封装成字典。\n",
    "comment = requests.post(url_1,headers=headers,data=data_1,cookies=cookies)\n",
    "#用requests.post发起发表评论的请求，放入参数：文章网址、headers、评论参数、cookies参数，赋值给comment。\n",
    "print(type(login_in),type(comment))\n",
    "print(login_in,comment)\n",
    "\n",
    "#调用cookies的方法就是在post请求中传入cookies=cookies的参数。\n",
    "print(comment.status_code)\n",
    "#打印出comment的状态码，若状态码等于200，则证明我们评论成功。"
   ]
  },
  {
   "cell_type": "code",
   "execution_count": null,
   "metadata": {},
   "outputs": [],
   "source": [
    "import requests,json\n",
    "session = requests.session()\n",
    "#创建会话。\n",
    "headers = {\n",
    "'User-Agent': 'Mozilla/5.0 (Windows NT 10.0; Win64; x64) AppleWebKit/537.36 (KHTML, like Gecko) Chrome/70.0.3538.110 Safari/537.36'\n",
    "}\n",
    "#添加请求头，避免被反爬虫。\n",
    "try:\n",
    "#如果能读取到cookies文件，执行以下代码，跳过except的代码，不用登录就能发表评论。\n",
    "    cookies_txt = open('cookies.txt', 'r')\n",
    "    #以reader读取模式，打开名为cookies.txt的文件。\n",
    "    cookies_dict = json.loads(cookies_txt.read())\n",
    "    #调用json模块的loads函数，把字符串转成字典。\n",
    "    cookies = requests.utils.cookiejar_from_dict(cookies_dict)\n",
    "    #把转成字典的cookies再转成cookies本来的格式。\n",
    "    cookies = session.cookies\n",
    "    #获取会话下的cookies\n",
    "\n",
    "except FileNotFoundError:\n",
    "#如果读取不到cookies文件，程序报“FileNotFoundError”（找不到文件）的错，则执行以下代码，重新登录获取cookies，再评论。\n",
    "\n",
    "    url = ' https://wordpress-edu-3autumn.localprod.forc.work/wp-login.php'\n",
    "    #登录的网址。\n",
    "    data = {'log': input('请输入你的账号:'),\n",
    "            'pwd': input('请输入你的密码:'),\n",
    "            'wp-submit': '登录',\n",
    "            'redirect_to': 'https://wordpress-edu-3autumn.localprod.forc.work/wp-admin/',\n",
    "            'testcookie': '1'}\n",
    "    #登录的参数。\n",
    "    session.post(url, headers=headers, data=data)\n",
    "    #在会话下，用post发起登录请求。\n",
    "\n",
    "    cookies_dict = requests.utils.dict_from_cookiejar(session.cookies)\n",
    "    #把cookies转化成字典。\n",
    "    cookies_str = json.dumps(cookies_dict)\n",
    "    #调用json模块的dump函数，把cookies从字典再转成字符串。\n",
    "    f = open('cookies.txt', 'w')\n",
    "    #创建名为cookies.txt的文件，以写入模式写入内容\n",
    "    f.write(cookies_str)\n",
    "    #把已经转成字符串的cookies写入文件\n",
    "    f.close()\n",
    "    #关闭文件\n",
    "\n",
    "url_1 = 'https://wordpress-edu-3autumn.localprod.forc.work/wp-comments-post.php'\n",
    "#文章的网址。\n",
    "data_1 = {\n",
    "'comment': input('请输入你想评论的内容：'),\n",
    "'submit': '发表评论',\n",
    "'comment_post_ID': '7',\n",
    "'comment_parent': '0'\n",
    "}\n",
    "#评论的参数。\n",
    "session.post(url_1, headers=headers, data=data_1)\n",
    "#在会话下，用post发起评论请求。"
   ]
  },
  {
   "cell_type": "code",
   "execution_count": null,
   "metadata": {},
   "outputs": [],
   "source": []
  },
  {
   "cell_type": "code",
   "execution_count": null,
   "metadata": {},
   "outputs": [],
   "source": []
  },
  {
   "cell_type": "code",
   "execution_count": null,
   "metadata": {},
   "outputs": [],
   "source": []
  },
  {
   "cell_type": "code",
   "execution_count": null,
   "metadata": {},
   "outputs": [],
   "source": []
  },
  {
   "cell_type": "code",
   "execution_count": null,
   "metadata": {},
   "outputs": [],
   "source": []
  },
  {
   "cell_type": "code",
   "execution_count": null,
   "metadata": {},
   "outputs": [],
   "source": []
  },
  {
   "cell_type": "code",
   "execution_count": null,
   "metadata": {},
   "outputs": [],
   "source": []
  },
  {
   "cell_type": "code",
   "execution_count": null,
   "metadata": {},
   "outputs": [],
   "source": []
  },
  {
   "cell_type": "code",
   "execution_count": null,
   "metadata": {},
   "outputs": [],
   "source": []
  },
  {
   "cell_type": "code",
   "execution_count": null,
   "metadata": {},
   "outputs": [],
   "source": []
  },
  {
   "cell_type": "code",
   "execution_count": null,
   "metadata": {},
   "outputs": [],
   "source": []
  },
  {
   "cell_type": "code",
   "execution_count": null,
   "metadata": {},
   "outputs": [],
   "source": []
  },
  {
   "cell_type": "code",
   "execution_count": null,
   "metadata": {},
   "outputs": [],
   "source": []
  },
  {
   "cell_type": "code",
   "execution_count": null,
   "metadata": {},
   "outputs": [],
   "source": []
  },
  {
   "cell_type": "code",
   "execution_count": null,
   "metadata": {},
   "outputs": [],
   "source": []
  },
  {
   "cell_type": "code",
   "execution_count": null,
   "metadata": {},
   "outputs": [],
   "source": []
  },
  {
   "cell_type": "code",
   "execution_count": null,
   "metadata": {},
   "outputs": [],
   "source": []
  },
  {
   "cell_type": "code",
   "execution_count": null,
   "metadata": {},
   "outputs": [],
   "source": []
  },
  {
   "cell_type": "code",
   "execution_count": null,
   "metadata": {},
   "outputs": [],
   "source": []
  },
  {
   "cell_type": "code",
   "execution_count": null,
   "metadata": {},
   "outputs": [],
   "source": []
  },
  {
   "cell_type": "code",
   "execution_count": null,
   "metadata": {},
   "outputs": [],
   "source": []
  },
  {
   "cell_type": "code",
   "execution_count": null,
   "metadata": {},
   "outputs": [],
   "source": []
  },
  {
   "cell_type": "code",
   "execution_count": null,
   "metadata": {},
   "outputs": [],
   "source": []
  },
  {
   "cell_type": "code",
   "execution_count": null,
   "metadata": {},
   "outputs": [],
   "source": []
  },
  {
   "cell_type": "code",
   "execution_count": null,
   "metadata": {},
   "outputs": [],
   "source": []
  },
  {
   "cell_type": "code",
   "execution_count": null,
   "metadata": {},
   "outputs": [],
   "source": []
  },
  {
   "cell_type": "code",
   "execution_count": null,
   "metadata": {},
   "outputs": [],
   "source": []
  },
  {
   "cell_type": "code",
   "execution_count": null,
   "metadata": {},
   "outputs": [],
   "source": []
  },
  {
   "cell_type": "code",
   "execution_count": null,
   "metadata": {},
   "outputs": [],
   "source": []
  },
  {
   "cell_type": "code",
   "execution_count": null,
   "metadata": {},
   "outputs": [],
   "source": []
  },
  {
   "cell_type": "code",
   "execution_count": null,
   "metadata": {},
   "outputs": [],
   "source": []
  },
  {
   "cell_type": "code",
   "execution_count": null,
   "metadata": {},
   "outputs": [],
   "source": []
  },
  {
   "cell_type": "code",
   "execution_count": null,
   "metadata": {},
   "outputs": [],
   "source": []
  },
  {
   "cell_type": "code",
   "execution_count": null,
   "metadata": {},
   "outputs": [],
   "source": []
  },
  {
   "cell_type": "code",
   "execution_count": null,
   "metadata": {},
   "outputs": [],
   "source": []
  },
  {
   "cell_type": "code",
   "execution_count": null,
   "metadata": {},
   "outputs": [],
   "source": []
  },
  {
   "cell_type": "code",
   "execution_count": null,
   "metadata": {},
   "outputs": [],
   "source": []
  },
  {
   "cell_type": "code",
   "execution_count": null,
   "metadata": {},
   "outputs": [],
   "source": []
  },
  {
   "cell_type": "code",
   "execution_count": null,
   "metadata": {},
   "outputs": [],
   "source": []
  }
 ],
 "metadata": {
  "kernelspec": {
   "display_name": "tfcpu",
   "language": "python",
   "name": "tf"
  },
  "language_info": {
   "codemirror_mode": {
    "name": "ipython",
    "version": 3
   },
   "file_extension": ".py",
   "mimetype": "text/x-python",
   "name": "python",
   "nbconvert_exporter": "python",
   "pygments_lexer": "ipython3",
   "version": "3.5.6"
  }
 },
 "nbformat": 4,
 "nbformat_minor": 2
}
