{
 "cells": [
  {
   "cell_type": "code",
   "execution_count": null,
   "metadata": {},
   "outputs": [],
   "source": [
    "from gevent import monkey\n",
    "#从gevent库里导入monkey模块。\n",
    "monkey.patch_all()\n",
    "#monkey.patch_all()能把程序变成协作式运行，就是可以帮助程序实现异步。\n",
    "import gevent,time,requests\n",
    "#导入gevent、time、requests\n",
    "from gevent.queue import Queue\n",
    "#从gevent库里导入queue模块\n",
    "\n",
    "start = time.time()\n",
    "\n",
    "url_list = ['https://www.baidu.com/',\n",
    "'https://www.sina.com.cn/',\n",
    "'http://www.sohu.com/',\n",
    "'https://www.qq.com/',\n",
    "'https://www.163.com/',\n",
    "'http://www.iqiyi.com/',\n",
    "'https://www.tmall.com/',\n",
    "'http://www.ifeng.com/']\n",
    "\n",
    "work = Queue()\n",
    "#创建队列对象，并赋值给work。\n",
    "for url in url_list:\n",
    "#遍历url_list\n",
    "    work.put_nowait(url)\n",
    "    #用put_nowait()函数可以把网址都放进队列里。\n",
    "\n",
    "def crawler():\n",
    "    while not work.empty():\n",
    "    #当队列不是空的时候，就执行下面的程序。\n",
    "        url = work.get_nowait()\n",
    "        #用get_nowait()函数可以把队列里的网址都取出。\n",
    "        r = requests.get(url)\n",
    "        #用requests.get()函数抓取网址。\n",
    "        print(url,work.qsize(),r.status_code)\n",
    "        #打印网址、队列长度、抓取请求的状态码。\n",
    "\n",
    "tasks_list  = [ ]\n",
    "#创建空的任务列表\n",
    "for x in range(2):\n",
    "#相当于创建了2个爬虫\n",
    "    task = gevent.spawn(crawler)\n",
    "    #用gevent.spawn()函数创建执行crawler()函数的任务。\n",
    "    tasks_list.append(task)\n",
    "    #往任务列表添加任务。\n",
    "gevent.joinall(tasks_list)\n",
    "#用gevent.joinall方法，执行任务列表里的所有任务，就是让爬虫开始爬取网站。\n",
    "end = time.time()\n",
    "print(end-start)"
   ]
  },
  {
   "cell_type": "code",
   "execution_count": null,
   "metadata": {},
   "outputs": [],
   "source": []
  },
  {
   "cell_type": "code",
   "execution_count": null,
   "metadata": {},
   "outputs": [],
   "source": []
  },
  {
   "cell_type": "code",
   "execution_count": null,
   "metadata": {},
   "outputs": [],
   "source": []
  },
  {
   "cell_type": "code",
   "execution_count": null,
   "metadata": {},
   "outputs": [],
   "source": []
  },
  {
   "cell_type": "code",
   "execution_count": null,
   "metadata": {},
   "outputs": [],
   "source": []
  },
  {
   "cell_type": "code",
   "execution_count": null,
   "metadata": {},
   "outputs": [],
   "source": []
  },
  {
   "cell_type": "code",
   "execution_count": null,
   "metadata": {},
   "outputs": [],
   "source": []
  },
  {
   "cell_type": "code",
   "execution_count": null,
   "metadata": {},
   "outputs": [],
   "source": []
  },
  {
   "cell_type": "code",
   "execution_count": null,
   "metadata": {},
   "outputs": [],
   "source": []
  },
  {
   "cell_type": "code",
   "execution_count": null,
   "metadata": {},
   "outputs": [],
   "source": []
  }
 ],
 "metadata": {
  "kernelspec": {
   "display_name": "tfcpu",
   "language": "python",
   "name": "tf"
  },
  "language_info": {
   "codemirror_mode": {
    "name": "ipython",
    "version": 3
   },
   "file_extension": ".py",
   "mimetype": "text/x-python",
   "name": "python",
   "nbconvert_exporter": "python",
   "pygments_lexer": "ipython3",
   "version": "3.5.6"
  }
 },
 "nbformat": 4,
 "nbformat_minor": 2
}
