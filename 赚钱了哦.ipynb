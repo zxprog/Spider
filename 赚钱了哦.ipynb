{
 "cells": [
  {
   "cell_type": "code",
   "execution_count": 13,
   "metadata": {},
   "outputs": [
    {
     "name": "stdout",
     "output_type": "stream",
     "text": [
      "<class 'str'>\n",
      "[{\"openDateTime\":\"2019-01-02 23:57:30\",\"issue\":\"723663\",\"openNum\":[10,6,7,9,4,3,2,1,8,5],\"sumArr\":[16,2,1,0],\"dtArr\":[1,2,1,1,1],\"formArr\":[],\"mimcryArr\":[],\"compareArr\":[2,2,2,1,2,1,1,2,1,1],\"sumType\":null,\"wuxing\":null},{\"openDateTime\":\"2019-01-02 23:52:30\",\"issue\":\"723662\",\"openNum\":[1,9,4,5,2,7,3,6,10,8],\"sumArr\":[10,2,2,0],\"dtArr\":[2,2,2,1,2],\"formArr\":[],\"mimcryArr\":[],\"compareArr\":[1,1,2,1,1,2,2,2,1,2],\"sumType\":null,\"wuxing\":null},{\"openDateTime\":\"2019-01-02 23:47:30\",\"issue\":\"723661\",\"openNum\":[9,8,2,3,7,5,6,1,4,10],\"sumArr\":[17,1,1,0],\"dtArr\":[2,1,1,2,1],\"formArr\":[],\"mimcryArr\":[],\"compareArr\":[2,1,1,2,2,2,1,1,1,2],\"sumType\":null,\"wuxing\":null},{\"openDateTime\":\"2019-01-02 23:42:30\",\"issue\":\"723660\",\"openNum\":[3,1,5,9,10,6,2,4,8,7],\"sumArr\":[4,2,2,0],\"dtArr\":[2,2,1,1,1],\"formArr\":[],\"mimcryArr\":[],\"compareArr\":[1,2,1,2,1,2,2,2,1,1],\"sumType\":null,\"wuxing\":null},{\"openDateTime\":\"2019-01-02 23:37:30\",\"issue\":\"723659\",\"openNum\":[2,4,10,9,8,1,7,6,5,3],\"sumArr\":[6,2,2,0],\"dtArr\":[2,2,1,1,1],\"formArr\":[],\"mimcryArr\":[],\"compareArr\":[2,1,2,1,2,2,2,1,1,1],\"sumType\":null,\"wuxing\":null},{\"openDateTime\":\"2019-01-02 23:32:30\",\"issue\":\"723658\",\"openNum\":[4,6,3,7,8,5,10,2,1,9],\"sumArr\":[10,2,2,0],\"dtArr\":[2,1,1,2,1],\"formArr\":[],\"mimcryArr\":[],\"compareArr\":[2,2,1,1,2,1,1,1,2,2],\"sumType\":null,\"wuxing\":null},{\"openDateTime\":\"2019-01-02 23:27:30\",\"issue\":\"723657\",\"openNum\":[7,6,3,9,2,1,5,4,10,8],\"sumArr\":[13,1,1,0],\"dtArr\":[2,2,2,1,1],\"formArr\":[],\"mimcryArr\":[],\"compareArr\":[2,1,1,2,2,1,1,2,1,2],\"sumType\":null,\"wuxing\":null},{\"openDateTime\":\"2019-01-02 23:22:30\",\"issue\":\"723656\",\"openNum\":[6,5,10,8,3,9,7,2,1,4],\"sumArr\":[11,1,2,0],\"dtArr\":[1,1,1,1,2],\"formArr\":[],\"mimcryArr\":[],\"compareArr\":[2,2,1,2,1,1,2,1,2,1],\"sumType\":null,\"wuxing\":null},{\"openDateTime\":\"2019-01-02 23:17:30\",\"issue\":\"723655\",\"openNum\":[5,7,2,9,6,8,10,1,3,4],\"sumArr\":[12,2,1,0],\"dtArr\":[1,1,1,2,2],\"formArr\":[],\"mimcryArr\":[],\"compareArr\":[2,1,2,2,1,1,1,2,1,2],\"sumType\":null,\"wuxing\":null},{\"openDateTime\":\"2019-01-02 23:12:30\",\"issue\":\"723654\",\"openNum\":[3,4,8,9,1,5,2,10,7,6],\"sumArr\":[7,1,2,0],\"dtArr\":[2,2,2,1,2],\"formArr\":[],\"mimcryArr\":[],\"compareArr\":[1,2,1,1,2,2,2,1,1,2],\"sumType\":null,\"wuxing\":null},{\"openDateTime\":\"2019-01-02 23:07:30\",\"issue\":\"723653\",\"openNum\":[6,1,5,2,10,9,7,4,3,8],\"sumArr\":[7,1,2,0],\"dtArr\":[2,2,1,2,1],\"formArr\":[],\"mimcryArr\":[],\"compareArr\":[1,1,2,2,1,1,2,2,2,1],\"sumType\":null,\"wuxing\":null},{\"openDateTime\":\"2019-01-02 23:02:30\",\"issue\":\"723652\",\"openNum\":[3,8,9,6,4,5,10,7,2,1],\"sumArr\":[11,1,2,0],\"dtArr\":[1,1,1,2,2],\"formArr\":[],\"mimcryArr\":[],\"compareArr\":[2,2,1,1,2,1,2,1,1,2],\"sumType\":null,\"wuxing\":null},{\"openDateTime\":\"2019-01-02 22:57:30\",\"issue\":\"723651\",\"openNum\":[9,4,10,5,8,7,6,2,3,1],\"sumArr\":[13,1,1,0],\"dtArr\":[1,1,1,2,1],\"formArr\":[],\"mimcryArr\":[],\"compareArr\":[2,2,2,1,1,2,2,1,1,1],\"sumType\":null,\"wuxing\":null},{\"openDateTime\":\"2019-01-02 22:52:30\",\"issue\":\"723650\",\"openNum\":[4,6,5,8,10,2,1,7,9,3],\"sumArr\":[10,2,2,0],\"dtArr\":[1,2,2,1,1],\"formArr\":[],\"mimcryArr\":[],\"compareArr\":[2,2,2,1,1,1,2,1,2,1],\"sumType\":null,\"wuxing\":null},{\"openDateTime\":\"2019-01-02 22:47:30\",\"issue\":\"723649\",\"openNum\":[7,6,4,8,9,5,3,2,1,10],\"sumArr\":[13,1,1,0],\"dtArr\":[2,1,1,1,1],\"formArr\":[],\"mimcryArr\":[],\"compareArr\":[2,2,2,1,2,1,1,1,1,2],\"sumType\":null,\"wuxing\":null},{\"openDateTime\":\"2019-01-02 22:42:30\",\"issue\":\"723648\",\"openNum\":[7,8,3,6,9,1,5,2,10,4],\"sumArr\":[15,1,1,0],\"dtArr\":[1,2,1,1,1],\"formArr\":[],\"mimcryArr\":[],\"compareArr\":[2,2,1,2,2,1,1,1,1,2],\"sumType\":null,\"wuxing\":null},{\"openDateTime\":\"2019-01-02 22:37:30\",\"issue\":\"723647\",\"openNum\":[9,10,3,8,6,1,2,7,4,5],\"sumArr\":[19,1,1,0],\"dtArr\":[1,1,2,1,1],\"formArr\":[],\"mimcryArr\":[],\"compareArr\":[2,2,1,2,2,1,2,1,1,1],\"sumType\":null,\"wuxing\":null},{\"openDateTime\":\"2019-01-02 22:32:30\",\"issue\":\"723646\",\"openNum\":[10,4,9,8,3,6,2,7,5,1],\"sumArr\":[14,2,1,0],\"dtArr\":[1,2,1,1,2],\"formArr\":[],\"mimcryArr\":[],\"compareArr\":[2,2,1,1,2,2,2,1,1,1],\"sumType\":null,\"wuxing\":null},{\"openDateTime\":\"2019-01-02 22:27:30\",\"issue\":\"723645\",\"openNum\":[10,7,1,5,3,2,6,9,8,4],\"sumArr\":[17,1,1,0],\"dtArr\":[1,2,2,2,1],\"formArr\":[],\"mimcryArr\":[],\"compareArr\":[1,2,1,2,1,2,1,2,2,1],\"sumType\":null,\"wuxing\":null},{\"openDateTime\":\"2019-01-02 22:22:30\",\"issue\":\"723644\",\"openNum\":[3,2,8,6,4,10,9,7,5,1],\"sumArr\":[5,1,2,0],\"dtArr\":[1,2,1,2,2],\"formArr\":[],\"mimcryArr\":[],\"compareArr\":[2,1,1,1,2,1,2,1,2,2],\"sumType\":null,\"wuxing\":null},{\"openDateTime\":\"2019-01-02 22:17:30\",\"issue\":\"723643\",\"openNum\":[5,6,10,1,9,4,2,7,3,8],\"sumArr\":[11,1,2,0],\"dtArr\":[2,1,1,2,1],\"formArr\":[],\"mimcryArr\":[],\"compareArr\":[1,2,2,2,1,1,2,2,1,1],\"sumType\":null,\"wuxing\":null},{\"openDateTime\":\"2019-01-02 22:12:30\",\"issue\":\"723642\",\"openNum\":[8,7,5,1,3,10,4,2,9,6],\"sumArr\":[15,1,1,0],\"dtArr\":[1,2,1,2,2],\"formArr\":[],\"mimcryArr\":[],\"compareArr\":[1,2,1,2,1,2,1,1,2,2],\"sumType\":null,\"wuxing\":null},{\"openDateTime\":\"2019-01-02 22:07:30\",\"issue\":\"723641\",\"openNum\":[5,8,4,1,3,10,6,2,9,7],\"sumArr\":[13,1,1,0],\"dtArr\":[2,2,1,2,2],\"formArr\":[],\"mimcryArr\":[],\"compareArr\":[1,2,1,1,1,2,2,1,2,2],\"sumType\":null,\"wuxing\":null},{\"openDateTime\":\"2019-01-02 22:02:30\",\"issue\":\"723640\",\"openNum\":[8,7,2,3,1,10,6,4,5,9],\"sumArr\":[15,1,1,0],\"dtArr\":[2,1,2,2,2],\"formArr\":[],\"mimcryArr\":[],\"compareArr\":[1,1,1,2,2,2,1,1,2,2],\"sumType\":null,\"wuxing\":null},{\"openDateTime\":\"2019-01-02 21:57:30\",\"issue\":\"723639\",\"openNum\":[8,2,7,10,4,3,6,1,5,9],\"sumArr\":[10,2,2,0],\"dtArr\":[2,2,1,1,1],\"formArr\":[],\"mimcryArr\":[],\"compareArr\":[2,1,2,1,2,2,1,1,2,1],\"sumType\":null,\"wuxing\":null},{\"openDateTime\":\"2019-01-02 21:52:30\",\"issue\":\"723638\",\"openNum\":[1,4,5,7,8,2,9,3,6,10],\"sumArr\":[5,1,2,0],\"dtArr\":[2,2,1,2,1],\"formArr\":[],\"mimcryArr\":[],\"compareArr\":[1,2,2,1,1,2,1,1,2,2],\"sumType\":null,\"wuxing\":null},{\"openDateTime\":\"2019-01-02 21:47:30\",\"issue\":\"723637\",\"openNum\":[4,8,10,7,3,1,9,6,5,2],\"sumArr\":[12,2,1,0],\"dtArr\":[1,1,1,2,1],\"formArr\":[],\"mimcryArr\":[],\"compareArr\":[2,2,1,1,2,2,1,1,2,1],\"sumType\":null,\"wuxing\":null},{\"openDateTime\":\"2019-01-02 21:42:30\",\"issue\":\"723636\",\"openNum\":[9,4,10,2,3,7,8,6,1,5],\"sumArr\":[13,1,1,0],\"dtArr\":[1,1,1,2,2],\"formArr\":[],\"mimcryArr\":[],\"compareArr\":[2,1,1,1,2,2,2,2,1,1],\"sumType\":null,\"wuxing\":null},{\"openDateTime\":\"2019-01-02 21:37:30\",\"issue\":\"723635\",\"openNum\":[7,4,3,6,1,8,2,9,10,5],\"sumArr\":[11,1,2,0],\"dtArr\":[1,2,2,1,2],\"formArr\":[],\"mimcryArr\":[],\"compareArr\":[1,2,1,1,2,1,1,2,2,2],\"sumType\":null,\"wuxing\":null},{\"openDateTime\":\"2019-01-02 21:32:30\",\"issue\":\"723634\",\"openNum\":[6,2,9,7,10,1,4,3,5,8],\"sumArr\":[8,2,2,0],\"dtArr\":[2,2,1,1,1],\"formArr\":[],\"mimcryArr\":[],\"compareArr\":[2,1,2,2,2,1,1,2,1,1],\"sumType\":null,\"wuxing\":null},{\"openDateTime\":\"2019-01-02 21:27:30\",\"issue\":\"723633\",\"openNum\":[9,4,6,7,3,1,8,5,10,2],\"sumArr\":[13,1,1,0],\"dtArr\":[1,2,1,2,1],\"formArr\":[],\"mimcryArr\":[],\"compareArr\":[2,2,1,1,2,1,1,2,1,2],\"sumType\":null,\"wuxing\":null},{\"openDateTime\":\"2019-01-02 21:22:30\",\"issue\":\"723632\",\"openNum\":[8,5,7,4,6,2,10,1,9,3],\"sumArr\":[13,1,1,0],\"dtArr\":[1,2,1,2,1],\"formArr\":[],\"mimcryArr\":[],\"compareArr\":[2,2,2,1,1,1,1,1,2,2],\"sumType\":null,\"wuxing\":null},{\"openDateTime\":\"2019-01-02 21:17:30\",\"issue\":\"723631\",\"openNum\":[5,6,2,9,10,1,7,4,8,3],\"sumArr\":[11,1,2,0],\"dtArr\":[1,2,2,1,1],\"formArr\":[],\"mimcryArr\":[],\"compareArr\":[2,1,2,2,1,1,2,2,1,1],\"sumType\":null,\"wuxing\":null},{\"openDateTime\":\"2019-01-02 21:12:30\",\"issue\":\"723630\",\"openNum\":[7,9,5,6,1,4,2,8,10,3],\"sumArr\":[16,2,1,0],\"dtArr\":[1,2,2,1,2],\"formArr\":[],\"mimcryArr\":[],\"compareArr\":[1,2,2,2,1,1,1,2,1,2],\"sumType\":null,\"wuxing\":null},{\"openDateTime\":\"2019-01-02 21:07:30\",\"issue\":\"723629\",\"openNum\":[3,4,10,7,6,9,2,1,5,8],\"sumArr\":[7,1,2,0],\"dtArr\":[2,2,1,1,2],\"formArr\":[],\"mimcryArr\":[],\"compareArr\":[2,2,1,1,2,1,1,2,2,1],\"sumType\":null,\"wuxing\":null},{\"openDateTime\":\"2019-01-02 21:02:30\",\"issue\":\"723628\",\"openNum\":[9,7,4,2,10,8,1,3,6,5],\"sumArr\":[16,2,1,0],\"dtArr\":[1,1,1,1,1],\"formArr\":[],\"mimcryArr\":[],\"compareArr\":[2,1,2,1,2,2,1,2,1,1],\"sumType\":null,\"wuxing\":null},{\"openDateTime\":\"2019-01-02 20:57:30\",\"issue\":\"723627\",\"openNum\":[10,9,7,1,3,8,2,6,5,4],\"sumArr\":[19,1,1,0],\"dtArr\":[1,1,1,2,2],\"formArr\":[],\"mimcryArr\":[],\"compareArr\":[1,2,1,2,2,2,1,2,1,1],\"sumType\":null,\"wuxing\":null},{\"openDateTime\":\"2019-01-02 20:52:30\",\"issue\":\"723626\",\"openNum\":[4,5,8,7,6,2,1,10,9,3],\"sumArr\":[9,1,2,0],\"dtArr\":[1,2,2,1,1],\"formArr\":[],\"mimcryArr\":[],\"compareArr\":[2,2,2,1,1,1,1,1,2,2],\"sumType\":null,\"wuxing\":null},{\"openDateTime\":\"2019-01-02 20:47:30\",\"issue\":\"723625\",\"openNum\":[7,5,9,4,2,3,10,6,8,1],\"sumArr\":[12,2,1,0],\"dtArr\":[1,2,1,2,2],\"formArr\":[],\"mimcryArr\":[],\"compareArr\":[2,1,2,1,1,2,1,2,1,2],\"sumType\":null,\"wuxing\":null},{\"openDateTime\":\"2019-01-02 20:42:30\",\"issue\":\"723624\",\"openNum\":[9,5,2,4,6,7,1,3,10,8],\"sumArr\":[14,2,1,0],\"dtArr\":[1,2,2,1,2],\"formArr\":[],\"mimcryArr\":[],\"compareArr\":[2,1,2,1,1,1,2,2,1,2],\"sumType\":null,\"wuxing\":null},{\"openDateTime\":\"2019-01-02 20:37:30\",\"issue\":\"723623\",\"openNum\":[3,6,1,9,8,4,5,2,10,7],\"sumArr\":[9,1,2,0],\"dtArr\":[2,2,2,1,1],\"formArr\":[],\"mimcryArr\":[],\"compareArr\":[1,2,1,2,2,1,2,1,1,2],\"sumType\":null,\"wuxing\":null},{\"openDateTime\":\"2019-01-02 20:32:30\",\"issue\":\"723622\",\"openNum\":[3,5,7,10,9,8,6,2,1,4],\"sumArr\":[8,2,2,0],\"dtArr\":[2,1,1,1,1],\"formArr\":[],\"mimcryArr\":[],\"compareArr\":[2,2,1,2,1,2,1,2,1,1],\"sumType\":null,\"wuxing\":null},{\"openDateTime\":\"2019-01-02 20:27:30\",\"issue\":\"723621\",\"openNum\":[9,8,3,1,2,6,10,7,4,5],\"sumArr\":[17,1,1,0],\"dtArr\":[1,1,2,2,2],\"formArr\":[],\"mimcryArr\":[],\"compareArr\":[1,1,1,2,2,2,2,1,1,2],\"sumType\":null,\"wuxing\":null},{\"openDateTime\":\"2019-01-02 20:22:30\",\"issue\":\"723620\",\"openNum\":[3,2,7,10,1,5,9,6,8,4],\"sumArr\":[5,1,2,0],\"dtArr\":[2,2,1,1,2],\"formArr\":[],\"mimcryArr\":[],\"compareArr\":[1,1,1,2,2,2,1,2,2,1],\"sumType\":null,\"wuxing\":null},{\"openDateTime\":\"2019-01-02 20:17:30\",\"issue\":\"723619\",\"openNum\":[3,8,10,5,2,1,7,4,6,9],\"sumArr\":[11,1,2,0],\"dtArr\":[2,1,1,2,1],\"formArr\":[],\"mimcryArr\":[],\"compareArr\":[2,1,1,2,1,2,2,1,2,1],\"sumType\":null,\"wuxing\":null},{\"openDateTime\":\"2019-01-02 20:12:30\",\"issue\":\"723618\",\"openNum\":[4,5,6,1,7,9,10,2,8,3],\"sumArr\":[9,1,2,0],\"dtArr\":[1,2,1,2,2],\"formArr\":[],\"mimcryArr\":[],\"compareArr\":[1,2,2,1,1,1,1,2,2,2],\"sumType\":null,\"wuxing\":null},{\"openDateTime\":\"2019-01-02 20:07:30\",\"issue\":\"723617\",\"openNum\":[1,3,10,8,9,6,2,5,4,7],\"sumArr\":[4,2,2,0],\"dtArr\":[2,2,1,1,1],\"formArr\":[],\"mimcryArr\":[],\"compareArr\":[1,2,1,2,2,2,2,1,1,1],\"sumType\":null,\"wuxing\":null},{\"openDateTime\":\"2019-01-02 20:02:30\",\"issue\":\"723616\",\"openNum\":[4,9,6,2,10,5,7,3,8,1],\"sumArr\":[13,1,1,0],\"dtArr\":[1,1,1,2,1],\"formArr\":[],\"mimcryArr\":[],\"compareArr\":[2,1,2,1,2,1,2,2,1,1],\"sumType\":null,\"wuxing\":null},{\"openDateTime\":\"2019-01-02 19:57:30\",\"issue\":\"723615\",\"openNum\":[6,4,7,3,8,2,10,9,1,5],\"sumArr\":[10,2,2,0],\"dtArr\":[1,1,2,2,1],\"formArr\":[],\"mimcryArr\":[],\"compareArr\":[2,2,1,1,2,1,1,1,2,2],\"sumType\":null,\"wuxing\":null},{\"openDateTime\":\"2019-01-02 19:52:30\",\"issue\":\"723614\",\"openNum\":[8,2,7,1,10,5,9,3,6,4],\"sumArr\":[10,2,2,0],\"dtArr\":[1,2,1,2,1],\"formArr\":[],\"mimcryArr\":[],\"compareArr\":[1,1,2,2,2,2,1,1,2,1],\"sumType\":null,\"wuxing\":null},{\"openDateTime\":\"2019-01-02 19:47:30\",\"issue\":\"723613\",\"openNum\":[4,3,2,6,9,1,7,5,8,10],\"sumArr\":[7,1,2,0],\"dtArr\":[2,2,2,2,1],\"formArr\":[],\"mimcryArr\":[],\"compareArr\":[2,1,1,1,2,1,2,2,1,2],\"sumType\":null,\"wuxing\":null},{\"openDateTime\":\"2019-01-02 19:42:30\",\"issue\":\"723612\",\"openNum\":[4,8,6,7,3,5,9,10,2,1],\"sumArr\":[12,2,1,0],\"dtArr\":[1,1,2,2,2],\"formArr\":[],\"mimcryArr\":[],\"compareArr\":[2,2,1,1,2,1,1,1,2,2],\"sumType\":null,\"wuxing\":null},{\"openDateTime\":\"2019-01-02 19:37:30\",\"issue\":\"723611\",\"openNum\":[2,6,10,3,8,7,9,4,1,5],\"sumArr\":[8,2,2,0],\"dtArr\":[2,1,1,2,1],\"formArr\":[],\"mimcryArr\":[],\"compareArr\":[2,1,1,2,2,1,2,1,2,1],\"sumType\":null,\"wuxing\":null},{\"openDateTime\":\"2019-01-02 19:32:30\",\"issue\":\"723610\",\"openNum\":[2,10,9,1,3,8,5,4,7,6],\"sumArr\":[12,2,1,0],\"dtArr\":[2,1,1,2,2],\"formArr\":[],\"mimcryArr\":[],\"compareArr\":[1,1,1,2,2,2,2,2,1,1],\"sumType\":null,\"wuxing\":null},{\"openDateTime\":\"2019-01-02 19:27:30\",\"issue\":\"723609\",\"openNum\":[9,2,1,10,6,8,5,4,7,3],\"sumArr\":[11,1,2,0],\"dtArr\":[1,2,2,1,2],\"formArr\":[],\"mimcryArr\":[],\"compareArr\":[1,1,2,2,2,1,2,2,1,1],\"sumType\":null,\"wuxing\":null},{\"openDateTime\":\"2019-01-02 19:22:30\",\"issue\":\"723608\",\"openNum\":[8,4,9,3,6,1,7,5,10,2],\"sumArr\":[12,2,1,0],\"dtArr\":[1,2,1,2,1],\"formArr\":[],\"mimcryArr\":[],\"compareArr\":[2,2,1,1,2,1,2,1,1,2],\"sumType\":null,\"wuxing\":null},{\"openDateTime\":\"2019-01-02 19:17:30\",\"issue\":\"723607\",\"openNum\":[4,8,2,10,7,1,5,3,6,9],\"sumArr\":[12,2,1,0],\"dtArr\":[2,1,2,1,1],\"formArr\":[],\"mimcryArr\":[],\"compareArr\":[2,1,2,1,2,2,1,1,2,1],\"sumType\":null,\"wuxing\":null},{\"openDateTime\":\"2019-01-02 19:12:30\",\"issue\":\"723606\",\"openNum\":[6,7,2,8,10,4,9,3,5,1],\"sumArr\":[13,1,1,0],\"dtArr\":[1,1,2,2,1],\"formArr\":[],\"mimcryArr\":[],\"compareArr\":[2,1,2,2,2,1,1,1,2,1],\"sumType\":null,\"wuxing\":null},{\"openDateTime\":\"2019-01-02 19:07:30\",\"issue\":\"723605\",\"openNum\":[4,10,1,6,5,7,3,2,8,9],\"sumArr\":[14,2,1,0],\"dtArr\":[2,1,2,1,2],\"formArr\":[],\"mimcryArr\":[],\"compareArr\":[1,2,2,1,1,1,2,2,2,1],\"sumType\":null,\"wuxing\":null},{\"openDateTime\":\"2019-01-02 19:02:30\",\"issue\":\"723604\",\"openNum\":[1,4,3,6,10,9,2,8,7,5],\"sumArr\":[5,1,2,0],\"dtArr\":[2,2,2,1,1],\"formArr\":[],\"mimcryArr\":[],\"compareArr\":[1,2,1,1,2,1,2,2,2,1],\"sumType\":null,\"wuxing\":null},{\"openDateTime\":\"2019-01-02 18:57:30\",\"issue\":\"723603\",\"openNum\":[4,9,1,8,3,10,6,2,7,5],\"sumArr\":[13,1,1,0],\"dtArr\":[2,1,2,1,2],\"formArr\":[],\"mimcryArr\":[],\"compareArr\":[1,2,1,1,2,2,2,1,1,2],\"sumType\":null,\"wuxing\":null},{\"openDateTime\":\"2019-01-02 18:52:30\",\"issue\":\"723602\",\"openNum\":[2,10,3,6,4,9,8,7,5,1],\"sumArr\":[12,2,1,0],\"dtArr\":[1,1,2,2,2],\"formArr\":[],\"mimcryArr\":[],\"compareArr\":[2,1,1,1,2,1,2,2,2,1],\"sumType\":null,\"wuxing\":null},{\"openDateTime\":\"2019-01-02 18:47:30\",\"issue\":\"723601\",\"openNum\":[5,2,8,9,7,3,6,1,10,4],\"sumArr\":[7,1,2,0],\"dtArr\":[1,2,1,1,1],\"formArr\":[],\"mimcryArr\":[],\"compareArr\":[2,1,2,2,1,2,1,1,1,2],\"sumType\":null,\"wuxing\":null},{\"openDateTime\":\"2019-01-02 18:42:30\",\"issue\":\"723600\",\"openNum\":[8,3,10,1,9,6,2,4,7,5],\"sumArr\":[11,1,2,0],\"dtArr\":[1,2,1,2,1],\"formArr\":[],\"mimcryArr\":[],\"compareArr\":[1,2,1,2,2,2,2,1,1,1],\"sumType\":null,\"wuxing\":null},{\"openDateTime\":\"2019-01-02 18:37:30\",\"issue\":\"723599\",\"openNum\":[4,5,6,10,9,7,1,8,2,3],\"sumArr\":[9,1,2,0],\"dtArr\":[1,1,2,1,1],\"formArr\":[],\"mimcryArr\":[],\"compareArr\":[2,2,2,1,1,1,2,2,1,1],\"sumType\":null,\"wuxing\":null},{\"openDateTime\":\"2019-01-02 18:32:30\",\"issue\":\"723598\",\"openNum\":[1,10,9,4,3,5,2,6,7,8],\"sumArr\":[11,1,2,0],\"dtArr\":[2,1,1,1,2],\"formArr\":[],\"mimcryArr\":[],\"compareArr\":[1,2,1,1,2,2,2,2,1,1],\"sumType\":null,\"wuxing\":null},{\"openDateTime\":\"2019-01-02 18:27:30\",\"issue\":\"723597\",\"openNum\":[2,6,9,10,3,4,1,5,8,7],\"sumArr\":[8,2,2,0],\"dtArr\":[2,2,1,1,2],\"formArr\":[],\"mimcryArr\":[],\"compareArr\":[2,1,1,2,2,1,2,2,1,1],\"sumType\":null,\"wuxing\":null},{\"openDateTime\":\"2019-01-02 18:22:30\",\"issue\":\"723596\",\"openNum\":[9,10,4,1,8,7,2,6,5,3],\"sumArr\":[19,1,1,0],\"dtArr\":[1,1,2,2,1],\"formArr\":[],\"mimcryArr\":[],\"compareArr\":[1,2,2,1,2,2,2,1,1,1],\"sumType\":null,\"wuxing\":null},{\"openDateTime\":\"2019-01-02 18:17:30\",\"issue\":\"723595\",\"openNum\":[10,2,8,6,9,3,1,5,4,7],\"sumArr\":[12,2,1,0],\"dtArr\":[1,2,1,1,1],\"formArr\":[],\"mimcryArr\":[],\"compareArr\":[2,1,2,2,2,1,2,1,1,1],\"sumType\":null,\"wuxing\":null},{\"openDateTime\":\"2019-01-02 18:12:30\",\"issue\":\"723594\",\"openNum\":[1,4,10,6,9,7,2,5,3,8],\"sumArr\":[5,1,2,0],\"dtArr\":[2,1,1,1,1],\"formArr\":[],\"mimcryArr\":[],\"compareArr\":[1,2,2,1,2,1,2,2,1,1],\"sumType\":null,\"wuxing\":null},{\"openDateTime\":\"2019-01-02 18:07:30\",\"issue\":\"723593\",\"openNum\":[8,4,10,7,3,2,6,9,1,5],\"sumArr\":[12,2,1,0],\"dtArr\":[1,1,1,1,1],\"formArr\":[],\"mimcryArr\":[],\"compareArr\":[2,2,1,1,2,2,1,1,2,1],\"sumType\":null,\"wuxing\":null},{\"openDateTime\":\"2019-01-02 18:02:30\",\"issue\":\"723592\",\"openNum\":[10,7,1,2,6,3,4,5,8,9],\"sumArr\":[17,1,1,0],\"dtArr\":[1,2,2,2,1],\"formArr\":[],\"mimcryArr\":[],\"compareArr\":[1,1,2,2,2,1,1,2,2,1],\"sumType\":null,\"wuxing\":null},{\"openDateTime\":\"2019-01-02 17:57:30\",\"issue\":\"723591\",\"openNum\":[2,3,7,4,10,9,6,1,5,8],\"sumArr\":[5,1,2,0],\"dtArr\":[2,2,1,2,1],\"formArr\":[],\"mimcryArr\":[],\"compareArr\":[2,1,1,1,2,2,1,2,2,1],\"sumType\":null,\"wuxing\":null},{\"openDateTime\":\"2019-01-02 17:52:30\",\"issue\":\"723590\",\"openNum\":[5,4,7,1,2,3,9,8,6,10],\"sumArr\":[9,1,2,0],\"dtArr\":[2,2,2,2,2],\"formArr\":[],\"mimcryArr\":[],\"compareArr\":[1,1,2,1,1,2,1,2,2,2],\"sumType\":null,\"wuxing\":null},{\"openDateTime\":\"2019-01-02 17:47:30\",\"issue\":\"723589\",\"openNum\":[9,5,6,10,3,1,8,2,7,4],\"sumArr\":[14,2,1,0],\"dtArr\":[1,2,1,1,1],\"formArr\":[],\"mimcryArr\":[],\"compareArr\":[2,2,1,2,1,1,2,2,1,1],\"sumType\":null,\"wuxing\":null},{\"openDateTime\":\"2019-01-02 17:42:30\",\"issue\":\"723588\",\"openNum\":[10,2,7,1,3,8,9,4,5,6],\"sumArr\":[12,2,1,0],\"dtArr\":[1,2,1,2,2],\"formArr\":[],\"mimcryArr\":[],\"compareArr\":[1,1,1,2,2,2,1,2,2,1],\"sumType\":null,\"wuxing\":null},{\"openDateTime\":\"2019-01-02 17:37:30\",\"issue\":\"723587\",\"openNum\":[5,2,3,9,7,6,8,4,10,1],\"sumArr\":[7,1,2,0],\"dtArr\":[1,2,2,1,1],\"formArr\":[],\"mimcryArr\":[],\"compareArr\":[2,1,1,2,1,2,1,2,1,2],\"sumType\":null,\"wuxing\":null},{\"openDateTime\":\"2019-01-02 17:32:30\",\"issue\":\"723586\",\"openNum\":[7,8,5,2,10,6,9,1,3,4],\"sumArr\":[15,1,1,0],\"dtArr\":[1,1,1,2,1],\"formArr\":[],\"mimcryArr\":[],\"compareArr\":[2,1,2,2,1,2,1,1,2,1],\"sumType\":null,\"wuxing\":null},{\"openDateTime\":\"2019-01-02 17:27:30\",\"issue\":\"723585\",\"openNum\":[3,8,5,1,4,9,7,2,6,10],\"sumArr\":[11,1,2,0],\"dtArr\":[2,1,1,2,2],\"formArr\":[],\"mimcryArr\":[],\"compareArr\":[1,2,1,1,1,2,2,1,2,2],\"sumType\":null,\"wuxing\":null},{\"openDateTime\":\"2019-01-02 17:22:30\",\"issue\":\"723584\",\"openNum\":[4,5,1,6,9,10,7,3,8,2],\"sumArr\":[9,1,2,0],\"dtArr\":[1,2,2,2,2],\"formArr\":[],\"mimcryArr\":[],\"compareArr\":[1,2,2,1,1,1,2,2,1,2],\"sumType\":null,\"wuxing\":null},{\"openDateTime\":\"2019-01-02 17:17:30\",\"issue\":\"723583\",\"openNum\":[8,7,10,9,5,1,6,3,4,2],\"sumArr\":[15,1,1,0],\"dtArr\":[1,1,1,1,1],\"formArr\":[],\"mimcryArr\":[],\"compareArr\":[2,2,2,2,1,2,1,1,1,1],\"sumType\":null,\"wuxing\":null},{\"openDateTime\":\"2019-01-02 17:12:30\",\"issue\":\"723582\",\"openNum\":[1,5,9,3,7,4,8,2,10,6],\"sumArr\":[6,2,2,0],\"dtArr\":[2,2,1,2,1],\"formArr\":[],\"mimcryArr\":[],\"compareArr\":[1,2,1,2,1,2,1,2,1,2],\"sumType\":null,\"wuxing\":null},{\"openDateTime\":\"2019-01-02 17:07:30\",\"issue\":\"723581\",\"openNum\":[9,10,4,5,1,6,2,8,7,3],\"sumArr\":[19,1,1,0],\"dtArr\":[1,1,2,1,2],\"formArr\":[],\"mimcryArr\":[],\"compareArr\":[1,2,2,1,1,2,2,2,1,1],\"sumType\":null,\"wuxing\":null},{\"openDateTime\":\"2019-01-02 17:02:30\",\"issue\":\"723580\",\"openNum\":[8,5,7,1,9,3,10,4,2,6],\"sumArr\":[13,1,1,0],\"dtArr\":[1,1,1,2,1],\"formArr\":[],\"mimcryArr\":[],\"compareArr\":[1,2,2,2,1,2,1,1,1,2],\"sumType\":null,\"wuxing\":null},{\"openDateTime\":\"2019-01-02 16:57:30\",\"issue\":\"723579\",\"openNum\":[10,6,2,4,8,1,7,5,9,3],\"sumArr\":[16,2,1,0],\"dtArr\":[1,2,2,2,1],\"formArr\":[],\"mimcryArr\":[],\"compareArr\":[2,1,2,1,2,1,2,1,2,1],\"sumType\":null,\"wuxing\":null},{\"openDateTime\":\"2019-01-02 16:52:30\",\"issue\":\"723578\",\"openNum\":[10,3,1,7,8,9,2,5,6,4],\"sumArr\":[13,1,1,0],\"dtArr\":[1,2,2,1,2],\"formArr\":[],\"mimcryArr\":[],\"compareArr\":[1,2,1,2,2,2,1,1,2,1],\"sumType\":null,\"wuxing\":null},{\"openDateTime\":\"2019-01-02 16:47:30\",\"issue\":\"723577\",\"openNum\":[3,7,9,10,5,8,4,2,6,1],\"sumArr\":[10,2,2,0],\"dtArr\":[1,1,1,1,2],\"formArr\":[],\"mimcryArr\":[],\"compareArr\":[2,2,1,2,1,2,1,2,1,1],\"sumType\":null,\"wuxing\":null},{\"openDateTime\":\"2019-01-02 16:37:30\",\"issue\":\"723575\",\"openNum\":[9,6,4,2,10,5,3,1,7,8],\"sumArr\":[15,1,1,0],\"dtArr\":[1,2,1,2,1],\"formArr\":[],\"mimcryArr\":[],\"compareArr\":[2,1,2,1,2,1,2,2,1,1],\"sumType\":null,\"wuxing\":null},{\"openDateTime\":\"2019-01-02 16:32:30\",\"issue\":\"723574\",\"openNum\":[8,4,6,10,3,1,2,7,5,9],\"sumArr\":[12,2,1,0],\"dtArr\":[2,2,2,1,1],\"formArr\":[],\"mimcryArr\":[],\"compareArr\":[2,2,1,1,2,1,2,1,2,1],\"sumType\":null,\"wuxing\":null},{\"openDateTime\":\"2019-01-02 16:27:30\",\"issue\":\"723573\",\"openNum\":[8,1,7,5,3,2,9,4,10,6],\"sumArr\":[9,1,2,0],\"dtArr\":[1,2,1,2,1],\"formArr\":[],\"mimcryArr\":[],\"compareArr\":[1,2,1,2,1,2,1,1,2,2],\"sumType\":null,\"wuxing\":null},{\"openDateTime\":\"2019-01-02 16:22:30\",\"issue\":\"723572\",\"openNum\":[9,7,2,1,8,3,10,5,6,4],\"sumArr\":[16,2,1,0],\"dtArr\":[1,1,2,2,1],\"formArr\":[],\"mimcryArr\":[],\"compareArr\":[1,1,2,2,2,2,1,1,1,2],\"sumType\":null,\"wuxing\":null},{\"openDateTime\":\"2019-01-02 16:17:30\",\"issue\":\"723571\",\"openNum\":[9,3,5,2,4,10,7,6,8,1],\"sumArr\":[12,2,1,0],\"dtArr\":[1,2,2,2,2],\"formArr\":[],\"mimcryArr\":[],\"compareArr\":[2,1,1,1,1,2,2,2,1,2],\"sumType\":null,\"wuxing\":null},{\"openDateTime\":\"2019-01-02 16:12:30\",\"issue\":\"723570\",\"openNum\":[6,1,2,3,5,4,7,8,9,10],\"sumArr\":[7,1,2,0],\"dtArr\":[2,2,2,2,1],\"formArr\":[],\"mimcryArr\":[],\"compareArr\":[1,1,1,2,1,1,2,2,2,2],\"sumType\":null,\"wuxing\":null},{\"openDateTime\":\"2019-01-02 16:07:30\",\"issue\":\"723569\",\"openNum\":[9,5,4,8,10,1,3,6,7,2],\"sumArr\":[14,2,1,0],\"dtArr\":[1,2,2,1,1],\"formArr\":[],\"mimcryArr\":[],\"compareArr\":[2,2,2,1,1,2,2,1,1,1],\"sumType\":null,\"wuxing\":null},{\"openDateTime\":\"2019-01-02 16:02:30\",\"issue\":\"723568\",\"openNum\":[4,10,9,7,8,1,2,6,5,3],\"sumArr\":[14,2,1,0],\"dtArr\":[1,1,1,1,1],\"formArr\":[],\"mimcryArr\":[],\"compareArr\":[2,2,2,1,2,2,1,1,1,1],\"sumType\":null,\"wuxing\":null},{\"openDateTime\":\"2019-01-02 15:57:30\",\"issue\":\"723567\",\"openNum\":[1,5,9,6,8,3,4,7,10,2],\"sumArr\":[6,2,2,0],\"dtArr\":[2,2,1,1,1],\"formArr\":[],\"mimcryArr\":[],\"compareArr\":[1,2,2,2,1,1,2,1,1,2],\"sumType\":null,\"wuxing\":null},{\"openDateTime\":\"2019-01-02 15:52:30\",\"issue\":\"723566\",\"openNum\":[1,10,4,6,5,3,2,8,7,9],\"sumArr\":[11,1,2,0],\"dtArr\":[2,1,2,1,1],\"formArr\":[],\"mimcryArr\":[],\"compareArr\":[1,2,2,1,1,1,2,2,2,1],\"sumType\":null,\"wuxing\":null},{\"openDateTime\":\"2019-01-02 15:47:30\",\"issue\":\"723565\",\"openNum\":[5,2,9,6,8,10,7,3,1,4],\"sumArr\":[7,1,2,0],\"dtArr\":[1,1,1,2,2],\"formArr\":[],\"mimcryArr\":[],\"compareArr\":[2,1,2,2,1,1,2,1,1,2],\"sumType\":null,\"wuxing\":null},{\"openDateTime\":\"2019-01-02 15:42:30\",\"issue\":\"723564\",\"openNum\":[4,8,10,3,6,9,5,2,7,1],\"sumArr\":[12,2,1,0],\"dtArr\":[1,1,1,2,2],\"formArr\":[],\"mimcryArr\":[],\"compareArr\":[2,2,1,1,2,1,2,1,2,1],\"sumType\":null,\"wuxing\":null},{\"openDateTime\":\"2019-01-02 15:37:30\",\"issue\":\"723563\",\"openNum\":[1,2,7,10,9,6,4,5,3,8],\"sumArr\":[3,1,2,0],\"dtArr\":[2,2,1,1,1],\"formArr\":[],\"mimcryArr\":[],\"compareArr\":[1,1,2,2,2,2,1,2,1,1],\"sumType\":null,\"wuxing\":null},{\"openDateTime\":\"2019-01-02 15:32:30\",\"issue\":\"723562\",\"openNum\":[9,10,6,8,1,2,5,7,3,4],\"sumArr\":[19,1,1,0],\"dtArr\":[1,1,2,1,2],\"formArr\":[],\"mimcryArr\":[],\"compareArr\":[1,2,2,2,2,1,2,1,1,1],\"sumType\":null,\"wuxing\":null},{\"openDateTime\":\"2019-01-02 15:27:30\",\"issue\":\"723561\",\"openNum\":[7,2,6,9,1,10,5,3,8,4],\"sumArr\":[9,1,2,0],\"dtArr\":[1,2,1,1,2],\"formArr\":[],\"mimcryArr\":[],\"compareArr\":[1,1,2,2,2,1,1,2,1,2],\"sumType\":null,\"wuxing\":null},{\"openDateTime\":\"2019-01-02 15:22:30\",\"issue\":\"723560\",\"openNum\":[4,1,2,10,6,9,5,7,3,8],\"sumArr\":[5,1,2,0],\"dtArr\":[2,2,2,1,2],\"formArr\":[],\"mimcryArr\":[],\"compareArr\":[1,1,2,1,2,1,2,2,2,1],\"sumType\":null,\"wuxing\":null},{\"openDateTime\":\"2019-01-02 15:17:30\",\"issue\":\"723559\",\"openNum\":[6,3,10,1,9,8,7,5,2,4],\"sumArr\":[9,1,2,0],\"dtArr\":[1,1,1,2,1],\"formArr\":[],\"mimcryArr\":[],\"compareArr\":[1,2,1,2,2,1,2,2,1,1],\"sumType\":null,\"wuxing\":null},{\"openDateTime\":\"2019-01-02 15:12:30\",\"issue\":\"723558\",\"openNum\":[1,10,9,7,3,6,5,2,4,8],\"sumArr\":[11,1,2,0],\"dtArr\":[2,1,1,1,2],\"formArr\":[],\"mimcryArr\":[],\"compareArr\":[1,2,1,2,2,2,1,2,1,1],\"sumType\":null,\"wuxing\":null},{\"openDateTime\":\"2019-01-02 15:07:30\",\"issue\":\"723557\",\"openNum\":[4,9,8,7,5,3,1,10,6,2],\"sumArr\":[13,1,1,0],\"dtArr\":[1,1,2,1,1],\"formArr\":[],\"mimcryArr\":[],\"compareArr\":[2,2,2,1,1,2,1,1,1,2],\"sumType\":null,\"wuxing\":null},{\"openDateTime\":\"2019-01-02 15:02:30\",\"issue\":\"723556\",\"openNum\":[4,9,7,8,3,1,6,2,5,10],\"sumArr\":[13,1,1,0],\"dtArr\":[2,1,1,1,1],\"formArr\":[],\"mimcryArr\":[],\"compareArr\":[2,2,1,1,2,2,1,1,1,2],\"sumType\":null,\"wuxing\":null},{\"openDateTime\":\"2019-01-02 14:57:30\",\"issue\":\"723555\",\"openNum\":[4,10,3,9,2,1,5,6,7,8],\"sumArr\":[14,2,1,0],\"dtArr\":[2,1,2,1,1],\"formArr\":[],\"mimcryArr\":[],\"compareArr\":[2,1,1,1,2,2,2,2,1,1],\"sumType\":null,\"wuxing\":null},{\"openDateTime\":\"2019-01-02 14:52:30\",\"issue\":\"723554\",\"openNum\":[5,8,6,9,1,4,7,10,3,2],\"sumArr\":[13,1,1,0],\"dtArr\":[1,1,2,1,2],\"formArr\":[],\"mimcryArr\":[],\"compareArr\":[1,2,2,2,1,1,2,1,1,2],\"sumType\":null,\"wuxing\":null},{\"openDateTime\":\"2019-01-02 14:47:30\",\"issue\":\"723553\",\"openNum\":[9,7,6,1,2,4,10,8,3,5],\"sumArr\":[16,2,1,0],\"dtArr\":[1,1,2,2,2],\"formArr\":[],\"mimcryArr\":[],\"compareArr\":[1,1,2,2,2,1,1,2,1,2],\"sumType\":null,\"wuxing\":null},{\"openDateTime\":\"2019-01-02 14:42:30\",\"issue\":\"723552\",\"openNum\":[4,7,6,5,10,1,9,3,8,2],\"sumArr\":[11,1,2,0],\"dtArr\":[1,2,1,2,1],\"formArr\":[],\"mimcryArr\":[],\"compareArr\":[2,2,2,1,1,1,1,2,2,1],\"sumType\":null,\"wuxing\":null},{\"openDateTime\":\"2019-01-02 14:37:30\",\"issue\":\"723551\",\"openNum\":[6,3,4,1,2,8,10,7,5,9],\"sumArr\":[9,1,2,0],\"dtArr\":[2,2,2,2,2],\"formArr\":[],\"mimcryArr\":[],\"compareArr\":[1,1,1,1,2,1,2,2,2,2],\"sumType\":null,\"wuxing\":null},{\"openDateTime\":\"2019-01-02 14:32:30\",\"issue\":\"723550\",\"openNum\":[2,8,9,4,3,7,5,10,6,1],\"sumArr\":[10,2,2,0],\"dtArr\":[1,1,2,2,2],\"formArr\":[],\"mimcryArr\":[],\"compareArr\":[2,1,1,1,2,2,2,1,1,2],\"sumType\":null,\"wuxing\":null},{\"openDateTime\":\"2019-01-02 14:27:30\",\"issue\":\"723549\",\"openNum\":[10,6,2,3,8,4,7,5,9,1],\"sumArr\":[16,2,1,0],\"dtArr\":[1,2,2,2,1],\"formArr\":[],\"mimcryArr\":[],\"compareArr\":[2,1,1,2,2,1,2,1,2,1],\"sumType\":null,\"wuxing\":null},{\"openDateTime\":\"2019-01-02 14:22:30\",\"issue\":\"723548\",\"openNum\":[5,6,9,3,8,1,2,4,10,7],\"sumArr\":[11,1,2,0],\"dtArr\":[2,2,1,1,1],\"formArr\":[],\"mimcryArr\":[],\"compareArr\":[2,2,1,2,1,1,2,1,1,2],\"sumType\":null,\"wuxing\":null},{\"openDateTime\":\"2019-01-02 14:17:30\",\"issue\":\"723547\",\"openNum\":[5,4,1,10,7,8,2,3,9,6],\"sumArr\":[9,1,2,0],\"dtArr\":[2,2,2,1,2],\"formArr\":[],\"mimcryArr\":[],\"compareArr\":[1,2,2,1,1,2,1,2,2,1],\"sumType\":null,\"wuxing\":null},{\"openDateTime\":\"2019-01-02 14:12:30\",\"issue\":\"723546\",\"openNum\":[6,4,9,7,5,8,1,3,10,2],\"sumArr\":[10,2,2,0],\"dtArr\":[1,2,1,1,2],\"formArr\":[],\"mimcryArr\":[],\"compareArr\":[2,2,2,1,1,1,1,2,1,2],\"sumType\":null,\"wuxing\":null},{\"openDateTime\":\"2019-01-02 14:07:30\",\"issue\":\"723545\",\"openNum\":[3,2,6,4,8,10,9,7,5,1],\"sumArr\":[5,1,2,0],\"dtArr\":[1,2,2,2,2],\"formArr\":[],\"mimcryArr\":[],\"compareArr\":[2,1,1,1,2,1,2,1,2,2],\"sumType\":null,\"wuxing\":null},{\"openDateTime\":\"2019-01-02 14:02:30\",\"issue\":\"723544\",\"openNum\":[4,8,3,10,1,6,7,5,2,9],\"sumArr\":[12,2,1,0],\"dtArr\":[2,1,2,1,2],\"formArr\":[],\"mimcryArr\":[],\"compareArr\":[1,2,1,1,2,2,2,1,2,1],\"sumType\":null,\"wuxing\":null},{\"openDateTime\":\"2019-01-02 13:57:30\",\"issue\":\"723543\",\"openNum\":[9,2,10,8,3,4,5,1,7,6],\"sumArr\":[11,1,2,0],\"dtArr\":[1,2,1,1,2],\"formArr\":[],\"mimcryArr\":[],\"compareArr\":[2,1,1,2,2,2,2,1,1,1],\"sumType\":null,\"wuxing\":null},{\"openDateTime\":\"2019-01-02 13:52:30\",\"issue\":\"723542\",\"openNum\":[3,9,1,10,7,2,4,5,8,6],\"sumArr\":[12,2,1,0],\"dtArr\":[2,1,2,1,1],\"formArr\":[],\"mimcryArr\":[],\"compareArr\":[1,2,1,2,2,2,1,2,1,1],\"sumType\":null,\"wuxing\":null},{\"openDateTime\":\"2019-01-02 13:47:30\",\"issue\":\"723541\",\"openNum\":[3,9,6,1,2,10,7,8,4,5],\"sumArr\":[12,2,1,0],\"dtArr\":[2,1,2,2,2],\"formArr\":[],\"mimcryArr\":[],\"compareArr\":[1,1,1,2,2,1,2,2,1,2],\"sumType\":null,\"wuxing\":null},{\"openDateTime\":\"2019-01-02 13:42:30\",\"issue\":\"723540\",\"openNum\":[2,3,6,8,10,4,1,9,7,5],\"sumArr\":[5,1,2,0],\"dtArr\":[2,2,2,1,1],\"formArr\":[],\"mimcryArr\":[],\"compareArr\":[2,1,1,2,2,1,2,1,2,1],\"sumType\":null,\"wuxing\":null},{\"openDateTime\":\"2019-01-02 13:37:30\",\"issue\":\"723539\",\"openNum\":[1,7,2,10,5,6,3,9,4,8],\"sumArr\":[8,2,2,0],\"dtArr\":[2,1,2,1,2],\"formArr\":[],\"mimcryArr\":[],\"compareArr\":[1,1,2,2,1,2,1,2,2,1],\"sumType\":null,\"wuxing\":null},{\"openDateTime\":\"2019-01-02 13:32:30\",\"issue\":\"723538\",\"openNum\":[7,10,6,5,8,9,3,4,2,1],\"sumArr\":[17,1,1,0],\"dtArr\":[1,1,1,1,2],\"formArr\":[],\"mimcryArr\":[],\"compareArr\":[2,2,2,2,1,1,1,1,2,1],\"sumType\":null,\"wuxing\":null},{\"openDateTime\":\"2019-01-02 13:27:30\",\"issue\":\"723537\",\"openNum\":[5,8,1,6,2,9,7,4,3,10],\"sumArr\":[13,1,1,0],\"dtArr\":[2,1,2,2,2],\"formArr\":[],\"mimcryArr\":[],\"compareArr\":[1,1,2,2,1,1,2,1,2,2],\"sumType\":null,\"wuxing\":null},{\"openDateTime\":\"2019-01-02 13:22:30\",\"issue\":\"723536\",\"openNum\":[3,2,9,5,7,1,10,8,6,4],\"sumArr\":[5,1,2,0],\"dtArr\":[2,2,1,2,1],\"formArr\":[],\"mimcryArr\":[],\"compareArr\":[2,1,1,2,1,2,1,2,1,2],\"sumType\":null,\"wuxing\":null},{\"openDateTime\":\"2019-01-02 13:17:30\",\"issue\":\"723535\",\"openNum\":[6,4,1,10,5,7,8,2,3,9],\"sumArr\":[10,2,2,0],\"dtArr\":[2,1,2,1,2],\"formArr\":[],\"mimcryArr\":[],\"compareArr\":[1,2,2,1,1,1,2,2,2,1],\"sumType\":null,\"wuxing\":null},{\"openDateTime\":\"2019-01-02 13:12:30\",\"issue\":\"723534\",\"openNum\":[6,8,10,4,1,9,3,7,5,2],\"sumArr\":[14,2,1,0],\"dtArr\":[1,1,1,1,2],\"formArr\":[],\"mimcryArr\":[],\"compareArr\":[1,2,2,1,2,1,2,1,2,1],\"sumType\":null,\"wuxing\":null},{\"openDateTime\":\"2019-01-02 13:07:30\",\"issue\":\"723533\",\"openNum\":[3,8,4,1,2,10,7,6,9,5],\"sumArr\":[11,1,2,0],\"dtArr\":[2,2,2,2,2],\"formArr\":[],\"mimcryArr\":[],\"compareArr\":[1,1,1,1,2,2,2,1,2,2],\"sumType\":null,\"wuxing\":null},{\"openDateTime\":\"2019-01-02 13:02:30\",\"issue\":\"723532\",\"openNum\":[4,1,3,6,5,8,7,2,10,9],\"sumArr\":[5,1,2,0],\"dtArr\":[2,2,1,2,2],\"formArr\":[],\"mimcryArr\":[],\"compareArr\":[1,2,1,1,1,1,2,2,2,2],\"sumType\":null,\"wuxing\":null},{\"openDateTime\":\"2019-01-02 12:57:30\",\"issue\":\"723531\",\"openNum\":[7,5,1,6,8,3,4,10,2,9],\"sumArr\":[12,2,1,0],\"dtArr\":[2,1,2,1,1],\"formArr\":[],\"mimcryArr\":[],\"compareArr\":[1,2,2,2,1,1,1,1,2,2],\"sumType\":null,\"wuxing\":null},{\"openDateTime\":\"2019-01-02 12:52:30\",\"issue\":\"723530\",\"openNum\":[3,7,2,9,4,5,6,8,10,1],\"sumArr\":[10,2,2,0],\"dtArr\":[1,2,2,1,2],\"formArr\":[],\"mimcryArr\":[],\"compareArr\":[2,1,1,1,2,2,1,2,1,2],\"sumType\":null,\"wuxing\":null},{\"openDateTime\":\"2019-01-02 12:47:30\",\"issue\":\"723529\",\"openNum\":[1,4,10,2,7,9,6,5,3,8],\"sumArr\":[5,1,2,0],\"dtArr\":[2,1,1,2,2],\"formArr\":[],\"mimcryArr\":[],\"compareArr\":[1,1,2,1,2,2,1,2,2,1],\"sumType\":null,\"wuxing\":null},{\"openDateTime\":\"2019-01-02 12:42:30\",\"issue\":\"723528\",\"openNum\":[7,1,6,3,9,2,8,10,4,5],\"sumArr\":[8,2,2,0],\"dtArr\":[1,2,2,2,1],\"formArr\":[],\"mimcryArr\":[],\"compareArr\":[1,2,1,2,2,1,1,2,1,2],\"sumType\":null,\"wuxing\":null},{\"openDateTime\":\"2019-01-02 12:37:30\",\"issue\":\"723527\",\"openNum\":[8,4,3,2,10,9,6,1,7,5],\"sumArr\":[12,2,1,0],\"dtArr\":[1,2,1,2,1],\"formArr\":[],\"mimcryArr\":[],\"compareArr\":[2,1,1,1,2,2,2,1,2,1],\"sumType\":null,\"wuxing\":null},{\"openDateTime\":\"2019-01-02 12:32:30\",\"issue\":\"723526\",\"openNum\":[8,10,5,9,7,3,2,1,4,6],\"sumArr\":[18,2,1,0],\"dtArr\":[1,1,1,1,1],\"formArr\":[],\"mimcryArr\":[],\"compareArr\":[2,2,2,2,1,2,1,1,1,1],\"sumType\":null,\"wuxing\":null},{\"openDateTime\":\"2019-01-02 12:27:30\",\"issue\":\"723525\",\"openNum\":[9,1,4,6,8,3,10,2,7,5],\"sumArr\":[10,2,2,0],\"dtArr\":[1,2,1,2,1],\"formArr\":[],\"mimcryArr\":[],\"compareArr\":[1,2,2,1,2,1,2,1,1,2],\"sumType\":null,\"wuxing\":null},{\"openDateTime\":\"2019-01-02 12:22:30\",\"issue\":\"723524\",\"openNum\":[5,8,10,3,7,4,9,6,1,2],\"sumArr\":[13,1,1,0],\"dtArr\":[1,1,1,2,1],\"formArr\":[],\"mimcryArr\":[],\"compareArr\":[2,2,1,2,1,2,1,1,2,1],\"sumType\":null,\"wuxing\":null},{\"openDateTime\":\"2019-01-02 12:17:30\",\"issue\":\"723523\",\"openNum\":[2,7,5,3,10,8,9,1,6,4],\"sumArr\":[9,1,2,0],\"dtArr\":[2,1,1,2,1],\"formArr\":[],\"mimcryArr\":[],\"compareArr\":[2,1,1,2,1,2,1,2,2,1],\"sumType\":null,\"wuxing\":null},{\"openDateTime\":\"2019-01-02 12:12:30\",\"issue\":\"723522\",\"openNum\":[8,2,7,5,10,6,9,3,1,4],\"sumArr\":[10,2,2,0],\"dtArr\":[1,1,1,2,1],\"formArr\":[],\"mimcryArr\":[],\"compareArr\":[2,1,2,2,1,2,1,1,2,1],\"sumType\":null,\"wuxing\":null},{\"openDateTime\":\"2019-01-02 12:07:30\",\"issue\":\"723521\",\"openNum\":[2,3,10,9,6,1,4,8,5,7],\"sumArr\":[5,1,2,0],\"dtArr\":[2,2,1,1,1],\"formArr\":[],\"mimcryArr\":[],\"compareArr\":[2,1,1,2,2,1,2,2,1,1],\"sumType\":null,\"wuxing\":null},{\"openDateTime\":\"2019-01-02 12:02:30\",\"issue\":\"723520\",\"openNum\":[5,2,8,1,4,10,3,7,9,6],\"sumArr\":[7,1,2,0],\"dtArr\":[2,2,1,2,2],\"formArr\":[],\"mimcryArr\":[],\"compareArr\":[1,1,2,1,1,2,2,1,2,2],\"sumType\":null,\"wuxing\":null},{\"openDateTime\":\"2019-01-02 11:57:30\",\"issue\":\"723519\",\"openNum\":[1,3,5,4,6,10,8,7,2,9],\"sumArr\":[4,2,2,0],\"dtArr\":[2,1,2,2,2],\"formArr\":[],\"mimcryArr\":[],\"compareArr\":[1,2,1,1,1,1,2,2,2,2],\"sumType\":null,\"wuxing\":null},{\"openDateTime\":\"2019-01-02 11:52:30\",\"issue\":\"723518\",\"openNum\":[1,6,5,7,2,8,3,10,4,9],\"sumArr\":[7,1,2,0],\"dtArr\":[2,1,2,1,2],\"formArr\":[],\"mimcryArr\":[],\"compareArr\":[1,1,2,2,1,1,1,2,2,2],\"sumType\":null,\"wuxing\":null},{\"openDateTime\":\"2019-01-02 11:47:30\",\"issue\":\"723517\",\"openNum\":[4,3,2,5,8,7,6,9,10,1],\"sumArr\":[7,1,2,0],\"dtArr\":[1,2,2,2,1],\"formArr\":[],\"mimcryArr\":[],\"compareArr\":[2,1,1,1,1,2,2,1,2,2],\"sumType\":null,\"wuxing\":null},{\"openDateTime\":\"2019-01-02 11:42:30\",\"issue\":\"723516\",\"openNum\":[3,8,2,7,4,9,10,1,6,5],\"sumArr\":[11,1,2,0],\"dtArr\":[2,1,1,2,2],\"formArr\":[],\"mimcryArr\":[],\"compareArr\":[2,1,1,1,2,2,1,1,2,2],\"sumType\":null,\"wuxing\":null},{\"openDateTime\":\"2019-01-02 11:37:30\",\"issue\":\"723515\",\"openNum\":[2,8,10,1,4,9,3,7,5,6],\"sumArr\":[10,2,2,0],\"dtArr\":[2,1,1,2,2],\"formArr\":[],\"mimcryArr\":[],\"compareArr\":[1,1,2,1,2,2,2,1,2,1],\"sumType\":null,\"wuxing\":null},{\"openDateTime\":\"2019-01-02 11:32:30\",\"issue\":\"723514\",\"openNum\":[3,5,7,1,8,10,2,9,6,4],\"sumArr\":[8,2,2,0],\"dtArr\":[2,2,2,2,2],\"formArr\":[],\"mimcryArr\":[],\"compareArr\":[1,2,1,2,1,2,1,1,2,2],\"sumType\":null,\"wuxing\":null},{\"openDateTime\":\"2019-01-02 11:27:30\",\"issue\":\"723513\",\"openNum\":[2,5,6,4,3,10,9,1,7,8],\"sumArr\":[7,1,2,0],\"dtArr\":[2,2,1,2,2],\"formArr\":[],\"mimcryArr\":[],\"compareArr\":[2,1,1,1,1,1,2,2,2,2],\"sumType\":null,\"wuxing\":null},{\"openDateTime\":\"2019-01-02 11:22:30\",\"issue\":\"723512\",\"openNum\":[2,5,1,4,7,6,9,10,3,8],\"sumArr\":[7,1,2,0],\"dtArr\":[2,1,2,2,1],\"formArr\":[],\"mimcryArr\":[],\"compareArr\":[1,1,2,1,1,2,1,2,2,2],\"sumType\":null,\"wuxing\":null},{\"openDateTime\":\"2019-01-02 11:17:30\",\"issue\":\"723511\",\"openNum\":[2,10,8,3,1,5,7,9,6,4],\"sumArr\":[12,2,1,0],\"dtArr\":[2,1,2,2,2],\"formArr\":[],\"mimcryArr\":[],\"compareArr\":[1,1,1,2,2,2,2,1,2,1],\"sumType\":null,\"wuxing\":null},{\"openDateTime\":\"2019-01-02 11:12:30\",\"issue\":\"723510\",\"openNum\":[6,5,8,7,1,3,4,2,10,9],\"sumArr\":[11,1,2,0],\"dtArr\":[2,2,1,1,2],\"formArr\":[],\"mimcryArr\":[],\"compareArr\":[1,2,2,2,1,1,1,1,2,2],\"sumType\":null,\"wuxing\":null},{\"openDateTime\":\"2019-01-02 11:07:30\",\"issue\":\"723509\",\"openNum\":[5,8,3,6,4,9,10,2,1,7],\"sumArr\":[13,1,1,0],\"dtArr\":[2,1,1,2,2],\"formArr\":[],\"mimcryArr\":[],\"compareArr\":[2,2,1,1,1,1,2,1,2,2],\"sumType\":null,\"wuxing\":null},{\"openDateTime\":\"2019-01-02 11:02:30\",\"issue\":\"723508\",\"openNum\":[1,7,10,6,5,8,3,4,2,9],\"sumArr\":[8,2,2,0],\"dtArr\":[2,1,1,1,2],\"formArr\":[],\"mimcryArr\":[],\"compareArr\":[1,2,2,2,1,1,1,2,2,1],\"sumType\":null,\"wuxing\":null},{\"openDateTime\":\"2019-01-02 10:57:30\",\"issue\":\"723507\",\"openNum\":[4,8,1,9,2,3,5,10,6,7],\"sumArr\":[12,2,1,0],\"dtArr\":[2,1,2,1,2],\"formArr\":[],\"mimcryArr\":[],\"compareArr\":[1,1,2,1,2,2,2,1,1,2],\"sumType\":null,\"wuxing\":null},{\"openDateTime\":\"2019-01-02 10:52:30\",\"issue\":\"723506\",\"openNum\":[1,6,10,7,3,4,9,8,2,5],\"sumArr\":[7,1,2,0],\"dtArr\":[2,1,1,2,2],\"formArr\":[],\"mimcryArr\":[],\"compareArr\":[1,2,1,2,2,1,1,2,2,1],\"sumType\":null,\"wuxing\":null},{\"openDateTime\":\"2019-01-02 10:47:30\",\"issue\":\"723505\",\"openNum\":[2,8,6,10,9,1,7,4,3,5],\"sumArr\":[10,2,2,0],\"dtArr\":[2,1,1,1,1],\"formArr\":[],\"mimcryArr\":[],\"compareArr\":[2,1,2,2,2,1,2,1,1,1],\"sumType\":null,\"wuxing\":null},{\"openDateTime\":\"2019-01-02 10:42:30\",\"issue\":\"723504\",\"openNum\":[7,1,4,9,10,3,2,6,5,8],\"sumArr\":[8,2,2,0],\"dtArr\":[2,2,2,1,1],\"formArr\":[],\"mimcryArr\":[],\"compareArr\":[1,2,2,1,2,2,1,2,1,1],\"sumType\":null,\"wuxing\":null},{\"openDateTime\":\"2019-01-02 10:37:30\",\"issue\":\"723503\",\"openNum\":[5,7,10,3,4,9,1,2,6,8],\"sumArr\":[12,2,1,0],\"dtArr\":[2,1,1,1,2],\"formArr\":[],\"mimcryArr\":[],\"compareArr\":[2,2,1,1,1,2,1,2,2,1],\"sumType\":null,\"wuxing\":null},{\"openDateTime\":\"2019-01-02 10:32:30\",\"issue\":\"723502\",\"openNum\":[10,5,1,2,4,3,8,9,6,7],\"sumArr\":[15,1,1,0],\"dtArr\":[1,2,2,2,1],\"formArr\":[],\"mimcryArr\":[],\"compareArr\":[1,1,2,1,1,2,2,2,2,1],\"sumType\":null,\"wuxing\":null},{\"openDateTime\":\"2019-01-02 10:27:30\",\"issue\":\"723501\",\"openNum\":[6,3,2,7,9,10,1,8,4,5],\"sumArr\":[9,1,2,0],\"dtArr\":[1,2,2,1,2],\"formArr\":[],\"mimcryArr\":[],\"compareArr\":[2,1,1,2,2,1,1,2,1,2],\"sumType\":null,\"wuxing\":null},{\"openDateTime\":\"2019-01-02 10:22:30\",\"issue\":\"723500\",\"openNum\":[8,4,3,5,10,2,7,1,6,9],\"sumArr\":[12,2,1,0],\"dtArr\":[2,2,1,2,1],\"formArr\":[],\"mimcryArr\":[],\"compareArr\":[2,2,1,1,1,2,2,1,2,1],\"sumType\":null,\"wuxing\":null},{\"openDateTime\":\"2019-01-02 10:17:30\",\"issue\":\"723499\",\"openNum\":[9,2,5,4,1,3,8,7,6,10],\"sumArr\":[11,1,2,0],\"dtArr\":[2,2,2,2,2],\"formArr\":[],\"mimcryArr\":[],\"compareArr\":[1,1,2,1,1,2,2,2,1,2],\"sumType\":null,\"wuxing\":null},{\"openDateTime\":\"2019-01-02 10:12:30\",\"issue\":\"723498\",\"openNum\":[8,6,9,2,5,7,4,3,1,10],\"sumArr\":[14,2,1,0],\"dtArr\":[2,1,1,2,2],\"formArr\":[],\"mimcryArr\":[],\"compareArr\":[2,1,2,2,1,1,2,1,1,2],\"sumType\":null,\"wuxing\":null},{\"openDateTime\":\"2019-01-02 10:07:30\",\"issue\":\"723497\",\"openNum\":[1,3,9,2,5,4,7,8,10,6],\"sumArr\":[4,2,2,0],\"dtArr\":[2,2,1,2,1],\"formArr\":[],\"mimcryArr\":[],\"compareArr\":[1,1,1,2,1,2,2,2,1,2],\"sumType\":null,\"wuxing\":null},{\"openDateTime\":\"2019-01-02 10:02:30\",\"issue\":\"723496\",\"openNum\":[2,10,1,6,3,5,9,7,4,8],\"sumArr\":[12,2,1,0],\"dtArr\":[2,1,2,2,2],\"formArr\":[],\"mimcryArr\":[],\"compareArr\":[1,1,1,2,2,1,2,2,2,1],\"sumType\":null,\"wuxing\":null},{\"openDateTime\":\"2019-01-02 09:57:30\",\"issue\":\"723495\",\"openNum\":[10,7,5,3,9,4,2,1,6,8],\"sumArr\":[17,1,1,0],\"dtArr\":[1,1,1,1,1],\"formArr\":[],\"mimcryArr\":[],\"compareArr\":[2,2,1,2,1,2,1,2,1,1],\"sumType\":null,\"wuxing\":null},{\"openDateTime\":\"2019-01-02 09:52:30\",\"issue\":\"723494\",\"openNum\":[9,5,10,8,1,7,4,6,3,2],\"sumArr\":[14,2,1,0],\"dtArr\":[1,1,1,1,2],\"formArr\":[],\"mimcryArr\":[],\"compareArr\":[1,2,2,2,1,2,2,1,1,1],\"sumType\":null,\"wuxing\":null},{\"openDateTime\":\"2019-01-02 09:47:30\",\"issue\":\"723493\",\"openNum\":[6,1,5,10,9,8,4,7,3,2],\"sumArr\":[7,1,2,0],\"dtArr\":[1,2,2,1,1],\"formArr\":[],\"mimcryArr\":[],\"compareArr\":[1,2,2,2,1,1,2,2,1,1],\"sumType\":null,\"wuxing\":null},{\"openDateTime\":\"2019-01-02 09:42:30\",\"issue\":\"723492\",\"openNum\":[8,2,9,1,3,6,4,7,10,5],\"sumArr\":[10,2,2,0],\"dtArr\":[1,2,1,2,2],\"formArr\":[],\"mimcryArr\":[],\"compareArr\":[1,1,1,2,2,2,2,1,1,2],\"sumType\":null,\"wuxing\":null},{\"openDateTime\":\"2019-01-02 09:37:30\",\"issue\":\"723491\",\"openNum\":[6,3,5,8,10,4,1,7,2,9],\"sumArr\":[9,1,2,0],\"dtArr\":[2,1,2,1,1],\"formArr\":[],\"mimcryArr\":[],\"compareArr\":[2,2,1,2,1,1,2,1,2,1],\"sumType\":null,\"wuxing\":null},{\"openDateTime\":\"2019-01-02 09:32:30\",\"issue\":\"723490\",\"openNum\":[3,5,4,1,9,6,7,2,8,10],\"sumArr\":[8,2,2,0],\"dtArr\":[2,2,1,2,1],\"formArr\":[],\"mimcryArr\":[],\"compareArr\":[1,2,1,1,1,2,2,2,1,2],\"sumType\":null,\"wuxing\":null},{\"openDateTime\":\"2019-01-02 09:27:30\",\"issue\":\"723489\",\"openNum\":[3,5,9,6,8,7,4,10,1,2],\"sumArr\":[8,2,2,0],\"dtArr\":[1,1,2,1,1],\"formArr\":[],\"mimcryArr\":[],\"compareArr\":[2,2,1,2,1,1,2,1,1,2],\"sumType\":null,\"wuxing\":null},{\"openDateTime\":\"2019-01-02 09:22:30\",\"issue\":\"723488\",\"openNum\":[7,8,10,2,6,9,1,4,3,5],\"sumArr\":[15,1,1,0],\"dtArr\":[1,1,1,1,2],\"formArr\":[],\"mimcryArr\":[],\"compareArr\":[2,1,2,2,2,1,1,1,2,1],\"sumType\":null,\"wuxing\":null},{\"openDateTime\":\"2019-01-02 09:17:30\",\"issue\":\"723487\",\"openNum\":[8,1,10,5,2,7,9,3,4,6],\"sumArr\":[9,1,2,0],\"dtArr\":[1,2,1,2,2],\"formArr\":[],\"mimcryArr\":[],\"compareArr\":[1,1,2,2,1,2,2,1,2,1],\"sumType\":null,\"wuxing\":null},{\"openDateTime\":\"2019-01-02 09:12:30\",\"issue\":\"723486\",\"openNum\":[8,7,6,9,5,4,10,1,3,2],\"sumArr\":[15,1,1,0],\"dtArr\":[1,1,1,2,1],\"formArr\":[],\"mimcryArr\":[],\"compareArr\":[2,2,2,2,1,1,1,1,1,2],\"sumType\":null,\"wuxing\":null},{\"openDateTime\":\"2019-01-02 09:07:30\",\"issue\":\"723485\",\"openNum\":[1,8,4,9,5,2,6,10,3,7],\"sumArr\":[9,1,2,0],\"dtArr\":[2,1,2,1,1],\"formArr\":[],\"mimcryArr\":[],\"compareArr\":[1,2,2,1,1,2,2,1,1,2],\"sumType\":null,\"wuxing\":null}]\n"
     ]
    }
   ],
   "source": [
    "import requests\n",
    "from bs4 import BeautifulSoup\n",
    "# 引用requests库\n",
    "url = 'https://www.cp550.com/data/bjpk10/lotteryList/2019-01-02.json?KJXTURH3UD9JAVWD2RMH'\n",
    "res_music = requests.get('https://www.cp550.com/data/bjpk10/lotteryList/2019-01-02.json?KJXTURH3UD9JAVWD2RMH')\n",
    "\n",
    "\n",
    "# 调用get方法，下载这个字典\n",
    "json_music = res_music.json()\n",
    "\n",
    "# 使用json()方法，将response对象，转为列表/字典\n",
    "#print(type(res_music.text))\n",
    "#print(res_music.text)"
   ]
  },
  {
   "cell_type": "code",
   "execution_count": 16,
   "metadata": {},
   "outputs": [
    {
     "name": "stdout",
     "output_type": "stream",
     "text": [
      "<class 'dict'>\n"
     ]
    }
   ],
   "source": [
    "print(type(json_music[0]))"
   ]
  },
  {
   "cell_type": "code",
   "execution_count": 23,
   "metadata": {},
   "outputs": [
    {
     "name": "stdout",
     "output_type": "stream",
     "text": [
      "B\n"
     ]
    }
   ],
   "source": [
    "print(chr(ord('A')+1))"
   ]
  },
  {
   "cell_type": "code",
   "execution_count": null,
   "metadata": {},
   "outputs": [],
   "source": []
  },
  {
   "cell_type": "code",
   "execution_count": 20,
   "metadata": {},
   "outputs": [
    {
     "name": "stdout",
     "output_type": "stream",
     "text": [
      "10\n",
      "[10, 6, 7, 9, 4, 3, 2, 1, 8, 5]\n",
      "[1, 9, 4, 5, 2, 7, 3, 6, 10, 8]\n",
      "[9, 8, 2, 3, 7, 5, 6, 1, 4, 10]\n",
      "[3, 1, 5, 9, 10, 6, 2, 4, 8, 7]\n",
      "[2, 4, 10, 9, 8, 1, 7, 6, 5, 3]\n",
      "[4, 6, 3, 7, 8, 5, 10, 2, 1, 9]\n",
      "[7, 6, 3, 9, 2, 1, 5, 4, 10, 8]\n",
      "[6, 5, 10, 8, 3, 9, 7, 2, 1, 4]\n",
      "[5, 7, 2, 9, 6, 8, 10, 1, 3, 4]\n",
      "[3, 4, 8, 9, 1, 5, 2, 10, 7, 6]\n",
      "[6, 1, 5, 2, 10, 9, 7, 4, 3, 8]\n",
      "[3, 8, 9, 6, 4, 5, 10, 7, 2, 1]\n",
      "[9, 4, 10, 5, 8, 7, 6, 2, 3, 1]\n",
      "[4, 6, 5, 8, 10, 2, 1, 7, 9, 3]\n",
      "[7, 6, 4, 8, 9, 5, 3, 2, 1, 10]\n",
      "[7, 8, 3, 6, 9, 1, 5, 2, 10, 4]\n",
      "[9, 10, 3, 8, 6, 1, 2, 7, 4, 5]\n",
      "[10, 4, 9, 8, 3, 6, 2, 7, 5, 1]\n",
      "[10, 7, 1, 5, 3, 2, 6, 9, 8, 4]\n",
      "[3, 2, 8, 6, 4, 10, 9, 7, 5, 1]\n",
      "[5, 6, 10, 1, 9, 4, 2, 7, 3, 8]\n",
      "[8, 7, 5, 1, 3, 10, 4, 2, 9, 6]\n",
      "[5, 8, 4, 1, 3, 10, 6, 2, 9, 7]\n",
      "[8, 7, 2, 3, 1, 10, 6, 4, 5, 9]\n",
      "[8, 2, 7, 10, 4, 3, 6, 1, 5, 9]\n",
      "[1, 4, 5, 7, 8, 2, 9, 3, 6, 10]\n",
      "[4, 8, 10, 7, 3, 1, 9, 6, 5, 2]\n",
      "[9, 4, 10, 2, 3, 7, 8, 6, 1, 5]\n",
      "[7, 4, 3, 6, 1, 8, 2, 9, 10, 5]\n",
      "[6, 2, 9, 7, 10, 1, 4, 3, 5, 8]\n",
      "[9, 4, 6, 7, 3, 1, 8, 5, 10, 2]\n",
      "[8, 5, 7, 4, 6, 2, 10, 1, 9, 3]\n",
      "[5, 6, 2, 9, 10, 1, 7, 4, 8, 3]\n",
      "[7, 9, 5, 6, 1, 4, 2, 8, 10, 3]\n",
      "[3, 4, 10, 7, 6, 9, 2, 1, 5, 8]\n",
      "[9, 7, 4, 2, 10, 8, 1, 3, 6, 5]\n",
      "[10, 9, 7, 1, 3, 8, 2, 6, 5, 4]\n",
      "[4, 5, 8, 7, 6, 2, 1, 10, 9, 3]\n",
      "[7, 5, 9, 4, 2, 3, 10, 6, 8, 1]\n",
      "[9, 5, 2, 4, 6, 7, 1, 3, 10, 8]\n",
      "[3, 6, 1, 9, 8, 4, 5, 2, 10, 7]\n",
      "[3, 5, 7, 10, 9, 8, 6, 2, 1, 4]\n",
      "[9, 8, 3, 1, 2, 6, 10, 7, 4, 5]\n",
      "[3, 2, 7, 10, 1, 5, 9, 6, 8, 4]\n",
      "[3, 8, 10, 5, 2, 1, 7, 4, 6, 9]\n",
      "[4, 5, 6, 1, 7, 9, 10, 2, 8, 3]\n",
      "[1, 3, 10, 8, 9, 6, 2, 5, 4, 7]\n",
      "[4, 9, 6, 2, 10, 5, 7, 3, 8, 1]\n",
      "[6, 4, 7, 3, 8, 2, 10, 9, 1, 5]\n",
      "[8, 2, 7, 1, 10, 5, 9, 3, 6, 4]\n",
      "[4, 3, 2, 6, 9, 1, 7, 5, 8, 10]\n",
      "[4, 8, 6, 7, 3, 5, 9, 10, 2, 1]\n",
      "[2, 6, 10, 3, 8, 7, 9, 4, 1, 5]\n",
      "[2, 10, 9, 1, 3, 8, 5, 4, 7, 6]\n",
      "[9, 2, 1, 10, 6, 8, 5, 4, 7, 3]\n",
      "[8, 4, 9, 3, 6, 1, 7, 5, 10, 2]\n",
      "[4, 8, 2, 10, 7, 1, 5, 3, 6, 9]\n",
      "[6, 7, 2, 8, 10, 4, 9, 3, 5, 1]\n",
      "[4, 10, 1, 6, 5, 7, 3, 2, 8, 9]\n",
      "[1, 4, 3, 6, 10, 9, 2, 8, 7, 5]\n",
      "[4, 9, 1, 8, 3, 10, 6, 2, 7, 5]\n",
      "[2, 10, 3, 6, 4, 9, 8, 7, 5, 1]\n",
      "[5, 2, 8, 9, 7, 3, 6, 1, 10, 4]\n",
      "[8, 3, 10, 1, 9, 6, 2, 4, 7, 5]\n",
      "[4, 5, 6, 10, 9, 7, 1, 8, 2, 3]\n",
      "[1, 10, 9, 4, 3, 5, 2, 6, 7, 8]\n",
      "[2, 6, 9, 10, 3, 4, 1, 5, 8, 7]\n",
      "[9, 10, 4, 1, 8, 7, 2, 6, 5, 3]\n",
      "[10, 2, 8, 6, 9, 3, 1, 5, 4, 7]\n",
      "[1, 4, 10, 6, 9, 7, 2, 5, 3, 8]\n",
      "[8, 4, 10, 7, 3, 2, 6, 9, 1, 5]\n",
      "[10, 7, 1, 2, 6, 3, 4, 5, 8, 9]\n",
      "[2, 3, 7, 4, 10, 9, 6, 1, 5, 8]\n",
      "[5, 4, 7, 1, 2, 3, 9, 8, 6, 10]\n",
      "[9, 5, 6, 10, 3, 1, 8, 2, 7, 4]\n",
      "[10, 2, 7, 1, 3, 8, 9, 4, 5, 6]\n",
      "[5, 2, 3, 9, 7, 6, 8, 4, 10, 1]\n",
      "[7, 8, 5, 2, 10, 6, 9, 1, 3, 4]\n",
      "[3, 8, 5, 1, 4, 9, 7, 2, 6, 10]\n",
      "[4, 5, 1, 6, 9, 10, 7, 3, 8, 2]\n",
      "[8, 7, 10, 9, 5, 1, 6, 3, 4, 2]\n",
      "[1, 5, 9, 3, 7, 4, 8, 2, 10, 6]\n",
      "[9, 10, 4, 5, 1, 6, 2, 8, 7, 3]\n",
      "[8, 5, 7, 1, 9, 3, 10, 4, 2, 6]\n",
      "[10, 6, 2, 4, 8, 1, 7, 5, 9, 3]\n",
      "[10, 3, 1, 7, 8, 9, 2, 5, 6, 4]\n",
      "[3, 7, 9, 10, 5, 8, 4, 2, 6, 1]\n",
      "[9, 6, 4, 2, 10, 5, 3, 1, 7, 8]\n",
      "[8, 4, 6, 10, 3, 1, 2, 7, 5, 9]\n",
      "[8, 1, 7, 5, 3, 2, 9, 4, 10, 6]\n",
      "[9, 7, 2, 1, 8, 3, 10, 5, 6, 4]\n",
      "[9, 3, 5, 2, 4, 10, 7, 6, 8, 1]\n",
      "[6, 1, 2, 3, 5, 4, 7, 8, 9, 10]\n",
      "[9, 5, 4, 8, 10, 1, 3, 6, 7, 2]\n",
      "[4, 10, 9, 7, 8, 1, 2, 6, 5, 3]\n",
      "[1, 5, 9, 6, 8, 3, 4, 7, 10, 2]\n",
      "[1, 10, 4, 6, 5, 3, 2, 8, 7, 9]\n",
      "[5, 2, 9, 6, 8, 10, 7, 3, 1, 4]\n",
      "[4, 8, 10, 3, 6, 9, 5, 2, 7, 1]\n",
      "[1, 2, 7, 10, 9, 6, 4, 5, 3, 8]\n",
      "[9, 10, 6, 8, 1, 2, 5, 7, 3, 4]\n",
      "[7, 2, 6, 9, 1, 10, 5, 3, 8, 4]\n",
      "[4, 1, 2, 10, 6, 9, 5, 7, 3, 8]\n",
      "[6, 3, 10, 1, 9, 8, 7, 5, 2, 4]\n",
      "[1, 10, 9, 7, 3, 6, 5, 2, 4, 8]\n",
      "[4, 9, 8, 7, 5, 3, 1, 10, 6, 2]\n",
      "[4, 9, 7, 8, 3, 1, 6, 2, 5, 10]\n",
      "[4, 10, 3, 9, 2, 1, 5, 6, 7, 8]\n",
      "[5, 8, 6, 9, 1, 4, 7, 10, 3, 2]\n",
      "[9, 7, 6, 1, 2, 4, 10, 8, 3, 5]\n",
      "[4, 7, 6, 5, 10, 1, 9, 3, 8, 2]\n",
      "[6, 3, 4, 1, 2, 8, 10, 7, 5, 9]\n",
      "[2, 8, 9, 4, 3, 7, 5, 10, 6, 1]\n",
      "[10, 6, 2, 3, 8, 4, 7, 5, 9, 1]\n",
      "[5, 6, 9, 3, 8, 1, 2, 4, 10, 7]\n",
      "[5, 4, 1, 10, 7, 8, 2, 3, 9, 6]\n",
      "[6, 4, 9, 7, 5, 8, 1, 3, 10, 2]\n",
      "[3, 2, 6, 4, 8, 10, 9, 7, 5, 1]\n",
      "[4, 8, 3, 10, 1, 6, 7, 5, 2, 9]\n",
      "[9, 2, 10, 8, 3, 4, 5, 1, 7, 6]\n",
      "[3, 9, 1, 10, 7, 2, 4, 5, 8, 6]\n",
      "[3, 9, 6, 1, 2, 10, 7, 8, 4, 5]\n",
      "[2, 3, 6, 8, 10, 4, 1, 9, 7, 5]\n",
      "[1, 7, 2, 10, 5, 6, 3, 9, 4, 8]\n",
      "[7, 10, 6, 5, 8, 9, 3, 4, 2, 1]\n",
      "[5, 8, 1, 6, 2, 9, 7, 4, 3, 10]\n",
      "[3, 2, 9, 5, 7, 1, 10, 8, 6, 4]\n",
      "[6, 4, 1, 10, 5, 7, 8, 2, 3, 9]\n",
      "[6, 8, 10, 4, 1, 9, 3, 7, 5, 2]\n",
      "[3, 8, 4, 1, 2, 10, 7, 6, 9, 5]\n",
      "[4, 1, 3, 6, 5, 8, 7, 2, 10, 9]\n",
      "[7, 5, 1, 6, 8, 3, 4, 10, 2, 9]\n",
      "[3, 7, 2, 9, 4, 5, 6, 8, 10, 1]\n",
      "[1, 4, 10, 2, 7, 9, 6, 5, 3, 8]\n",
      "[7, 1, 6, 3, 9, 2, 8, 10, 4, 5]\n",
      "[8, 4, 3, 2, 10, 9, 6, 1, 7, 5]\n",
      "[8, 10, 5, 9, 7, 3, 2, 1, 4, 6]\n",
      "[9, 1, 4, 6, 8, 3, 10, 2, 7, 5]\n",
      "[5, 8, 10, 3, 7, 4, 9, 6, 1, 2]\n",
      "[2, 7, 5, 3, 10, 8, 9, 1, 6, 4]\n",
      "[8, 2, 7, 5, 10, 6, 9, 3, 1, 4]\n",
      "[2, 3, 10, 9, 6, 1, 4, 8, 5, 7]\n",
      "[5, 2, 8, 1, 4, 10, 3, 7, 9, 6]\n",
      "[1, 3, 5, 4, 6, 10, 8, 7, 2, 9]\n",
      "[1, 6, 5, 7, 2, 8, 3, 10, 4, 9]\n",
      "[4, 3, 2, 5, 8, 7, 6, 9, 10, 1]\n",
      "[3, 8, 2, 7, 4, 9, 10, 1, 6, 5]\n",
      "[2, 8, 10, 1, 4, 9, 3, 7, 5, 6]\n",
      "[3, 5, 7, 1, 8, 10, 2, 9, 6, 4]\n",
      "[2, 5, 6, 4, 3, 10, 9, 1, 7, 8]\n",
      "[2, 5, 1, 4, 7, 6, 9, 10, 3, 8]\n",
      "[2, 10, 8, 3, 1, 5, 7, 9, 6, 4]\n",
      "[6, 5, 8, 7, 1, 3, 4, 2, 10, 9]\n",
      "[5, 8, 3, 6, 4, 9, 10, 2, 1, 7]\n",
      "[1, 7, 10, 6, 5, 8, 3, 4, 2, 9]\n",
      "[4, 8, 1, 9, 2, 3, 5, 10, 6, 7]\n",
      "[1, 6, 10, 7, 3, 4, 9, 8, 2, 5]\n",
      "[2, 8, 6, 10, 9, 1, 7, 4, 3, 5]\n",
      "[7, 1, 4, 9, 10, 3, 2, 6, 5, 8]\n",
      "[5, 7, 10, 3, 4, 9, 1, 2, 6, 8]\n",
      "[10, 5, 1, 2, 4, 3, 8, 9, 6, 7]\n",
      "[6, 3, 2, 7, 9, 10, 1, 8, 4, 5]\n",
      "[8, 4, 3, 5, 10, 2, 7, 1, 6, 9]\n",
      "[9, 2, 5, 4, 1, 3, 8, 7, 6, 10]\n",
      "[8, 6, 9, 2, 5, 7, 4, 3, 1, 10]\n",
      "[1, 3, 9, 2, 5, 4, 7, 8, 10, 6]\n",
      "[2, 10, 1, 6, 3, 5, 9, 7, 4, 8]\n",
      "[10, 7, 5, 3, 9, 4, 2, 1, 6, 8]\n",
      "[9, 5, 10, 8, 1, 7, 4, 6, 3, 2]\n",
      "[6, 1, 5, 10, 9, 8, 4, 7, 3, 2]\n",
      "[8, 2, 9, 1, 3, 6, 4, 7, 10, 5]\n",
      "[6, 3, 5, 8, 10, 4, 1, 7, 2, 9]\n",
      "[3, 5, 4, 1, 9, 6, 7, 2, 8, 10]\n",
      "[3, 5, 9, 6, 8, 7, 4, 10, 1, 2]\n",
      "[7, 8, 10, 2, 6, 9, 1, 4, 3, 5]\n",
      "[8, 1, 10, 5, 2, 7, 9, 3, 4, 6]\n",
      "[8, 7, 6, 9, 5, 4, 10, 1, 3, 2]\n",
      "[1, 8, 4, 9, 5, 2, 6, 10, 3, 7]\n"
     ]
    }
   ],
   "source": [
    "import requests,openpyxl\n",
    "wb=openpyxl.Workbook()  \n",
    "#创建工作薄\n",
    "sheet=wb.active \n",
    "#获取工作薄的活动表\n",
    "sheet.title='openNum' \n",
    "data_len = len(json_music[0]['openNum'])\n",
    "print(data_len)\n"
   ]
  },
  {
   "cell_type": "code",
   "execution_count": 32,
   "metadata": {},
   "outputs": [],
   "source": [
    "for count in range(data_len):\n",
    "    sheet[chr(ord('A')+count)+'1'] = \"第{}列\".format(count+1)\n",
    "#wb.save('test.xlsx')  "
   ]
  },
  {
   "cell_type": "code",
   "execution_count": 33,
   "metadata": {},
   "outputs": [],
   "source": [
    "for i in json_music:\n",
    "    #print(i['openNum'])\n",
    "    sheet.append(i['openNum'])\n",
    "\n"
   ]
  },
  {
   "cell_type": "code",
   "execution_count": 35,
   "metadata": {},
   "outputs": [],
   "source": [
    "filename = url.split('/')[-1].split('.')[0]\n",
    "wb.save(filename+'.xlsx')"
   ]
  },
  {
   "cell_type": "code",
   "execution_count": null,
   "metadata": {},
   "outputs": [],
   "source": [
    "def csv_output(file_name,list_data,col_name=''):\n",
    "    with open(file_name,'w', newline = '',encoding = 'gb18030') as csvfile:\n",
    "        writer=csv.writer(csvfile,dialect='excel')\n",
    "        if col_name:\n",
    "            writer.writerow([col_name[0],col_name[1],col_name[2],col_name[3],col_name[4]])\n",
    "        for value in list_data:\n",
    "            writer.writerow([value[0],value[1],value[2],value[3],value[4]])"
   ]
  },
  {
   "cell_type": "code",
   "execution_count": 3,
   "metadata": {},
   "outputs": [],
   "source": [
    "def analysis(url):\n",
    "    res = requests.get(url)\n",
    "    # 返回一个response对象，赋值给res\n",
    "    html = res.text\n",
    "    print(res.status_code)\n",
    "    soup = BeautifulSoup( html,'html.parser') \n",
    "    return soup "
   ]
  },
  {
   "cell_type": "code",
   "execution_count": 4,
   "metadata": {},
   "outputs": [
    {
     "name": "stdout",
     "output_type": "stream",
     "text": [
      "200\n"
     ]
    }
   ],
   "source": [
    "bs = analysis(url)"
   ]
  },
  {
   "cell_type": "code",
   "execution_count": 9,
   "metadata": {},
   "outputs": [
    {
     "name": "stdout",
     "output_type": "stream",
     "text": [
      "[{\"openDateTime\":\"2019-01-02 23:57:30\",\"issue\":\"723663\",\"openNum\":[10,6,7,9,4,3,2,1,8,5],\"sumArr\":[16,2,1,0],\"dtArr\":[1,2,1,1,1],\"formArr\":[],\"mimcryArr\":[],\"compareArr\":[2,2,2,1,2,1,1,2,1,1],\"sumType\":null,\"wuxing\":null},{\"openDateTime\":\"2019-01-02 23:52:30\",\"issue\":\"723662\",\"openNum\":[1,9,4,5,2,7,3,6,10,8],\"sumArr\":[10,2,2,0],\"dtArr\":[2,2,2,1,2],\"formArr\":[],\"mimcryArr\":[],\"compareArr\":[1,1,2,1,1,2,2,2,1,2],\"sumType\":null,\"wuxing\":null},{\"openDateTime\":\"2019-01-02 23:47:30\",\"issue\":\"723661\",\"openNum\":[9,8,2,3,7,5,6,1,4,10],\"sumArr\":[17,1,1,0],\"dtArr\":[2,1,1,2,1],\"formArr\":[],\"mimcryArr\":[],\"compareArr\":[2,1,1,2,2,2,1,1,1,2],\"sumType\":null,\"wuxing\":null},{\"openDateTime\":\"2019-01-02 23:42:30\",\"issue\":\"723660\",\"openNum\":[3,1,5,9,10,6,2,4,8,7],\"sumArr\":[4,2,2,0],\"dtArr\":[2,2,1,1,1],\"formArr\":[],\"mimcryArr\":[],\"compareArr\":[1,2,1,2,1,2,2,2,1,1],\"sumType\":null,\"wuxing\":null},{\"openDateTime\":\"2019-01-02 23:37:30\",\"issue\":\"723659\",\"openNum\":[2,4,10,9,8,1,7,6,5,3],\"sumArr\":[6,2,2,0],\"dtArr\":[2,2,1,1,1],\"formArr\":[],\"mimcryArr\":[],\"compareArr\":[2,1,2,1,2,2,2,1,1,1],\"sumType\":null,\"wuxing\":null},{\"openDateTime\":\"2019-01-02 23:32:30\",\"issue\":\"723658\",\"openNum\":[4,6,3,7,8,5,10,2,1,9],\"sumArr\":[10,2,2,0],\"dtArr\":[2,1,1,2,1],\"formArr\":[],\"mimcryArr\":[],\"compareArr\":[2,2,1,1,2,1,1,1,2,2],\"sumType\":null,\"wuxing\":null},{\"openDateTime\":\"2019-01-02 23:27:30\",\"issue\":\"723657\",\"openNum\":[7,6,3,9,2,1,5,4,10,8],\"sumArr\":[13,1,1,0],\"dtArr\":[2,2,2,1,1],\"formArr\":[],\"mimcryArr\":[],\"compareArr\":[2,1,1,2,2,1,1,2,1,2],\"sumType\":null,\"wuxing\":null},{\"openDateTime\":\"2019-01-02 23:22:30\",\"issue\":\"723656\",\"openNum\":[6,5,10,8,3,9,7,2,1,4],\"sumArr\":[11,1,2,0],\"dtArr\":[1,1,1,1,2],\"formArr\":[],\"mimcryArr\":[],\"compareArr\":[2,2,1,2,1,1,2,1,2,1],\"sumType\":null,\"wuxing\":null},{\"openDateTime\":\"2019-01-02 23:17:30\",\"issue\":\"723655\",\"openNum\":[5,7,2,9,6,8,10,1,3,4],\"sumArr\":[12,2,1,0],\"dtArr\":[1,1,1,2,2],\"formArr\":[],\"mimcryArr\":[],\"compareArr\":[2,1,2,2,1,1,1,2,1,2],\"sumType\":null,\"wuxing\":null},{\"openDateTime\":\"2019-01-02 23:12:30\",\"issue\":\"723654\",\"openNum\":[3,4,8,9,1,5,2,10,7,6],\"sumArr\":[7,1,2,0],\"dtArr\":[2,2,2,1,2],\"formArr\":[],\"mimcryArr\":[],\"compareArr\":[1,2,1,1,2,2,2,1,1,2],\"sumType\":null,\"wuxing\":null},{\"openDateTime\":\"2019-01-02 23:07:30\",\"issue\":\"723653\",\"openNum\":[6,1,5,2,10,9,7,4,3,8],\"sumArr\":[7,1,2,0],\"dtArr\":[2,2,1,2,1],\"formArr\":[],\"mimcryArr\":[],\"compareArr\":[1,1,2,2,1,1,2,2,2,1],\"sumType\":null,\"wuxing\":null},{\"openDateTime\":\"2019-01-02 23:02:30\",\"issue\":\"723652\",\"openNum\":[3,8,9,6,4,5,10,7,2,1],\"sumArr\":[11,1,2,0],\"dtArr\":[1,1,1,2,2],\"formArr\":[],\"mimcryArr\":[],\"compareArr\":[2,2,1,1,2,1,2,1,1,2],\"sumType\":null,\"wuxing\":null},{\"openDateTime\":\"2019-01-02 22:57:30\",\"issue\":\"723651\",\"openNum\":[9,4,10,5,8,7,6,2,3,1],\"sumArr\":[13,1,1,0],\"dtArr\":[1,1,1,2,1],\"formArr\":[],\"mimcryArr\":[],\"compareArr\":[2,2,2,1,1,2,2,1,1,1],\"sumType\":null,\"wuxing\":null},{\"openDateTime\":\"2019-01-02 22:52:30\",\"issue\":\"723650\",\"openNum\":[4,6,5,8,10,2,1,7,9,3],\"sumArr\":[10,2,2,0],\"dtArr\":[1,2,2,1,1],\"formArr\":[],\"mimcryArr\":[],\"compareArr\":[2,2,2,1,1,1,2,1,2,1],\"sumType\":null,\"wuxing\":null},{\"openDateTime\":\"2019-01-02 22:47:30\",\"issue\":\"723649\",\"openNum\":[7,6,4,8,9,5,3,2,1,10],\"sumArr\":[13,1,1,0],\"dtArr\":[2,1,1,1,1],\"formArr\":[],\"mimcryArr\":[],\"compareArr\":[2,2,2,1,2,1,1,1,1,2],\"sumType\":null,\"wuxing\":null},{\"openDateTime\":\"2019-01-02 22:42:30\",\"issue\":\"723648\",\"openNum\":[7,8,3,6,9,1,5,2,10,4],\"sumArr\":[15,1,1,0],\"dtArr\":[1,2,1,1,1],\"formArr\":[],\"mimcryArr\":[],\"compareArr\":[2,2,1,2,2,1,1,1,1,2],\"sumType\":null,\"wuxing\":null},{\"openDateTime\":\"2019-01-02 22:37:30\",\"issue\":\"723647\",\"openNum\":[9,10,3,8,6,1,2,7,4,5],\"sumArr\":[19,1,1,0],\"dtArr\":[1,1,2,1,1],\"formArr\":[],\"mimcryArr\":[],\"compareArr\":[2,2,1,2,2,1,2,1,1,1],\"sumType\":null,\"wuxing\":null},{\"openDateTime\":\"2019-01-02 22:32:30\",\"issue\":\"723646\",\"openNum\":[10,4,9,8,3,6,2,7,5,1],\"sumArr\":[14,2,1,0],\"dtArr\":[1,2,1,1,2],\"formArr\":[],\"mimcryArr\":[],\"compareArr\":[2,2,1,1,2,2,2,1,1,1],\"sumType\":null,\"wuxing\":null},{\"openDateTime\":\"2019-01-02 22:27:30\",\"issue\":\"723645\",\"openNum\":[10,7,1,5,3,2,6,9,8,4],\"sumArr\":[17,1,1,0],\"dtArr\":[1,2,2,2,1],\"formArr\":[],\"mimcryArr\":[],\"compareArr\":[1,2,1,2,1,2,1,2,2,1],\"sumType\":null,\"wuxing\":null},{\"openDateTime\":\"2019-01-02 22:22:30\",\"issue\":\"723644\",\"openNum\":[3,2,8,6,4,10,9,7,5,1],\"sumArr\":[5,1,2,0],\"dtArr\":[1,2,1,2,2],\"formArr\":[],\"mimcryArr\":[],\"compareArr\":[2,1,1,1,2,1,2,1,2,2],\"sumType\":null,\"wuxing\":null},{\"openDateTime\":\"2019-01-02 22:17:30\",\"issue\":\"723643\",\"openNum\":[5,6,10,1,9,4,2,7,3,8],\"sumArr\":[11,1,2,0],\"dtArr\":[2,1,1,2,1],\"formArr\":[],\"mimcryArr\":[],\"compareArr\":[1,2,2,2,1,1,2,2,1,1],\"sumType\":null,\"wuxing\":null},{\"openDateTime\":\"2019-01-02 22:12:30\",\"issue\":\"723642\",\"openNum\":[8,7,5,1,3,10,4,2,9,6],\"sumArr\":[15,1,1,0],\"dtArr\":[1,2,1,2,2],\"formArr\":[],\"mimcryArr\":[],\"compareArr\":[1,2,1,2,1,2,1,1,2,2],\"sumType\":null,\"wuxing\":null},{\"openDateTime\":\"2019-01-02 22:07:30\",\"issue\":\"723641\",\"openNum\":[5,8,4,1,3,10,6,2,9,7],\"sumArr\":[13,1,1,0],\"dtArr\":[2,2,1,2,2],\"formArr\":[],\"mimcryArr\":[],\"compareArr\":[1,2,1,1,1,2,2,1,2,2],\"sumType\":null,\"wuxing\":null},{\"openDateTime\":\"2019-01-02 22:02:30\",\"issue\":\"723640\",\"openNum\":[8,7,2,3,1,10,6,4,5,9],\"sumArr\":[15,1,1,0],\"dtArr\":[2,1,2,2,2],\"formArr\":[],\"mimcryArr\":[],\"compareArr\":[1,1,1,2,2,2,1,1,2,2],\"sumType\":null,\"wuxing\":null},{\"openDateTime\":\"2019-01-02 21:57:30\",\"issue\":\"723639\",\"openNum\":[8,2,7,10,4,3,6,1,5,9],\"sumArr\":[10,2,2,0],\"dtArr\":[2,2,1,1,1],\"formArr\":[],\"mimcryArr\":[],\"compareArr\":[2,1,2,1,2,2,1,1,2,1],\"sumType\":null,\"wuxing\":null},{\"openDateTime\":\"2019-01-02 21:52:30\",\"issue\":\"723638\",\"openNum\":[1,4,5,7,8,2,9,3,6,10],\"sumArr\":[5,1,2,0],\"dtArr\":[2,2,1,2,1],\"formArr\":[],\"mimcryArr\":[],\"compareArr\":[1,2,2,1,1,2,1,1,2,2],\"sumType\":null,\"wuxing\":null},{\"openDateTime\":\"2019-01-02 21:47:30\",\"issue\":\"723637\",\"openNum\":[4,8,10,7,3,1,9,6,5,2],\"sumArr\":[12,2,1,0],\"dtArr\":[1,1,1,2,1],\"formArr\":[],\"mimcryArr\":[],\"compareArr\":[2,2,1,1,2,2,1,1,2,1],\"sumType\":null,\"wuxing\":null},{\"openDateTime\":\"2019-01-02 21:42:30\",\"issue\":\"723636\",\"openNum\":[9,4,10,2,3,7,8,6,1,5],\"sumArr\":[13,1,1,0],\"dtArr\":[1,1,1,2,2],\"formArr\":[],\"mimcryArr\":[],\"compareArr\":[2,1,1,1,2,2,2,2,1,1],\"sumType\":null,\"wuxing\":null},{\"openDateTime\":\"2019-01-02 21:37:30\",\"issue\":\"723635\",\"openNum\":[7,4,3,6,1,8,2,9,10,5],\"sumArr\":[11,1,2,0],\"dtArr\":[1,2,2,1,2],\"formArr\":[],\"mimcryArr\":[],\"compareArr\":[1,2,1,1,2,1,1,2,2,2],\"sumType\":null,\"wuxing\":null},{\"openDateTime\":\"2019-01-02 21:32:30\",\"issue\":\"723634\",\"openNum\":[6,2,9,7,10,1,4,3,5,8],\"sumArr\":[8,2,2,0],\"dtArr\":[2,2,1,1,1],\"formArr\":[],\"mimcryArr\":[],\"compareArr\":[2,1,2,2,2,1,1,2,1,1],\"sumType\":null,\"wuxing\":null},{\"openDateTime\":\"2019-01-02 21:27:30\",\"issue\":\"723633\",\"openNum\":[9,4,6,7,3,1,8,5,10,2],\"sumArr\":[13,1,1,0],\"dtArr\":[1,2,1,2,1],\"formArr\":[],\"mimcryArr\":[],\"compareArr\":[2,2,1,1,2,1,1,2,1,2],\"sumType\":null,\"wuxing\":null},{\"openDateTime\":\"2019-01-02 21:22:30\",\"issue\":\"723632\",\"openNum\":[8,5,7,4,6,2,10,1,9,3],\"sumArr\":[13,1,1,0],\"dtArr\":[1,2,1,2,1],\"formArr\":[],\"mimcryArr\":[],\"compareArr\":[2,2,2,1,1,1,1,1,2,2],\"sumType\":null,\"wuxing\":null},{\"openDateTime\":\"2019-01-02 21:17:30\",\"issue\":\"723631\",\"openNum\":[5,6,2,9,10,1,7,4,8,3],\"sumArr\":[11,1,2,0],\"dtArr\":[1,2,2,1,1],\"formArr\":[],\"mimcryArr\":[],\"compareArr\":[2,1,2,2,1,1,2,2,1,1],\"sumType\":null,\"wuxing\":null},{\"openDateTime\":\"2019-01-02 21:12:30\",\"issue\":\"723630\",\"openNum\":[7,9,5,6,1,4,2,8,10,3],\"sumArr\":[16,2,1,0],\"dtArr\":[1,2,2,1,2],\"formArr\":[],\"mimcryArr\":[],\"compareArr\":[1,2,2,2,1,1,1,2,1,2],\"sumType\":null,\"wuxing\":null},{\"openDateTime\":\"2019-01-02 21:07:30\",\"issue\":\"723629\",\"openNum\":[3,4,10,7,6,9,2,1,5,8],\"sumArr\":[7,1,2,0],\"dtArr\":[2,2,1,1,2],\"formArr\":[],\"mimcryArr\":[],\"compareArr\":[2,2,1,1,2,1,1,2,2,1],\"sumType\":null,\"wuxing\":null},{\"openDateTime\":\"2019-01-02 21:02:30\",\"issue\":\"723628\",\"openNum\":[9,7,4,2,10,8,1,3,6,5],\"sumArr\":[16,2,1,0],\"dtArr\":[1,1,1,1,1],\"formArr\":[],\"mimcryArr\":[],\"compareArr\":[2,1,2,1,2,2,1,2,1,1],\"sumType\":null,\"wuxing\":null},{\"openDateTime\":\"2019-01-02 20:57:30\",\"issue\":\"723627\",\"openNum\":[10,9,7,1,3,8,2,6,5,4],\"sumArr\":[19,1,1,0],\"dtArr\":[1,1,1,2,2],\"formArr\":[],\"mimcryArr\":[],\"compareArr\":[1,2,1,2,2,2,1,2,1,1],\"sumType\":null,\"wuxing\":null},{\"openDateTime\":\"2019-01-02 20:52:30\",\"issue\":\"723626\",\"openNum\":[4,5,8,7,6,2,1,10,9,3],\"sumArr\":[9,1,2,0],\"dtArr\":[1,2,2,1,1],\"formArr\":[],\"mimcryArr\":[],\"compareArr\":[2,2,2,1,1,1,1,1,2,2],\"sumType\":null,\"wuxing\":null},{\"openDateTime\":\"2019-01-02 20:47:30\",\"issue\":\"723625\",\"openNum\":[7,5,9,4,2,3,10,6,8,1],\"sumArr\":[12,2,1,0],\"dtArr\":[1,2,1,2,2],\"formArr\":[],\"mimcryArr\":[],\"compareArr\":[2,1,2,1,1,2,1,2,1,2],\"sumType\":null,\"wuxing\":null},{\"openDateTime\":\"2019-01-02 20:42:30\",\"issue\":\"723624\",\"openNum\":[9,5,2,4,6,7,1,3,10,8],\"sumArr\":[14,2,1,0],\"dtArr\":[1,2,2,1,2],\"formArr\":[],\"mimcryArr\":[],\"compareArr\":[2,1,2,1,1,1,2,2,1,2],\"sumType\":null,\"wuxing\":null},{\"openDateTime\":\"2019-01-02 20:37:30\",\"issue\":\"723623\",\"openNum\":[3,6,1,9,8,4,5,2,10,7],\"sumArr\":[9,1,2,0],\"dtArr\":[2,2,2,1,1],\"formArr\":[],\"mimcryArr\":[],\"compareArr\":[1,2,1,2,2,1,2,1,1,2],\"sumType\":null,\"wuxing\":null},{\"openDateTime\":\"2019-01-02 20:32:30\",\"issue\":\"723622\",\"openNum\":[3,5,7,10,9,8,6,2,1,4],\"sumArr\":[8,2,2,0],\"dtArr\":[2,1,1,1,1],\"formArr\":[],\"mimcryArr\":[],\"compareArr\":[2,2,1,2,1,2,1,2,1,1],\"sumType\":null,\"wuxing\":null},{\"openDateTime\":\"2019-01-02 20:27:30\",\"issue\":\"723621\",\"openNum\":[9,8,3,1,2,6,10,7,4,5],\"sumArr\":[17,1,1,0],\"dtArr\":[1,1,2,2,2],\"formArr\":[],\"mimcryArr\":[],\"compareArr\":[1,1,1,2,2,2,2,1,1,2],\"sumType\":null,\"wuxing\":null},{\"openDateTime\":\"2019-01-02 20:22:30\",\"issue\":\"723620\",\"openNum\":[3,2,7,10,1,5,9,6,8,4],\"sumArr\":[5,1,2,0],\"dtArr\":[2,2,1,1,2],\"formArr\":[],\"mimcryArr\":[],\"compareArr\":[1,1,1,2,2,2,1,2,2,1],\"sumType\":null,\"wuxing\":null},{\"openDateTime\":\"2019-01-02 20:17:30\",\"issue\":\"723619\",\"openNum\":[3,8,10,5,2,1,7,4,6,9],\"sumArr\":[11,1,2,0],\"dtArr\":[2,1,1,2,1],\"formArr\":[],\"mimcryArr\":[],\"compareArr\":[2,1,1,2,1,2,2,1,2,1],\"sumType\":null,\"wuxing\":null},{\"openDateTime\":\"2019-01-02 20:12:30\",\"issue\":\"723618\",\"openNum\":[4,5,6,1,7,9,10,2,8,3],\"sumArr\":[9,1,2,0],\"dtArr\":[1,2,1,2,2],\"formArr\":[],\"mimcryArr\":[],\"compareArr\":[1,2,2,1,1,1,1,2,2,2],\"sumType\":null,\"wuxing\":null},{\"openDateTime\":\"2019-01-02 20:07:30\",\"issue\":\"723617\",\"openNum\":[1,3,10,8,9,6,2,5,4,7],\"sumArr\":[4,2,2,0],\"dtArr\":[2,2,1,1,1],\"formArr\":[],\"mimcryArr\":[],\"compareArr\":[1,2,1,2,2,2,2,1,1,1],\"sumType\":null,\"wuxing\":null},{\"openDateTime\":\"2019-01-02 20:02:30\",\"issue\":\"723616\",\"openNum\":[4,9,6,2,10,5,7,3,8,1],\"sumArr\":[13,1,1,0],\"dtArr\":[1,1,1,2,1],\"formArr\":[],\"mimcryArr\":[],\"compareArr\":[2,1,2,1,2,1,2,2,1,1],\"sumType\":null,\"wuxing\":null},{\"openDateTime\":\"2019-01-02 19:57:30\",\"issue\":\"723615\",\"openNum\":[6,4,7,3,8,2,10,9,1,5],\"sumArr\":[10,2,2,0],\"dtArr\":[1,1,2,2,1],\"formArr\":[],\"mimcryArr\":[],\"compareArr\":[2,2,1,1,2,1,1,1,2,2],\"sumType\":null,\"wuxing\":null},{\"openDateTime\":\"2019-01-02 19:52:30\",\"issue\":\"723614\",\"openNum\":[8,2,7,1,10,5,9,3,6,4],\"sumArr\":[10,2,2,0],\"dtArr\":[1,2,1,2,1],\"formArr\":[],\"mimcryArr\":[],\"compareArr\":[1,1,2,2,2,2,1,1,2,1],\"sumType\":null,\"wuxing\":null},{\"openDateTime\":\"2019-01-02 19:47:30\",\"issue\":\"723613\",\"openNum\":[4,3,2,6,9,1,7,5,8,10],\"sumArr\":[7,1,2,0],\"dtArr\":[2,2,2,2,1],\"formArr\":[],\"mimcryArr\":[],\"compareArr\":[2,1,1,1,2,1,2,2,1,2],\"sumType\":null,\"wuxing\":null},{\"openDateTime\":\"2019-01-02 19:42:30\",\"issue\":\"723612\",\"openNum\":[4,8,6,7,3,5,9,10,2,1],\"sumArr\":[12,2,1,0],\"dtArr\":[1,1,2,2,2],\"formArr\":[],\"mimcryArr\":[],\"compareArr\":[2,2,1,1,2,1,1,1,2,2],\"sumType\":null,\"wuxing\":null},{\"openDateTime\":\"2019-01-02 19:37:30\",\"issue\":\"723611\",\"openNum\":[2,6,10,3,8,7,9,4,1,5],\"sumArr\":[8,2,2,0],\"dtArr\":[2,1,1,2,1],\"formArr\":[],\"mimcryArr\":[],\"compareArr\":[2,1,1,2,2,1,2,1,2,1],\"sumType\":null,\"wuxing\":null},{\"openDateTime\":\"2019-01-02 19:32:30\",\"issue\":\"723610\",\"openNum\":[2,10,9,1,3,8,5,4,7,6],\"sumArr\":[12,2,1,0],\"dtArr\":[2,1,1,2,2],\"formArr\":[],\"mimcryArr\":[],\"compareArr\":[1,1,1,2,2,2,2,2,1,1],\"sumType\":null,\"wuxing\":null},{\"openDateTime\":\"2019-01-02 19:27:30\",\"issue\":\"723609\",\"openNum\":[9,2,1,10,6,8,5,4,7,3],\"sumArr\":[11,1,2,0],\"dtArr\":[1,2,2,1,2],\"formArr\":[],\"mimcryArr\":[],\"compareArr\":[1,1,2,2,2,1,2,2,1,1],\"sumType\":null,\"wuxing\":null},{\"openDateTime\":\"2019-01-02 19:22:30\",\"issue\":\"723608\",\"openNum\":[8,4,9,3,6,1,7,5,10,2],\"sumArr\":[12,2,1,0],\"dtArr\":[1,2,1,2,1],\"formArr\":[],\"mimcryArr\":[],\"compareArr\":[2,2,1,1,2,1,2,1,1,2],\"sumType\":null,\"wuxing\":null},{\"openDateTime\":\"2019-01-02 19:17:30\",\"issue\":\"723607\",\"openNum\":[4,8,2,10,7,1,5,3,6,9],\"sumArr\":[12,2,1,0],\"dtArr\":[2,1,2,1,1],\"formArr\":[],\"mimcryArr\":[],\"compareArr\":[2,1,2,1,2,2,1,1,2,1],\"sumType\":null,\"wuxing\":null},{\"openDateTime\":\"2019-01-02 19:12:30\",\"issue\":\"723606\",\"openNum\":[6,7,2,8,10,4,9,3,5,1],\"sumArr\":[13,1,1,0],\"dtArr\":[1,1,2,2,1],\"formArr\":[],\"mimcryArr\":[],\"compareArr\":[2,1,2,2,2,1,1,1,2,1],\"sumType\":null,\"wuxing\":null},{\"openDateTime\":\"2019-01-02 19:07:30\",\"issue\":\"723605\",\"openNum\":[4,10,1,6,5,7,3,2,8,9],\"sumArr\":[14,2,1,0],\"dtArr\":[2,1,2,1,2],\"formArr\":[],\"mimcryArr\":[],\"compareArr\":[1,2,2,1,1,1,2,2,2,1],\"sumType\":null,\"wuxing\":null},{\"openDateTime\":\"2019-01-02 19:02:30\",\"issue\":\"723604\",\"openNum\":[1,4,3,6,10,9,2,8,7,5],\"sumArr\":[5,1,2,0],\"dtArr\":[2,2,2,1,1],\"formArr\":[],\"mimcryArr\":[],\"compareArr\":[1,2,1,1,2,1,2,2,2,1],\"sumType\":null,\"wuxing\":null},{\"openDateTime\":\"2019-01-02 18:57:30\",\"issue\":\"723603\",\"openNum\":[4,9,1,8,3,10,6,2,7,5],\"sumArr\":[13,1,1,0],\"dtArr\":[2,1,2,1,2],\"formArr\":[],\"mimcryArr\":[],\"compareArr\":[1,2,1,1,2,2,2,1,1,2],\"sumType\":null,\"wuxing\":null},{\"openDateTime\":\"2019-01-02 18:52:30\",\"issue\":\"723602\",\"openNum\":[2,10,3,6,4,9,8,7,5,1],\"sumArr\":[12,2,1,0],\"dtArr\":[1,1,2,2,2],\"formArr\":[],\"mimcryArr\":[],\"compareArr\":[2,1,1,1,2,1,2,2,2,1],\"sumType\":null,\"wuxing\":null},{\"openDateTime\":\"2019-01-02 18:47:30\",\"issue\":\"723601\",\"openNum\":[5,2,8,9,7,3,6,1,10,4],\"sumArr\":[7,1,2,0],\"dtArr\":[1,2,1,1,1],\"formArr\":[],\"mimcryArr\":[],\"compareArr\":[2,1,2,2,1,2,1,1,1,2],\"sumType\":null,\"wuxing\":null},{\"openDateTime\":\"2019-01-02 18:42:30\",\"issue\":\"723600\",\"openNum\":[8,3,10,1,9,6,2,4,7,5],\"sumArr\":[11,1,2,0],\"dtArr\":[1,2,1,2,1],\"formArr\":[],\"mimcryArr\":[],\"compareArr\":[1,2,1,2,2,2,2,1,1,1],\"sumType\":null,\"wuxing\":null},{\"openDateTime\":\"2019-01-02 18:37:30\",\"issue\":\"723599\",\"openNum\":[4,5,6,10,9,7,1,8,2,3],\"sumArr\":[9,1,2,0],\"dtArr\":[1,1,2,1,1],\"formArr\":[],\"mimcryArr\":[],\"compareArr\":[2,2,2,1,1,1,2,2,1,1],\"sumType\":null,\"wuxing\":null},{\"openDateTime\":\"2019-01-02 18:32:30\",\"issue\":\"723598\",\"openNum\":[1,10,9,4,3,5,2,6,7,8],\"sumArr\":[11,1,2,0],\"dtArr\":[2,1,1,1,2],\"formArr\":[],\"mimcryArr\":[],\"compareArr\":[1,2,1,1,2,2,2,2,1,1],\"sumType\":null,\"wuxing\":null},{\"openDateTime\":\"2019-01-02 18:27:30\",\"issue\":\"723597\",\"openNum\":[2,6,9,10,3,4,1,5,8,7],\"sumArr\":[8,2,2,0],\"dtArr\":[2,2,1,1,2],\"formArr\":[],\"mimcryArr\":[],\"compareArr\":[2,1,1,2,2,1,2,2,1,1],\"sumType\":null,\"wuxing\":null},{\"openDateTime\":\"2019-01-02 18:22:30\",\"issue\":\"723596\",\"openNum\":[9,10,4,1,8,7,2,6,5,3],\"sumArr\":[19,1,1,0],\"dtArr\":[1,1,2,2,1],\"formArr\":[],\"mimcryArr\":[],\"compareArr\":[1,2,2,1,2,2,2,1,1,1],\"sumType\":null,\"wuxing\":null},{\"openDateTime\":\"2019-01-02 18:17:30\",\"issue\":\"723595\",\"openNum\":[10,2,8,6,9,3,1,5,4,7],\"sumArr\":[12,2,1,0],\"dtArr\":[1,2,1,1,1],\"formArr\":[],\"mimcryArr\":[],\"compareArr\":[2,1,2,2,2,1,2,1,1,1],\"sumType\":null,\"wuxing\":null},{\"openDateTime\":\"2019-01-02 18:12:30\",\"issue\":\"723594\",\"openNum\":[1,4,10,6,9,7,2,5,3,8],\"sumArr\":[5,1,2,0],\"dtArr\":[2,1,1,1,1],\"formArr\":[],\"mimcryArr\":[],\"compareArr\":[1,2,2,1,2,1,2,2,1,1],\"sumType\":null,\"wuxing\":null},{\"openDateTime\":\"2019-01-02 18:07:30\",\"issue\":\"723593\",\"openNum\":[8,4,10,7,3,2,6,9,1,5],\"sumArr\":[12,2,1,0],\"dtArr\":[1,1,1,1,1],\"formArr\":[],\"mimcryArr\":[],\"compareArr\":[2,2,1,1,2,2,1,1,2,1],\"sumType\":null,\"wuxing\":null},{\"openDateTime\":\"2019-01-02 18:02:30\",\"issue\":\"723592\",\"openNum\":[10,7,1,2,6,3,4,5,8,9],\"sumArr\":[17,1,1,0],\"dtArr\":[1,2,2,2,1],\"formArr\":[],\"mimcryArr\":[],\"compareArr\":[1,1,2,2,2,1,1,2,2,1],\"sumType\":null,\"wuxing\":null},{\"openDateTime\":\"2019-01-02 17:57:30\",\"issue\":\"723591\",\"openNum\":[2,3,7,4,10,9,6,1,5,8],\"sumArr\":[5,1,2,0],\"dtArr\":[2,2,1,2,1],\"formArr\":[],\"mimcryArr\":[],\"compareArr\":[2,1,1,1,2,2,1,2,2,1],\"sumType\":null,\"wuxing\":null},{\"openDateTime\":\"2019-01-02 17:52:30\",\"issue\":\"723590\",\"openNum\":[5,4,7,1,2,3,9,8,6,10],\"sumArr\":[9,1,2,0],\"dtArr\":[2,2,2,2,2],\"formArr\":[],\"mimcryArr\":[],\"compareArr\":[1,1,2,1,1,2,1,2,2,2],\"sumType\":null,\"wuxing\":null},{\"openDateTime\":\"2019-01-02 17:47:30\",\"issue\":\"723589\",\"openNum\":[9,5,6,10,3,1,8,2,7,4],\"sumArr\":[14,2,1,0],\"dtArr\":[1,2,1,1,1],\"formArr\":[],\"mimcryArr\":[],\"compareArr\":[2,2,1,2,1,1,2,2,1,1],\"sumType\":null,\"wuxing\":null},{\"openDateTime\":\"2019-01-02 17:42:30\",\"issue\":\"723588\",\"openNum\":[10,2,7,1,3,8,9,4,5,6],\"sumArr\":[12,2,1,0],\"dtArr\":[1,2,1,2,2],\"formArr\":[],\"mimcryArr\":[],\"compareArr\":[1,1,1,2,2,2,1,2,2,1],\"sumType\":null,\"wuxing\":null},{\"openDateTime\":\"2019-01-02 17:37:30\",\"issue\":\"723587\",\"openNum\":[5,2,3,9,7,6,8,4,10,1],\"sumArr\":[7,1,2,0],\"dtArr\":[1,2,2,1,1],\"formArr\":[],\"mimcryArr\":[],\"compareArr\":[2,1,1,2,1,2,1,2,1,2],\"sumType\":null,\"wuxing\":null},{\"openDateTime\":\"2019-01-02 17:32:30\",\"issue\":\"723586\",\"openNum\":[7,8,5,2,10,6,9,1,3,4],\"sumArr\":[15,1,1,0],\"dtArr\":[1,1,1,2,1],\"formArr\":[],\"mimcryArr\":[],\"compareArr\":[2,1,2,2,1,2,1,1,2,1],\"sumType\":null,\"wuxing\":null},{\"openDateTime\":\"2019-01-02 17:27:30\",\"issue\":\"723585\",\"openNum\":[3,8,5,1,4,9,7,2,6,10],\"sumArr\":[11,1,2,0],\"dtArr\":[2,1,1,2,2],\"formArr\":[],\"mimcryArr\":[],\"compareArr\":[1,2,1,1,1,2,2,1,2,2],\"sumType\":null,\"wuxing\":null},{\"openDateTime\":\"2019-01-02 17:22:30\",\"issue\":\"723584\",\"openNum\":[4,5,1,6,9,10,7,3,8,2],\"sumArr\":[9,1,2,0],\"dtArr\":[1,2,2,2,2],\"formArr\":[],\"mimcryArr\":[],\"compareArr\":[1,2,2,1,1,1,2,2,1,2],\"sumType\":null,\"wuxing\":null},{\"openDateTime\":\"2019-01-02 17:17:30\",\"issue\":\"723583\",\"openNum\":[8,7,10,9,5,1,6,3,4,2],\"sumArr\":[15,1,1,0],\"dtArr\":[1,1,1,1,1],\"formArr\":[],\"mimcryArr\":[],\"compareArr\":[2,2,2,2,1,2,1,1,1,1],\"sumType\":null,\"wuxing\":null},{\"openDateTime\":\"2019-01-02 17:12:30\",\"issue\":\"723582\",\"openNum\":[1,5,9,3,7,4,8,2,10,6],\"sumArr\":[6,2,2,0],\"dtArr\":[2,2,1,2,1],\"formArr\":[],\"mimcryArr\":[],\"compareArr\":[1,2,1,2,1,2,1,2,1,2],\"sumType\":null,\"wuxing\":null},{\"openDateTime\":\"2019-01-02 17:07:30\",\"issue\":\"723581\",\"openNum\":[9,10,4,5,1,6,2,8,7,3],\"sumArr\":[19,1,1,0],\"dtArr\":[1,1,2,1,2],\"formArr\":[],\"mimcryArr\":[],\"compareArr\":[1,2,2,1,1,2,2,2,1,1],\"sumType\":null,\"wuxing\":null},{\"openDateTime\":\"2019-01-02 17:02:30\",\"issue\":\"723580\",\"openNum\":[8,5,7,1,9,3,10,4,2,6],\"sumArr\":[13,1,1,0],\"dtArr\":[1,1,1,2,1],\"formArr\":[],\"mimcryArr\":[],\"compareArr\":[1,2,2,2,1,2,1,1,1,2],\"sumType\":null,\"wuxing\":null},{\"openDateTime\":\"2019-01-02 16:57:30\",\"issue\":\"723579\",\"openNum\":[10,6,2,4,8,1,7,5,9,3],\"sumArr\":[16,2,1,0],\"dtArr\":[1,2,2,2,1],\"formArr\":[],\"mimcryArr\":[],\"compareArr\":[2,1,2,1,2,1,2,1,2,1],\"sumType\":null,\"wuxing\":null},{\"openDateTime\":\"2019-01-02 16:52:30\",\"issue\":\"723578\",\"openNum\":[10,3,1,7,8,9,2,5,6,4],\"sumArr\":[13,1,1,0],\"dtArr\":[1,2,2,1,2],\"formArr\":[],\"mimcryArr\":[],\"compareArr\":[1,2,1,2,2,2,1,1,2,1],\"sumType\":null,\"wuxing\":null},{\"openDateTime\":\"2019-01-02 16:47:30\",\"issue\":\"723577\",\"openNum\":[3,7,9,10,5,8,4,2,6,1],\"sumArr\":[10,2,2,0],\"dtArr\":[1,1,1,1,2],\"formArr\":[],\"mimcryArr\":[],\"compareArr\":[2,2,1,2,1,2,1,2,1,1],\"sumType\":null,\"wuxing\":null},{\"openDateTime\":\"2019-01-02 16:37:30\",\"issue\":\"723575\",\"openNum\":[9,6,4,2,10,5,3,1,7,8],\"sumArr\":[15,1,1,0],\"dtArr\":[1,2,1,2,1],\"formArr\":[],\"mimcryArr\":[],\"compareArr\":[2,1,2,1,2,1,2,2,1,1],\"sumType\":null,\"wuxing\":null},{\"openDateTime\":\"2019-01-02 16:32:30\",\"issue\":\"723574\",\"openNum\":[8,4,6,10,3,1,2,7,5,9],\"sumArr\":[12,2,1,0],\"dtArr\":[2,2,2,1,1],\"formArr\":[],\"mimcryArr\":[],\"compareArr\":[2,2,1,1,2,1,2,1,2,1],\"sumType\":null,\"wuxing\":null},{\"openDateTime\":\"2019-01-02 16:27:30\",\"issue\":\"723573\",\"openNum\":[8,1,7,5,3,2,9,4,10,6],\"sumArr\":[9,1,2,0],\"dtArr\":[1,2,1,2,1],\"formArr\":[],\"mimcryArr\":[],\"compareArr\":[1,2,1,2,1,2,1,1,2,2],\"sumType\":null,\"wuxing\":null},{\"openDateTime\":\"2019-01-02 16:22:30\",\"issue\":\"723572\",\"openNum\":[9,7,2,1,8,3,10,5,6,4],\"sumArr\":[16,2,1,0],\"dtArr\":[1,1,2,2,1],\"formArr\":[],\"mimcryArr\":[],\"compareArr\":[1,1,2,2,2,2,1,1,1,2],\"sumType\":null,\"wuxing\":null},{\"openDateTime\":\"2019-01-02 16:17:30\",\"issue\":\"723571\",\"openNum\":[9,3,5,2,4,10,7,6,8,1],\"sumArr\":[12,2,1,0],\"dtArr\":[1,2,2,2,2],\"formArr\":[],\"mimcryArr\":[],\"compareArr\":[2,1,1,1,1,2,2,2,1,2],\"sumType\":null,\"wuxing\":null},{\"openDateTime\":\"2019-01-02 16:12:30\",\"issue\":\"723570\",\"openNum\":[6,1,2,3,5,4,7,8,9,10],\"sumArr\":[7,1,2,0],\"dtArr\":[2,2,2,2,1],\"formArr\":[],\"mimcryArr\":[],\"compareArr\":[1,1,1,2,1,1,2,2,2,2],\"sumType\":null,\"wuxing\":null},{\"openDateTime\":\"2019-01-02 16:07:30\",\"issue\":\"723569\",\"openNum\":[9,5,4,8,10,1,3,6,7,2],\"sumArr\":[14,2,1,0],\"dtArr\":[1,2,2,1,1],\"formArr\":[],\"mimcryArr\":[],\"compareArr\":[2,2,2,1,1,2,2,1,1,1],\"sumType\":null,\"wuxing\":null},{\"openDateTime\":\"2019-01-02 16:02:30\",\"issue\":\"723568\",\"openNum\":[4,10,9,7,8,1,2,6,5,3],\"sumArr\":[14,2,1,0],\"dtArr\":[1,1,1,1,1],\"formArr\":[],\"mimcryArr\":[],\"compareArr\":[2,2,2,1,2,2,1,1,1,1],\"sumType\":null,\"wuxing\":null},{\"openDateTime\":\"2019-01-02 15:57:30\",\"issue\":\"723567\",\"openNum\":[1,5,9,6,8,3,4,7,10,2],\"sumArr\":[6,2,2,0],\"dtArr\":[2,2,1,1,1],\"formArr\":[],\"mimcryArr\":[],\"compareArr\":[1,2,2,2,1,1,2,1,1,2],\"sumType\":null,\"wuxing\":null},{\"openDateTime\":\"2019-01-02 15:52:30\",\"issue\":\"723566\",\"openNum\":[1,10,4,6,5,3,2,8,7,9],\"sumArr\":[11,1,2,0],\"dtArr\":[2,1,2,1,1],\"formArr\":[],\"mimcryArr\":[],\"compareArr\":[1,2,2,1,1,1,2,2,2,1],\"sumType\":null,\"wuxing\":null},{\"openDateTime\":\"2019-01-02 15:47:30\",\"issue\":\"723565\",\"openNum\":[5,2,9,6,8,10,7,3,1,4],\"sumArr\":[7,1,2,0],\"dtArr\":[1,1,1,2,2],\"formArr\":[],\"mimcryArr\":[],\"compareArr\":[2,1,2,2,1,1,2,1,1,2],\"sumType\":null,\"wuxing\":null},{\"openDateTime\":\"2019-01-02 15:42:30\",\"issue\":\"723564\",\"openNum\":[4,8,10,3,6,9,5,2,7,1],\"sumArr\":[12,2,1,0],\"dtArr\":[1,1,1,2,2],\"formArr\":[],\"mimcryArr\":[],\"compareArr\":[2,2,1,1,2,1,2,1,2,1],\"sumType\":null,\"wuxing\":null},{\"openDateTime\":\"2019-01-02 15:37:30\",\"issue\":\"723563\",\"openNum\":[1,2,7,10,9,6,4,5,3,8],\"sumArr\":[3,1,2,0],\"dtArr\":[2,2,1,1,1],\"formArr\":[],\"mimcryArr\":[],\"compareArr\":[1,1,2,2,2,2,1,2,1,1],\"sumType\":null,\"wuxing\":null},{\"openDateTime\":\"2019-01-02 15:32:30\",\"issue\":\"723562\",\"openNum\":[9,10,6,8,1,2,5,7,3,4],\"sumArr\":[19,1,1,0],\"dtArr\":[1,1,2,1,2],\"formArr\":[],\"mimcryArr\":[],\"compareArr\":[1,2,2,2,2,1,2,1,1,1],\"sumType\":null,\"wuxing\":null},{\"openDateTime\":\"2019-01-02 15:27:30\",\"issue\":\"723561\",\"openNum\":[7,2,6,9,1,10,5,3,8,4],\"sumArr\":[9,1,2,0],\"dtArr\":[1,2,1,1,2],\"formArr\":[],\"mimcryArr\":[],\"compareArr\":[1,1,2,2,2,1,1,2,1,2],\"sumType\":null,\"wuxing\":null},{\"openDateTime\":\"2019-01-02 15:22:30\",\"issue\":\"723560\",\"openNum\":[4,1,2,10,6,9,5,7,3,8],\"sumArr\":[5,1,2,0],\"dtArr\":[2,2,2,1,2],\"formArr\":[],\"mimcryArr\":[],\"compareArr\":[1,1,2,1,2,1,2,2,2,1],\"sumType\":null,\"wuxing\":null},{\"openDateTime\":\"2019-01-02 15:17:30\",\"issue\":\"723559\",\"openNum\":[6,3,10,1,9,8,7,5,2,4],\"sumArr\":[9,1,2,0],\"dtArr\":[1,1,1,2,1],\"formArr\":[],\"mimcryArr\":[],\"compareArr\":[1,2,1,2,2,1,2,2,1,1],\"sumType\":null,\"wuxing\":null},{\"openDateTime\":\"2019-01-02 15:12:30\",\"issue\":\"723558\",\"openNum\":[1,10,9,7,3,6,5,2,4,8],\"sumArr\":[11,1,2,0],\"dtArr\":[2,1,1,1,2],\"formArr\":[],\"mimcryArr\":[],\"compareArr\":[1,2,1,2,2,2,1,2,1,1],\"sumType\":null,\"wuxing\":null},{\"openDateTime\":\"2019-01-02 15:07:30\",\"issue\":\"723557\",\"openNum\":[4,9,8,7,5,3,1,10,6,2],\"sumArr\":[13,1,1,0],\"dtArr\":[1,1,2,1,1],\"formArr\":[],\"mimcryArr\":[],\"compareArr\":[2,2,2,1,1,2,1,1,1,2],\"sumType\":null,\"wuxing\":null},{\"openDateTime\":\"2019-01-02 15:02:30\",\"issue\":\"723556\",\"openNum\":[4,9,7,8,3,1,6,2,5,10],\"sumArr\":[13,1,1,0],\"dtArr\":[2,1,1,1,1],\"formArr\":[],\"mimcryArr\":[],\"compareArr\":[2,2,1,1,2,2,1,1,1,2],\"sumType\":null,\"wuxing\":null},{\"openDateTime\":\"2019-01-02 14:57:30\",\"issue\":\"723555\",\"openNum\":[4,10,3,9,2,1,5,6,7,8],\"sumArr\":[14,2,1,0],\"dtArr\":[2,1,2,1,1],\"formArr\":[],\"mimcryArr\":[],\"compareArr\":[2,1,1,1,2,2,2,2,1,1],\"sumType\":null,\"wuxing\":null},{\"openDateTime\":\"2019-01-02 14:52:30\",\"issue\":\"723554\",\"openNum\":[5,8,6,9,1,4,7,10,3,2],\"sumArr\":[13,1,1,0],\"dtArr\":[1,1,2,1,2],\"formArr\":[],\"mimcryArr\":[],\"compareArr\":[1,2,2,2,1,1,2,1,1,2],\"sumType\":null,\"wuxing\":null},{\"openDateTime\":\"2019-01-02 14:47:30\",\"issue\":\"723553\",\"openNum\":[9,7,6,1,2,4,10,8,3,5],\"sumArr\":[16,2,1,0],\"dtArr\":[1,1,2,2,2],\"formArr\":[],\"mimcryArr\":[],\"compareArr\":[1,1,2,2,2,1,1,2,1,2],\"sumType\":null,\"wuxing\":null},{\"openDateTime\":\"2019-01-02 14:42:30\",\"issue\":\"723552\",\"openNum\":[4,7,6,5,10,1,9,3,8,2],\"sumArr\":[11,1,2,0],\"dtArr\":[1,2,1,2,1],\"formArr\":[],\"mimcryArr\":[],\"compareArr\":[2,2,2,1,1,1,1,2,2,1],\"sumType\":null,\"wuxing\":null},{\"openDateTime\":\"2019-01-02 14:37:30\",\"issue\":\"723551\",\"openNum\":[6,3,4,1,2,8,10,7,5,9],\"sumArr\":[9,1,2,0],\"dtArr\":[2,2,2,2,2],\"formArr\":[],\"mimcryArr\":[],\"compareArr\":[1,1,1,1,2,1,2,2,2,2],\"sumType\":null,\"wuxing\":null},{\"openDateTime\":\"2019-01-02 14:32:30\",\"issue\":\"723550\",\"openNum\":[2,8,9,4,3,7,5,10,6,1],\"sumArr\":[10,2,2,0],\"dtArr\":[1,1,2,2,2],\"formArr\":[],\"mimcryArr\":[],\"compareArr\":[2,1,1,1,2,2,2,1,1,2],\"sumType\":null,\"wuxing\":null},{\"openDateTime\":\"2019-01-02 14:27:30\",\"issue\":\"723549\",\"openNum\":[10,6,2,3,8,4,7,5,9,1],\"sumArr\":[16,2,1,0],\"dtArr\":[1,2,2,2,1],\"formArr\":[],\"mimcryArr\":[],\"compareArr\":[2,1,1,2,2,1,2,1,2,1],\"sumType\":null,\"wuxing\":null},{\"openDateTime\":\"2019-01-02 14:22:30\",\"issue\":\"723548\",\"openNum\":[5,6,9,3,8,1,2,4,10,7],\"sumArr\":[11,1,2,0],\"dtArr\":[2,2,1,1,1],\"formArr\":[],\"mimcryArr\":[],\"compareArr\":[2,2,1,2,1,1,2,1,1,2],\"sumType\":null,\"wuxing\":null},{\"openDateTime\":\"2019-01-02 14:17:30\",\"issue\":\"723547\",\"openNum\":[5,4,1,10,7,8,2,3,9,6],\"sumArr\":[9,1,2,0],\"dtArr\":[2,2,2,1,2],\"formArr\":[],\"mimcryArr\":[],\"compareArr\":[1,2,2,1,1,2,1,2,2,1],\"sumType\":null,\"wuxing\":null},{\"openDateTime\":\"2019-01-02 14:12:30\",\"issue\":\"723546\",\"openNum\":[6,4,9,7,5,8,1,3,10,2],\"sumArr\":[10,2,2,0],\"dtArr\":[1,2,1,1,2],\"formArr\":[],\"mimcryArr\":[],\"compareArr\":[2,2,2,1,1,1,1,2,1,2],\"sumType\":null,\"wuxing\":null},{\"openDateTime\":\"2019-01-02 14:07:30\",\"issue\":\"723545\",\"openNum\":[3,2,6,4,8,10,9,7,5,1],\"sumArr\":[5,1,2,0],\"dtArr\":[1,2,2,2,2],\"formArr\":[],\"mimcryArr\":[],\"compareArr\":[2,1,1,1,2,1,2,1,2,2],\"sumType\":null,\"wuxing\":null},{\"openDateTime\":\"2019-01-02 14:02:30\",\"issue\":\"723544\",\"openNum\":[4,8,3,10,1,6,7,5,2,9],\"sumArr\":[12,2,1,0],\"dtArr\":[2,1,2,1,2],\"formArr\":[],\"mimcryArr\":[],\"compareArr\":[1,2,1,1,2,2,2,1,2,1],\"sumType\":null,\"wuxing\":null},{\"openDateTime\":\"2019-01-02 13:57:30\",\"issue\":\"723543\",\"openNum\":[9,2,10,8,3,4,5,1,7,6],\"sumArr\":[11,1,2,0],\"dtArr\":[1,2,1,1,2],\"formArr\":[],\"mimcryArr\":[],\"compareArr\":[2,1,1,2,2,2,2,1,1,1],\"sumType\":null,\"wuxing\":null},{\"openDateTime\":\"2019-01-02 13:52:30\",\"issue\":\"723542\",\"openNum\":[3,9,1,10,7,2,4,5,8,6],\"sumArr\":[12,2,1,0],\"dtArr\":[2,1,2,1,1],\"formArr\":[],\"mimcryArr\":[],\"compareArr\":[1,2,1,2,2,2,1,2,1,1],\"sumType\":null,\"wuxing\":null},{\"openDateTime\":\"2019-01-02 13:47:30\",\"issue\":\"723541\",\"openNum\":[3,9,6,1,2,10,7,8,4,5],\"sumArr\":[12,2,1,0],\"dtArr\":[2,1,2,2,2],\"formArr\":[],\"mimcryArr\":[],\"compareArr\":[1,1,1,2,2,1,2,2,1,2],\"sumType\":null,\"wuxing\":null},{\"openDateTime\":\"2019-01-02 13:42:30\",\"issue\":\"723540\",\"openNum\":[2,3,6,8,10,4,1,9,7,5],\"sumArr\":[5,1,2,0],\"dtArr\":[2,2,2,1,1],\"formArr\":[],\"mimcryArr\":[],\"compareArr\":[2,1,1,2,2,1,2,1,2,1],\"sumType\":null,\"wuxing\":null},{\"openDateTime\":\"2019-01-02 13:37:30\",\"issue\":\"723539\",\"openNum\":[1,7,2,10,5,6,3,9,4,8],\"sumArr\":[8,2,2,0],\"dtArr\":[2,1,2,1,2],\"formArr\":[],\"mimcryArr\":[],\"compareArr\":[1,1,2,2,1,2,1,2,2,1],\"sumType\":null,\"wuxing\":null},{\"openDateTime\":\"2019-01-02 13:32:30\",\"issue\":\"723538\",\"openNum\":[7,10,6,5,8,9,3,4,2,1],\"sumArr\":[17,1,1,0],\"dtArr\":[1,1,1,1,2],\"formArr\":[],\"mimcryArr\":[],\"compareArr\":[2,2,2,2,1,1,1,1,2,1],\"sumType\":null,\"wuxing\":null},{\"openDateTime\":\"2019-01-02 13:27:30\",\"issue\":\"723537\",\"openNum\":[5,8,1,6,2,9,7,4,3,10],\"sumArr\":[13,1,1,0],\"dtArr\":[2,1,2,2,2],\"formArr\":[],\"mimcryArr\":[],\"compareArr\":[1,1,2,2,1,1,2,1,2,2],\"sumType\":null,\"wuxing\":null},{\"openDateTime\":\"2019-01-02 13:22:30\",\"issue\":\"723536\",\"openNum\":[3,2,9,5,7,1,10,8,6,4],\"sumArr\":[5,1,2,0],\"dtArr\":[2,2,1,2,1],\"formArr\":[],\"mimcryArr\":[],\"compareArr\":[2,1,1,2,1,2,1,2,1,2],\"sumType\":null,\"wuxing\":null},{\"openDateTime\":\"2019-01-02 13:17:30\",\"issue\":\"723535\",\"openNum\":[6,4,1,10,5,7,8,2,3,9],\"sumArr\":[10,2,2,0],\"dtArr\":[2,1,2,1,2],\"formArr\":[],\"mimcryArr\":[],\"compareArr\":[1,2,2,1,1,1,2,2,2,1],\"sumType\":null,\"wuxing\":null},{\"openDateTime\":\"2019-01-02 13:12:30\",\"issue\":\"723534\",\"openNum\":[6,8,10,4,1,9,3,7,5,2],\"sumArr\":[14,2,1,0],\"dtArr\":[1,1,1,1,2],\"formArr\":[],\"mimcryArr\":[],\"compareArr\":[1,2,2,1,2,1,2,1,2,1],\"sumType\":null,\"wuxing\":null},{\"openDateTime\":\"2019-01-02 13:07:30\",\"issue\":\"723533\",\"openNum\":[3,8,4,1,2,10,7,6,9,5],\"sumArr\":[11,1,2,0],\"dtArr\":[2,2,2,2,2],\"formArr\":[],\"mimcryArr\":[],\"compareArr\":[1,1,1,1,2,2,2,1,2,2],\"sumType\":null,\"wuxing\":null},{\"openDateTime\":\"2019-01-02 13:02:30\",\"issue\":\"723532\",\"openNum\":[4,1,3,6,5,8,7,2,10,9],\"sumArr\":[5,1,2,0],\"dtArr\":[2,2,1,2,2],\"formArr\":[],\"mimcryArr\":[],\"compareArr\":[1,2,1,1,1,1,2,2,2,2],\"sumType\":null,\"wuxing\":null},{\"openDateTime\":\"2019-01-02 12:57:30\",\"issue\":\"723531\",\"openNum\":[7,5,1,6,8,3,4,10,2,9],\"sumArr\":[12,2,1,0],\"dtArr\":[2,1,2,1,1],\"formArr\":[],\"mimcryArr\":[],\"compareArr\":[1,2,2,2,1,1,1,1,2,2],\"sumType\":null,\"wuxing\":null},{\"openDateTime\":\"2019-01-02 12:52:30\",\"issue\":\"723530\",\"openNum\":[3,7,2,9,4,5,6,8,10,1],\"sumArr\":[10,2,2,0],\"dtArr\":[1,2,2,1,2],\"formArr\":[],\"mimcryArr\":[],\"compareArr\":[2,1,1,1,2,2,1,2,1,2],\"sumType\":null,\"wuxing\":null},{\"openDateTime\":\"2019-01-02 12:47:30\",\"issue\":\"723529\",\"openNum\":[1,4,10,2,7,9,6,5,3,8],\"sumArr\":[5,1,2,0],\"dtArr\":[2,1,1,2,2],\"formArr\":[],\"mimcryArr\":[],\"compareArr\":[1,1,2,1,2,2,1,2,2,1],\"sumType\":null,\"wuxing\":null},{\"openDateTime\":\"2019-01-02 12:42:30\",\"issue\":\"723528\",\"openNum\":[7,1,6,3,9,2,8,10,4,5],\"sumArr\":[8,2,2,0],\"dtArr\":[1,2,2,2,1],\"formArr\":[],\"mimcryArr\":[],\"compareArr\":[1,2,1,2,2,1,1,2,1,2],\"sumType\":null,\"wuxing\":null},{\"openDateTime\":\"2019-01-02 12:37:30\",\"issue\":\"723527\",\"openNum\":[8,4,3,2,10,9,6,1,7,5],\"sumArr\":[12,2,1,0],\"dtArr\":[1,2,1,2,1],\"formArr\":[],\"mimcryArr\":[],\"compareArr\":[2,1,1,1,2,2,2,1,2,1],\"sumType\":null,\"wuxing\":null},{\"openDateTime\":\"2019-01-02 12:32:30\",\"issue\":\"723526\",\"openNum\":[8,10,5,9,7,3,2,1,4,6],\"sumArr\":[18,2,1,0],\"dtArr\":[1,1,1,1,1],\"formArr\":[],\"mimcryArr\":[],\"compareArr\":[2,2,2,2,1,2,1,1,1,1],\"sumType\":null,\"wuxing\":null},{\"openDateTime\":\"2019-01-02 12:27:30\",\"issue\":\"723525\",\"openNum\":[9,1,4,6,8,3,10,2,7,5],\"sumArr\":[10,2,2,0],\"dtArr\":[1,2,1,2,1],\"formArr\":[],\"mimcryArr\":[],\"compareArr\":[1,2,2,1,2,1,2,1,1,2],\"sumType\":null,\"wuxing\":null},{\"openDateTime\":\"2019-01-02 12:22:30\",\"issue\":\"723524\",\"openNum\":[5,8,10,3,7,4,9,6,1,2],\"sumArr\":[13,1,1,0],\"dtArr\":[1,1,1,2,1],\"formArr\":[],\"mimcryArr\":[],\"compareArr\":[2,2,1,2,1,2,1,1,2,1],\"sumType\":null,\"wuxing\":null},{\"openDateTime\":\"2019-01-02 12:17:30\",\"issue\":\"723523\",\"openNum\":[2,7,5,3,10,8,9,1,6,4],\"sumArr\":[9,1,2,0],\"dtArr\":[2,1,1,2,1],\"formArr\":[],\"mimcryArr\":[],\"compareArr\":[2,1,1,2,1,2,1,2,2,1],\"sumType\":null,\"wuxing\":null},{\"openDateTime\":\"2019-01-02 12:12:30\",\"issue\":\"723522\",\"openNum\":[8,2,7,5,10,6,9,3,1,4],\"sumArr\":[10,2,2,0],\"dtArr\":[1,1,1,2,1],\"formArr\":[],\"mimcryArr\":[],\"compareArr\":[2,1,2,2,1,2,1,1,2,1],\"sumType\":null,\"wuxing\":null},{\"openDateTime\":\"2019-01-02 12:07:30\",\"issue\":\"723521\",\"openNum\":[2,3,10,9,6,1,4,8,5,7],\"sumArr\":[5,1,2,0],\"dtArr\":[2,2,1,1,1],\"formArr\":[],\"mimcryArr\":[],\"compareArr\":[2,1,1,2,2,1,2,2,1,1],\"sumType\":null,\"wuxing\":null},{\"openDateTime\":\"2019-01-02 12:02:30\",\"issue\":\"723520\",\"openNum\":[5,2,8,1,4,10,3,7,9,6],\"sumArr\":[7,1,2,0],\"dtArr\":[2,2,1,2,2],\"formArr\":[],\"mimcryArr\":[],\"compareArr\":[1,1,2,1,1,2,2,1,2,2],\"sumType\":null,\"wuxing\":null},{\"openDateTime\":\"2019-01-02 11:57:30\",\"issue\":\"723519\",\"openNum\":[1,3,5,4,6,10,8,7,2,9],\"sumArr\":[4,2,2,0],\"dtArr\":[2,1,2,2,2],\"formArr\":[],\"mimcryArr\":[],\"compareArr\":[1,2,1,1,1,1,2,2,2,2],\"sumType\":null,\"wuxing\":null},{\"openDateTime\":\"2019-01-02 11:52:30\",\"issue\":\"723518\",\"openNum\":[1,6,5,7,2,8,3,10,4,9],\"sumArr\":[7,1,2,0],\"dtArr\":[2,1,2,1,2],\"formArr\":[],\"mimcryArr\":[],\"compareArr\":[1,1,2,2,1,1,1,2,2,2],\"sumType\":null,\"wuxing\":null},{\"openDateTime\":\"2019-01-02 11:47:30\",\"issue\":\"723517\",\"openNum\":[4,3,2,5,8,7,6,9,10,1],\"sumArr\":[7,1,2,0],\"dtArr\":[1,2,2,2,1],\"formArr\":[],\"mimcryArr\":[],\"compareArr\":[2,1,1,1,1,2,2,1,2,2],\"sumType\":null,\"wuxing\":null},{\"openDateTime\":\"2019-01-02 11:42:30\",\"issue\":\"723516\",\"openNum\":[3,8,2,7,4,9,10,1,6,5],\"sumArr\":[11,1,2,0],\"dtArr\":[2,1,1,2,2],\"formArr\":[],\"mimcryArr\":[],\"compareArr\":[2,1,1,1,2,2,1,1,2,2],\"sumType\":null,\"wuxing\":null},{\"openDateTime\":\"2019-01-02 11:37:30\",\"issue\":\"723515\",\"openNum\":[2,8,10,1,4,9,3,7,5,6],\"sumArr\":[10,2,2,0],\"dtArr\":[2,1,1,2,2],\"formArr\":[],\"mimcryArr\":[],\"compareArr\":[1,1,2,1,2,2,2,1,2,1],\"sumType\":null,\"wuxing\":null},{\"openDateTime\":\"2019-01-02 11:32:30\",\"issue\":\"723514\",\"openNum\":[3,5,7,1,8,10,2,9,6,4],\"sumArr\":[8,2,2,0],\"dtArr\":[2,2,2,2,2],\"formArr\":[],\"mimcryArr\":[],\"compareArr\":[1,2,1,2,1,2,1,1,2,2],\"sumType\":null,\"wuxing\":null},{\"openDateTime\":\"2019-01-02 11:27:30\",\"issue\":\"723513\",\"openNum\":[2,5,6,4,3,10,9,1,7,8],\"sumArr\":[7,1,2,0],\"dtArr\":[2,2,1,2,2],\"formArr\":[],\"mimcryArr\":[],\"compareArr\":[2,1,1,1,1,1,2,2,2,2],\"sumType\":null,\"wuxing\":null},{\"openDateTime\":\"2019-01-02 11:22:30\",\"issue\":\"723512\",\"openNum\":[2,5,1,4,7,6,9,10,3,8],\"sumArr\":[7,1,2,0],\"dtArr\":[2,1,2,2,1],\"formArr\":[],\"mimcryArr\":[],\"compareArr\":[1,1,2,1,1,2,1,2,2,2],\"sumType\":null,\"wuxing\":null},{\"openDateTime\":\"2019-01-02 11:17:30\",\"issue\":\"723511\",\"openNum\":[2,10,8,3,1,5,7,9,6,4],\"sumArr\":[12,2,1,0],\"dtArr\":[2,1,2,2,2],\"formArr\":[],\"mimcryArr\":[],\"compareArr\":[1,1,1,2,2,2,2,1,2,1],\"sumType\":null,\"wuxing\":null},{\"openDateTime\":\"2019-01-02 11:12:30\",\"issue\":\"723510\",\"openNum\":[6,5,8,7,1,3,4,2,10,9],\"sumArr\":[11,1,2,0],\"dtArr\":[2,2,1,1,2],\"formArr\":[],\"mimcryArr\":[],\"compareArr\":[1,2,2,2,1,1,1,1,2,2],\"sumType\":null,\"wuxing\":null},{\"openDateTime\":\"2019-01-02 11:07:30\",\"issue\":\"723509\",\"openNum\":[5,8,3,6,4,9,10,2,1,7],\"sumArr\":[13,1,1,0],\"dtArr\":[2,1,1,2,2],\"formArr\":[],\"mimcryArr\":[],\"compareArr\":[2,2,1,1,1,1,2,1,2,2],\"sumType\":null,\"wuxing\":null},{\"openDateTime\":\"2019-01-02 11:02:30\",\"issue\":\"723508\",\"openNum\":[1,7,10,6,5,8,3,4,2,9],\"sumArr\":[8,2,2,0],\"dtArr\":[2,1,1,1,2],\"formArr\":[],\"mimcryArr\":[],\"compareArr\":[1,2,2,2,1,1,1,2,2,1],\"sumType\":null,\"wuxing\":null},{\"openDateTime\":\"2019-01-02 10:57:30\",\"issue\":\"723507\",\"openNum\":[4,8,1,9,2,3,5,10,6,7],\"sumArr\":[12,2,1,0],\"dtArr\":[2,1,2,1,2],\"formArr\":[],\"mimcryArr\":[],\"compareArr\":[1,1,2,1,2,2,2,1,1,2],\"sumType\":null,\"wuxing\":null},{\"openDateTime\":\"2019-01-02 10:52:30\",\"issue\":\"723506\",\"openNum\":[1,6,10,7,3,4,9,8,2,5],\"sumArr\":[7,1,2,0],\"dtArr\":[2,1,1,2,2],\"formArr\":[],\"mimcryArr\":[],\"compareArr\":[1,2,1,2,2,1,1,2,2,1],\"sumType\":null,\"wuxing\":null},{\"openDateTime\":\"2019-01-02 10:47:30\",\"issue\":\"723505\",\"openNum\":[2,8,6,10,9,1,7,4,3,5],\"sumArr\":[10,2,2,0],\"dtArr\":[2,1,1,1,1],\"formArr\":[],\"mimcryArr\":[],\"compareArr\":[2,1,2,2,2,1,2,1,1,1],\"sumType\":null,\"wuxing\":null},{\"openDateTime\":\"2019-01-02 10:42:30\",\"issue\":\"723504\",\"openNum\":[7,1,4,9,10,3,2,6,5,8],\"sumArr\":[8,2,2,0],\"dtArr\":[2,2,2,1,1],\"formArr\":[],\"mimcryArr\":[],\"compareArr\":[1,2,2,1,2,2,1,2,1,1],\"sumType\":null,\"wuxing\":null},{\"openDateTime\":\"2019-01-02 10:37:30\",\"issue\":\"723503\",\"openNum\":[5,7,10,3,4,9,1,2,6,8],\"sumArr\":[12,2,1,0],\"dtArr\":[2,1,1,1,2],\"formArr\":[],\"mimcryArr\":[],\"compareArr\":[2,2,1,1,1,2,1,2,2,1],\"sumType\":null,\"wuxing\":null},{\"openDateTime\":\"2019-01-02 10:32:30\",\"issue\":\"723502\",\"openNum\":[10,5,1,2,4,3,8,9,6,7],\"sumArr\":[15,1,1,0],\"dtArr\":[1,2,2,2,1],\"formArr\":[],\"mimcryArr\":[],\"compareArr\":[1,1,2,1,1,2,2,2,2,1],\"sumType\":null,\"wuxing\":null},{\"openDateTime\":\"2019-01-02 10:27:30\",\"issue\":\"723501\",\"openNum\":[6,3,2,7,9,10,1,8,4,5],\"sumArr\":[9,1,2,0],\"dtArr\":[1,2,2,1,2],\"formArr\":[],\"mimcryArr\":[],\"compareArr\":[2,1,1,2,2,1,1,2,1,2],\"sumType\":null,\"wuxing\":null},{\"openDateTime\":\"2019-01-02 10:22:30\",\"issue\":\"723500\",\"openNum\":[8,4,3,5,10,2,7,1,6,9],\"sumArr\":[12,2,1,0],\"dtArr\":[2,2,1,2,1],\"formArr\":[],\"mimcryArr\":[],\"compareArr\":[2,2,1,1,1,2,2,1,2,1],\"sumType\":null,\"wuxing\":null},{\"openDateTime\":\"2019-01-02 10:17:30\",\"issue\":\"723499\",\"openNum\":[9,2,5,4,1,3,8,7,6,10],\"sumArr\":[11,1,2,0],\"dtArr\":[2,2,2,2,2],\"formArr\":[],\"mimcryArr\":[],\"compareArr\":[1,1,2,1,1,2,2,2,1,2],\"sumType\":null,\"wuxing\":null},{\"openDateTime\":\"2019-01-02 10:12:30\",\"issue\":\"723498\",\"openNum\":[8,6,9,2,5,7,4,3,1,10],\"sumArr\":[14,2,1,0],\"dtArr\":[2,1,1,2,2],\"formArr\":[],\"mimcryArr\":[],\"compareArr\":[2,1,2,2,1,1,2,1,1,2],\"sumType\":null,\"wuxing\":null},{\"openDateTime\":\"2019-01-02 10:07:30\",\"issue\":\"723497\",\"openNum\":[1,3,9,2,5,4,7,8,10,6],\"sumArr\":[4,2,2,0],\"dtArr\":[2,2,1,2,1],\"formArr\":[],\"mimcryArr\":[],\"compareArr\":[1,1,1,2,1,2,2,2,1,2],\"sumType\":null,\"wuxing\":null},{\"openDateTime\":\"2019-01-02 10:02:30\",\"issue\":\"723496\",\"openNum\":[2,10,1,6,3,5,9,7,4,8],\"sumArr\":[12,2,1,0],\"dtArr\":[2,1,2,2,2],\"formArr\":[],\"mimcryArr\":[],\"compareArr\":[1,1,1,2,2,1,2,2,2,1],\"sumType\":null,\"wuxing\":null},{\"openDateTime\":\"2019-01-02 09:57:30\",\"issue\":\"723495\",\"openNum\":[10,7,5,3,9,4,2,1,6,8],\"sumArr\":[17,1,1,0],\"dtArr\":[1,1,1,1,1],\"formArr\":[],\"mimcryArr\":[],\"compareArr\":[2,2,1,2,1,2,1,2,1,1],\"sumType\":null,\"wuxing\":null},{\"openDateTime\":\"2019-01-02 09:52:30\",\"issue\":\"723494\",\"openNum\":[9,5,10,8,1,7,4,6,3,2],\"sumArr\":[14,2,1,0],\"dtArr\":[1,1,1,1,2],\"formArr\":[],\"mimcryArr\":[],\"compareArr\":[1,2,2,2,1,2,2,1,1,1],\"sumType\":null,\"wuxing\":null},{\"openDateTime\":\"2019-01-02 09:47:30\",\"issue\":\"723493\",\"openNum\":[6,1,5,10,9,8,4,7,3,2],\"sumArr\":[7,1,2,0],\"dtArr\":[1,2,2,1,1],\"formArr\":[],\"mimcryArr\":[],\"compareArr\":[1,2,2,2,1,1,2,2,1,1],\"sumType\":null,\"wuxing\":null},{\"openDateTime\":\"2019-01-02 09:42:30\",\"issue\":\"723492\",\"openNum\":[8,2,9,1,3,6,4,7,10,5],\"sumArr\":[10,2,2,0],\"dtArr\":[1,2,1,2,2],\"formArr\":[],\"mimcryArr\":[],\"compareArr\":[1,1,1,2,2,2,2,1,1,2],\"sumType\":null,\"wuxing\":null},{\"openDateTime\":\"2019-01-02 09:37:30\",\"issue\":\"723491\",\"openNum\":[6,3,5,8,10,4,1,7,2,9],\"sumArr\":[9,1,2,0],\"dtArr\":[2,1,2,1,1],\"formArr\":[],\"mimcryArr\":[],\"compareArr\":[2,2,1,2,1,1,2,1,2,1],\"sumType\":null,\"wuxing\":null},{\"openDateTime\":\"2019-01-02 09:32:30\",\"issue\":\"723490\",\"openNum\":[3,5,4,1,9,6,7,2,8,10],\"sumArr\":[8,2,2,0],\"dtArr\":[2,2,1,2,1],\"formArr\":[],\"mimcryArr\":[],\"compareArr\":[1,2,1,1,1,2,2,2,1,2],\"sumType\":null,\"wuxing\":null},{\"openDateTime\":\"2019-01-02 09:27:30\",\"issue\":\"723489\",\"openNum\":[3,5,9,6,8,7,4,10,1,2],\"sumArr\":[8,2,2,0],\"dtArr\":[1,1,2,1,1],\"formArr\":[],\"mimcryArr\":[],\"compareArr\":[2,2,1,2,1,1,2,1,1,2],\"sumType\":null,\"wuxing\":null},{\"openDateTime\":\"2019-01-02 09:22:30\",\"issue\":\"723488\",\"openNum\":[7,8,10,2,6,9,1,4,3,5],\"sumArr\":[15,1,1,0],\"dtArr\":[1,1,1,1,2],\"formArr\":[],\"mimcryArr\":[],\"compareArr\":[2,1,2,2,2,1,1,1,2,1],\"sumType\":null,\"wuxing\":null},{\"openDateTime\":\"2019-01-02 09:17:30\",\"issue\":\"723487\",\"openNum\":[8,1,10,5,2,7,9,3,4,6],\"sumArr\":[9,1,2,0],\"dtArr\":[1,2,1,2,2],\"formArr\":[],\"mimcryArr\":[],\"compareArr\":[1,1,2,2,1,2,2,1,2,1],\"sumType\":null,\"wuxing\":null},{\"openDateTime\":\"2019-01-02 09:12:30\",\"issue\":\"723486\",\"openNum\":[8,7,6,9,5,4,10,1,3,2],\"sumArr\":[15,1,1,0],\"dtArr\":[1,1,1,2,1],\"formArr\":[],\"mimcryArr\":[],\"compareArr\":[2,2,2,2,1,1,1,1,1,2],\"sumType\":null,\"wuxing\":null},{\"openDateTime\":\"2019-01-02 09:07:30\",\"issue\":\"723485\",\"openNum\":[1,8,4,9,5,2,6,10,3,7],\"sumArr\":[9,1,2,0],\"dtArr\":[2,1,2,1,1],\"formArr\":[],\"mimcryArr\":[],\"compareArr\":[1,2,2,1,1,2,2,1,1,2],\"sumType\":null,\"wuxing\":null}]\n"
     ]
    }
   ],
   "source": [
    "print(bs)"
   ]
  },
  {
   "cell_type": "code",
   "execution_count": null,
   "metadata": {},
   "outputs": [],
   "source": [
    "url = 'https://www.cp550.com/data/bjpk10/lotteryList/2019-01-02.json?KJXTURH3UD9JAVWD2RMH'"
   ]
  },
  {
   "cell_type": "code",
   "execution_count": 30,
   "metadata": {},
   "outputs": [
    {
     "data": {
      "text/plain": [
       "'2019-01-02'"
      ]
     },
     "execution_count": 30,
     "metadata": {},
     "output_type": "execute_result"
    }
   ],
   "source": []
  },
  {
   "cell_type": "code",
   "execution_count": 4,
   "metadata": {},
   "outputs": [
    {
     "name": "stdout",
     "output_type": "stream",
     "text": [
      "aaaaaaaaaaaaaaaaaa\n"
     ]
    }
   ],
   "source": [
    "import easygui as g\n",
    "msg = \"请输入URL地址\"\n",
    "title = \"数据爬取\"\n",
    "url = g.enterbox(msg,title)  #设置显示内容、标题、输入下上界\n",
    "print(url)\n",
    "    "
   ]
  },
  {
   "cell_type": "code",
   "execution_count": 5,
   "metadata": {},
   "outputs": [
    {
     "name": "stdout",
     "output_type": "stream",
     "text": [
      "<class 'str'>\n"
     ]
    }
   ],
   "source": [
    "print(type(url))"
   ]
  },
  {
   "cell_type": "code",
   "execution_count": 6,
   "metadata": {},
   "outputs": [
    {
     "ename": "TypeError",
     "evalue": "unsupported operand type(s) for -: 'list' and 'list'",
     "output_type": "error",
     "traceback": [
      "\u001b[1;31m---------------------------------------------------------------------------\u001b[0m",
      "\u001b[1;31mTypeError\u001b[0m                                 Traceback (most recent call last)",
      "\u001b[1;32m<ipython-input-6-38cdcb7fcb27>\u001b[0m in \u001b[0;36m<module>\u001b[1;34m()\u001b[0m\n\u001b[1;32m----> 1\u001b[1;33m \u001b[0mprint\u001b[0m\u001b[1;33m(\u001b[0m\u001b[1;33m[\u001b[0m\u001b[1;36m2\u001b[0m\u001b[1;33m,\u001b[0m\u001b[1;36m2\u001b[0m\u001b[1;33m]\u001b[0m \u001b[1;33m-\u001b[0m \u001b[1;33m[\u001b[0m\u001b[1;36m1\u001b[0m\u001b[1;33m,\u001b[0m\u001b[1;36m1\u001b[0m\u001b[1;33m]\u001b[0m\u001b[1;33m)\u001b[0m\u001b[1;33m\u001b[0m\u001b[0m\n\u001b[0m",
      "\u001b[1;31mTypeError\u001b[0m: unsupported operand type(s) for -: 'list' and 'list'"
     ]
    }
   ],
   "source": [
    "print([2,2] - [1,1])"
   ]
  },
  {
   "cell_type": "code",
   "execution_count": 9,
   "metadata": {},
   "outputs": [
    {
     "name": "stdout",
     "output_type": "stream",
     "text": [
      "[1 2 3]\n",
      "[0 1 2]\n"
     ]
    }
   ],
   "source": [
    "import numpy as np\n",
    "a = np.array([1,2,3])\n",
    "print(a)\n",
    "print(a - np.array([1,1,1]))"
   ]
  },
  {
   "cell_type": "code",
   "execution_count": 12,
   "metadata": {},
   "outputs": [
    {
     "name": "stdout",
     "output_type": "stream",
     "text": [
      "[ 1  2  3  4  5  6  7  8  9 10]\n"
     ]
    }
   ],
   "source": [
    "print(np.arange(1,11))"
   ]
  },
  {
   "cell_type": "code",
   "execution_count": null,
   "metadata": {},
   "outputs": [],
   "source": [
    "for month in range(5,6+1):\n",
    "    for date in range()"
   ]
  },
  {
   "cell_type": "code",
   "execution_count": 1,
   "metadata": {},
   "outputs": [],
   "source": [
    "url = 'https://www.cp550.com/data/bjpk10/lotteryList/{}.json?KJXTURH3UD9JAVWD2RMH'.format('2019-01-02')"
   ]
  },
  {
   "cell_type": "code",
   "execution_count": 2,
   "metadata": {},
   "outputs": [
    {
     "name": "stdout",
     "output_type": "stream",
     "text": [
      "https://www.cp550.com/data/bjpk10/lotteryList/2019-01-02.json?KJXTURH3UD9JAVWD2RMH\n"
     ]
    }
   ],
   "source": [
    "print(url)"
   ]
  },
  {
   "cell_type": "code",
   "execution_count": null,
   "metadata": {},
   "outputs": [],
   "source": []
  },
  {
   "cell_type": "code",
   "execution_count": null,
   "metadata": {},
   "outputs": [],
   "source": []
  },
  {
   "cell_type": "code",
   "execution_count": null,
   "metadata": {},
   "outputs": [],
   "source": []
  },
  {
   "cell_type": "code",
   "execution_count": null,
   "metadata": {},
   "outputs": [],
   "source": []
  },
  {
   "cell_type": "code",
   "execution_count": null,
   "metadata": {},
   "outputs": [],
   "source": []
  },
  {
   "cell_type": "code",
   "execution_count": null,
   "metadata": {},
   "outputs": [],
   "source": []
  },
  {
   "cell_type": "code",
   "execution_count": null,
   "metadata": {},
   "outputs": [],
   "source": []
  },
  {
   "cell_type": "code",
   "execution_count": null,
   "metadata": {},
   "outputs": [],
   "source": []
  },
  {
   "cell_type": "code",
   "execution_count": null,
   "metadata": {},
   "outputs": [],
   "source": []
  },
  {
   "cell_type": "code",
   "execution_count": null,
   "metadata": {},
   "outputs": [],
   "source": []
  }
 ],
 "metadata": {
  "kernelspec": {
   "display_name": "tfcpu",
   "language": "python",
   "name": "tf"
  },
  "language_info": {
   "codemirror_mode": {
    "name": "ipython",
    "version": 3
   },
   "file_extension": ".py",
   "mimetype": "text/x-python",
   "name": "python",
   "nbconvert_exporter": "python",
   "pygments_lexer": "ipython3",
   "version": "3.5.6"
  }
 },
 "nbformat": 4,
 "nbformat_minor": 2
}
