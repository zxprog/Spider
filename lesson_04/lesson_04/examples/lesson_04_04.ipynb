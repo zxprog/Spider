{
 "cells": [
  {
   "cell_type": "markdown",
   "metadata": {},
   "source": [
    "# 第四课 NumPy和SciPy\n",
    "## 第四节 常用方法"
   ]
  },
  {
   "cell_type": "code",
   "execution_count": 2,
   "metadata": {},
   "outputs": [],
   "source": [
    "import numpy as np"
   ]
  },
  {
   "cell_type": "code",
   "execution_count": 4,
   "metadata": {},
   "outputs": [
    {
     "name": "stdout",
     "output_type": "stream",
     "text": [
      "[[0 1]\n",
      " [2 3]\n",
      " [4 5]\n",
      " [6 7]\n",
      " [8 9]]\n"
     ]
    }
   ],
   "source": [
    "data = np.arange(10).reshape(5, 2)\n",
    "print(data)"
   ]
  },
  {
   "cell_type": "code",
   "execution_count": 6,
   "metadata": {},
   "outputs": [
    {
     "name": "stdout",
     "output_type": "stream",
     "text": [
      "4.5\n",
      "[4. 5.]\n",
      "[0.5 2.5 4.5 6.5 8.5]\n"
     ]
    }
   ],
   "source": [
    "print(np.mean(data))\n",
    "print(np.mean(data, axis=0))\n",
    "print(np.mean(data, axis=1))"
   ]
  },
  {
   "cell_type": "code",
   "execution_count": 7,
   "metadata": {},
   "outputs": [
    {
     "name": "stdout",
     "output_type": "stream",
     "text": [
      "45\n",
      "[20 25]\n",
      "[ 1  5  9 13 17]\n"
     ]
    }
   ],
   "source": [
    "print(np.sum(data))\n",
    "print(np.sum(data, axis=0))\n",
    "print(np.sum(data, axis=1))"
   ]
  },
  {
   "cell_type": "code",
   "execution_count": 8,
   "metadata": {},
   "outputs": [
    {
     "name": "stdout",
     "output_type": "stream",
     "text": [
      "9\n",
      "[8 9]\n",
      "[1 3 5 7 9]\n"
     ]
    }
   ],
   "source": [
    "print(np.max(data))\n",
    "print(np.max(data, axis=0))\n",
    "print(np.max(data, axis=1))"
   ]
  },
  {
   "cell_type": "code",
   "execution_count": 11,
   "metadata": {},
   "outputs": [
    {
     "name": "stdout",
     "output_type": "stream",
     "text": [
      "2.8722813232690143\n",
      "8.25\n"
     ]
    }
   ],
   "source": [
    "print(np.std(data))\n",
    "print(np.var(data))"
   ]
  },
  {
   "cell_type": "code",
   "execution_count": 13,
   "metadata": {},
   "outputs": [
    {
     "name": "stdout",
     "output_type": "stream",
     "text": [
      "9\n",
      "[4 4]\n",
      "[1 1 1 1 1]\n"
     ]
    }
   ],
   "source": [
    "print(np.argmax(data))\n",
    "print(np.argmax(data, axis=0))\n",
    "print(np.argmax(data, axis=1))"
   ]
  },
  {
   "cell_type": "code",
   "execution_count": 14,
   "metadata": {},
   "outputs": [
    {
     "name": "stdout",
     "output_type": "stream",
     "text": [
      "[ 0  1  3  6 10 15 21 28 36 45]\n",
      "[[ 0  1]\n",
      " [ 2  4]\n",
      " [ 6  9]\n",
      " [12 16]\n",
      " [20 25]]\n",
      "[[ 0  1]\n",
      " [ 2  5]\n",
      " [ 4  9]\n",
      " [ 6 13]\n",
      " [ 8 17]]\n"
     ]
    }
   ],
   "source": [
    "print(np.cumsum(data))\n",
    "print(np.cumsum(data, axis=0))\n",
    "print(np.cumsum(data, axis=1))"
   ]
  },
  {
   "cell_type": "code",
   "execution_count": 15,
   "metadata": {},
   "outputs": [
    {
     "name": "stdout",
     "output_type": "stream",
     "text": [
      "True\n"
     ]
    }
   ],
   "source": [
    "print(np.any(data > 5))"
   ]
  },
  {
   "cell_type": "code",
   "execution_count": 16,
   "metadata": {},
   "outputs": [
    {
     "name": "stdout",
     "output_type": "stream",
     "text": [
      "False\n"
     ]
    }
   ],
   "source": [
    "print(np.all(data > 5))"
   ]
  },
  {
   "cell_type": "code",
   "execution_count": 17,
   "metadata": {},
   "outputs": [
    {
     "name": "stdout",
     "output_type": "stream",
     "text": [
      "[[1 2 1]\n",
      " [2 3 4]]\n"
     ]
    }
   ],
   "source": [
    "arr = np.array([[1, 2, 1], [2, 3, 4]])\n",
    "print(arr)"
   ]
  },
  {
   "cell_type": "code",
   "execution_count": 18,
   "metadata": {},
   "outputs": [
    {
     "name": "stdout",
     "output_type": "stream",
     "text": [
      "[1 2 3 4]\n"
     ]
    }
   ],
   "source": [
    "print(np.unique(arr))"
   ]
  }
 ],
 "metadata": {
  "anaconda-cloud": {},
  "kernelspec": {
   "display_name": "py_data_anal",
   "language": "python",
   "name": "py_data_anal"
  },
  "language_info": {
   "codemirror_mode": {
    "name": "ipython",
    "version": 3
   },
   "file_extension": ".py",
   "mimetype": "text/x-python",
   "name": "python",
   "nbconvert_exporter": "python",
   "pygments_lexer": "ipython3",
   "version": "3.5.5"
  }
 },
 "nbformat": 4,
 "nbformat_minor": 1
}
