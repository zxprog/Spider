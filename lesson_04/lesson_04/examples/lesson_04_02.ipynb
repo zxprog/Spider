{
 "cells": [
  {
   "cell_type": "markdown",
   "metadata": {},
   "source": [
    "# 第四课 NumPy和SciPy\n",
    "## 第二节 多维数组"
   ]
  },
  {
   "cell_type": "code",
   "execution_count": 1,
   "metadata": {},
   "outputs": [],
   "source": [
    "import numpy as np"
   ]
  },
  {
   "cell_type": "markdown",
   "metadata": {},
   "source": [
    "* 通过序列型对象创建数组\n",
    "\n",
    "ndim, shape和dtype属性"
   ]
  },
  {
   "cell_type": "code",
   "execution_count": 9,
   "metadata": {},
   "outputs": [
    {
     "name": "stdout",
     "output_type": "stream",
     "text": [
      "[1 2 3 4 5 6]\n",
      "维度个数 1\n",
      "各维度大小:  (6,)\n",
      "数据类型:  int32\n"
     ]
    }
   ],
   "source": [
    "# 一维数组\n",
    "l = [1, 2, 3, 4, 5, 6]\n",
    "data = np.array(l)\n",
    "print(data)\n",
    "\n",
    "print('维度个数', data.ndim)\n",
    "print('各维度大小: ', data.shape)\n",
    "print('数据类型: ', data.dtype)"
   ]
  },
  {
   "cell_type": "code",
   "execution_count": 10,
   "metadata": {},
   "outputs": [
    {
     "name": "stdout",
     "output_type": "stream",
     "text": [
      "[[1. 2. 3.]\n",
      " [4. 5. 6.]]\n",
      "维度个数 2\n",
      "各维度大小:  (2, 3)\n",
      "数据类型:  float64\n"
     ]
    }
   ],
   "source": [
    "# 二维数组\n",
    "l = [[1., 2., 3.], [4., 5., 6.]]\n",
    "data = np.array(l)\n",
    "print(data)\n",
    "\n",
    "print('维度个数', data.ndim)\n",
    "print('各维度大小: ', data.shape)\n",
    "print('数据类型: ', data.dtype)"
   ]
  },
  {
   "cell_type": "code",
   "execution_count": 11,
   "metadata": {},
   "outputs": [
    {
     "name": "stdout",
     "output_type": "stream",
     "text": [
      "[[[1 2]\n",
      "  [3 4]]\n",
      "\n",
      " [[5 6]\n",
      "  [7 8]]]\n",
      "维度个数 3\n",
      "各维度大小:  (2, 2, 2)\n",
      "数据类型:  int32\n"
     ]
    }
   ],
   "source": [
    "# 三维数组\n",
    "l = [\n",
    "        [\n",
    "            [1, 2], \n",
    "            [3, 4]\n",
    "        ], \n",
    "        [\n",
    "            [5, 6], \n",
    "            [7, 8]\n",
    "        ]\n",
    "]\n",
    "data = np.array(l)\n",
    "print(data)\n",
    "\n",
    "print('维度个数', data.ndim)\n",
    "print('各维度大小: ', data.shape)\n",
    "print('数据类型: ', data.dtype)"
   ]
  },
  {
   "cell_type": "markdown",
   "metadata": {},
   "source": [
    "* np.zeros(), np.ones(), np.random.rand()"
   ]
  },
  {
   "cell_type": "code",
   "execution_count": 17,
   "metadata": {},
   "outputs": [
    {
     "name": "stdout",
     "output_type": "stream",
     "text": [
      "[[0. 0. 0. 0.]\n",
      " [0. 0. 0. 0.]\n",
      " [0. 0. 0. 0.]]\n",
      "\n",
      "[[1. 1. 1.]\n",
      " [1. 1. 1.]]\n",
      "\n",
      "[[0.80487316 0.80746905 0.98224149 0.48833136 0.14757387]\n",
      " [0.5864833  0.20119618 0.73582423 0.03319791 0.96663399]\n",
      " [0.85930893 0.35363352 0.10805405 0.29540476 0.88695512]\n",
      " [0.82192915 0.18710546 0.31167142 0.47198184 0.14923801]]\n"
     ]
    }
   ],
   "source": [
    "# np.zeros()\n",
    "zeros_arr = np.zeros((3, 4))\n",
    "\n",
    "# np.ones()\n",
    "ones_arr = np.ones((2, 3))\n",
    "\n",
    "# np.random.rand()\n",
    "# 注意传入的参数和之前的不同\n",
    "rand_arr = np.random.rand(4, 5)\n",
    "\n",
    "print(zeros_arr)\n",
    "print()\n",
    "print(ones_arr)\n",
    "print()\n",
    "print(rand_arr)"
   ]
  },
  {
   "cell_type": "markdown",
   "metadata": {},
   "source": [
    "* np.arange()"
   ]
  },
  {
   "cell_type": "code",
   "execution_count": 19,
   "metadata": {},
   "outputs": [
    {
     "name": "stdout",
     "output_type": "stream",
     "text": [
      "[0 1 2 3 4 5 6 7 8 9]\n"
     ]
    }
   ],
   "source": [
    "arr = np.arange(10)\n",
    "print(arr)"
   ]
  },
  {
   "cell_type": "markdown",
   "metadata": {},
   "source": [
    "* reshape()"
   ]
  },
  {
   "cell_type": "code",
   "execution_count": 20,
   "metadata": {},
   "outputs": [
    {
     "name": "stdout",
     "output_type": "stream",
     "text": [
      "[[0 1]\n",
      " [2 3]\n",
      " [4 5]\n",
      " [6 7]\n",
      " [8 9]]\n"
     ]
    }
   ],
   "source": [
    "arr2 = arr.reshape((5, 2))\n",
    "print(arr2)"
   ]
  },
  {
   "cell_type": "markdown",
   "metadata": {},
   "source": [
    "* astype()"
   ]
  },
  {
   "cell_type": "code",
   "execution_count": 21,
   "metadata": {},
   "outputs": [
    {
     "name": "stdout",
     "output_type": "stream",
     "text": [
      "int32\n"
     ]
    }
   ],
   "source": [
    "print(arr2.dtype)"
   ]
  },
  {
   "cell_type": "code",
   "execution_count": 22,
   "metadata": {},
   "outputs": [
    {
     "name": "stdout",
     "output_type": "stream",
     "text": [
      "float64\n"
     ]
    }
   ],
   "source": [
    "arr3 = arr2.astype(float)\n",
    "print(arr3.dtype)"
   ]
  }
 ],
 "metadata": {
  "anaconda-cloud": {},
  "kernelspec": {
   "display_name": "py_data_anal",
   "language": "python",
   "name": "py_data_anal"
  },
  "language_info": {
   "codemirror_mode": {
    "name": "ipython",
    "version": 3
   },
   "file_extension": ".py",
   "mimetype": "text/x-python",
   "name": "python",
   "nbconvert_exporter": "python",
   "pygments_lexer": "ipython3",
   "version": "3.5.5"
  }
 },
 "nbformat": 4,
 "nbformat_minor": 1
}
