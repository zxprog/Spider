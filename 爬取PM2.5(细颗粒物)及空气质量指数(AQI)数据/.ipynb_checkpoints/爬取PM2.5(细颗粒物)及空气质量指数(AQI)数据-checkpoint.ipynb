{
 "cells": [
  {
   "cell_type": "markdown",
   "metadata": {},
   "source": [
    "## 小象学院课程\n",
    "## Pyhton数据分析\n",
    "## 爬取PM2.5(细颗粒物)及空气质量指数(AQI)数据\n",
    "http://www.pm25.in/\n",
    "提供PM2.5(细颗粒物)及空气质量指数(AQI)实时查询的网站，同时开放PM2.5监测数据查询的API给开发者使用！"
   ]
  },
  {
   "cell_type": "markdown",
   "metadata": {},
   "source": [
    "> **提示**：<br>\n",
    "1、这样的文字将会指导你如何使用 jupyter Notebook 来完成项目。<br>\n",
    "2、你可以通过单击代码区域，然后使用键盘快捷键 Shift+Enter 或 Shift+Return 来运行代码。或者在选择代码后使用执行（run cell）按钮执行代码。Markdown的文字区域也同样可以如此操作。<br>\n",
    "3、在如下有# TODO 提示的地方，将代码补全，实现注释中所要求的功能。<br>\n",
    "4、在有\"** 回答：**\" 提示的地方，回答其上所提出的问题。<br>"
   ]
  },
  {
   "cell_type": "markdown",
   "metadata": {},
   "source": [
    "### 分析流程\n",
    "* 爬取url的网页数据：url可以是一级网址，也可以是二级网址\n",
    "* 依据二级网址获得城市指数\n",
    "* 依据一级网址获得热门城市的城市名称、城市链接（根据城市链接【二级网址】获得城市的指数数据）\n",
    "* 写入json文件\n",
    "* 主函数"
   ]
  },
  {
   "cell_type": "markdown",
   "metadata": {},
   "source": [
    "### 项目分析\n",
    "对网址http://www.pm25.in/ 进行分析，获得热门城市的名称和链接（二级网址），然后依据二级网址获得该城市的各种指数，以下对各种指数【AQI、PM2.5/1h、PM10/1h、CO/1h、NO2/1h、O3/1h、O3/8h、SO2/1h】进行说明<br>\n",
    "* city_name：热门城市名称\n",
    "* city_link：城市链接（二级网址）\n",
    "* AQI：空气质量指数(AQI)，即air quality index，是定量描述空气质量状况的无纲量指数\n",
    "* PM2.5/1h：颗粒物（粒径小于等于2.5μm）1小时平均\n",
    "* PM10/1h：颗粒物（粒径小于等于10μm）1小时滑动平均\n",
    "* CO/1h：一氧化碳1小时平均\n",
    "* NO2/1h：二氧化氮1小时平均\n",
    "* O3/1h：臭氧1小时平均\n",
    "* O3/8h：臭氧8小时滑动平均\n",
    "* SO2/1h：二氧化硫1小时平均<br>\n",
    "#### 对指数更详细说明的网址是：http://www.pm25.in/api_doc"
   ]
  },
  {
   "cell_type": "markdown",
   "metadata": {},
   "source": [
    "导入需要的库"
   ]
  },
  {
   "cell_type": "code",
   "execution_count": 39,
   "metadata": {},
   "outputs": [],
   "source": [
    "import requests\n",
    "from bs4 import BeautifulSoup\n",
    "import json"
   ]
  },
  {
   "cell_type": "markdown",
   "metadata": {},
   "source": [
    "爬取url的源代码，使用\"html.parser\"对源代码进行解析，该url可以是一级网址，也可以是二级网址"
   ]
  },
  {
   "cell_type": "code",
   "execution_count": 40,
   "metadata": {
    "scrolled": false
   },
   "outputs": [
    {
     "name": "stdout",
     "output_type": "stream",
     "text": [
      "{'深圳': 'http://www.pm25.in/shenzhen', '西安': 'http://www.pm25.in/xian', '广州': 'http://www.pm25.in/guangzhou', '南京': 'http://www.pm25.in/nanjing', '成都': 'http://www.pm25.in/chengdu', '北京': 'http://www.pm25.in/beijing', '武汉': 'http://www.pm25.in/wuhan', '杭州': 'http://www.pm25.in/hangzhou', '上海': 'http://www.pm25.in/shanghai', '天津': 'http://www.pm25.in/tianjin'}\n"
     ]
    }
   ],
   "source": [
    "def get_soup_obj(url):\n",
    "    url_obj = requests.get(url)\n",
    "    soup = BeautifulSoup(url_obj.content, 'html.parser')\n",
    "    return soup\n",
    "\n",
    "\n",
    "#访问并解析初始页面,并获取热门城市的二级网址\n",
    "url_premer = 'http://www.pm25.in/'\n",
    "soup = get_soup_obj(url_premer)\n",
    "citys_link_dict = {}\n",
    "citys_hot = soup.find(class_ = 'hot').find(class_=\"unstyled\").find_all('li')\n",
    "for city_hot in citys_hot:\n",
    "    citys_link_dict[city_hot.find('a').text] = \"http://www.pm25.in%s\"%city_hot.find('a')['href']\n",
    "print(citys_link_dict)\n"
   ]
  },
  {
   "cell_type": "markdown",
   "metadata": {},
   "source": [
    "依据city_aqi_item['city_link']二级网址获得该城市的各种指数"
   ]
  },
  {
   "cell_type": "code",
   "execution_count": 56,
   "metadata": {},
   "outputs": [
    {
     "name": "stdout",
     "output_type": "stream",
     "text": [
      "深圳 :  {'AQI': '55', 'NO2/1h': '22', 'CO/1h': '0.64', 'O3/1h': '114', 'SO2/1h': '5', 'PM10/1h': '55', 'PM2.5/1h': '30', '链接': 'http://www.pm25.in/shenzhen', 'O3/8h': '104'}\n",
      "西安 :  {'AQI': '63', 'NO2/1h': '41', 'CO/1h': '0.83', 'O3/1h': '58', 'SO2/1h': '19', 'PM10/1h': '73', 'PM2.5/1h': '40', '链接': 'http://www.pm25.in/xian', 'O3/8h': '42'}\n",
      "广州 :  {'AQI': '107', 'NO2/1h': '35', 'CO/1h': '0.7', 'O3/1h': '211', 'SO2/1h': '6', 'PM10/1h': '71', 'PM2.5/1h': '41', '链接': 'http://www.pm25.in/guangzhou', 'O3/8h': '109'}\n",
      "武汉 :  {'AQI': '88', 'NO2/1h': '77', 'CO/1h': '1.01', 'O3/1h': '60', 'SO2/1h': '15', 'PM10/1h': '115', 'PM2.5/1h': '65', '链接': 'http://www.pm25.in/wuhan', 'O3/8h': '72'}\n",
      "成都 :  {'AQI': '85', 'NO2/1h': '38', 'CO/1h': '0.68', 'O3/1h': '63', 'SO2/1h': '8', 'PM10/1h': '104', 'PM2.5/1h': '62', '链接': 'http://www.pm25.in/chengdu', 'O3/8h': '45'}\n",
      "北京 :  {'AQI': '35', 'NO2/1h': '7', 'CO/1h': '0.23', 'O3/1h': '81', 'SO2/1h': '2', 'PM10/1h': '24', 'PM2.5/1h': '9', '链接': 'http://www.pm25.in/beijing', 'O3/8h': '69'}\n",
      "天津 :  {'AQI': '41', 'NO2/1h': '20', 'CO/1h': '0.64', 'O3/1h': '85', 'SO2/1h': '14', 'PM10/1h': '40', 'PM2.5/1h': '14', '链接': 'http://www.pm25.in/tianjin', 'O3/8h': '67'}\n",
      "杭州 :  {'AQI': '89', 'NO2/1h': '35', 'CO/1h': '0.7', 'O3/1h': '141', 'SO2/1h': '12', 'PM10/1h': '125', 'PM2.5/1h': '56', '链接': 'http://www.pm25.in/hangzhou', 'O3/8h': '93'}\n",
      "南京 :  {'AQI': '67', 'NO2/1h': '27', 'CO/1h': '0.69', 'O3/1h': '105', 'SO2/1h': '12', 'PM10/1h': '81', 'PM2.5/1h': '34', '链接': 'http://www.pm25.in/nanjing', 'O3/8h': '80'}\n",
      "上海 :  {'AQI': '63', 'NO2/1h': '35', 'CO/1h': '0.5', 'O3/1h': '93', 'SO2/1h': '6', 'PM10/1h': '74', 'PM2.5/1h': '23', '链接': 'http://www.pm25.in/shanghai', 'O3/8h': '80'}\n"
     ]
    }
   ],
   "source": [
    "def get_secondpage(city_aqi_item):\n",
    "    \"\"\"\n",
    "    功能：\n",
    "        通过二级网址获得城市的一些指数\n",
    "    参数：\n",
    "        city_aqi_item：可以是字典，通过该字典可以获得二级网址，或者直接是二级网址，这个参数主要是为了能把二级网址传入方法中\n",
    "    返回值：\n",
    "        通过城市对应的链接（二级网址）获得该城市的各种指数\n",
    "    \"\"\"\n",
    "#     TODO\n",
    "#     通过城市对应的链接（二级网址）获得该城市的各种指数\n",
    "    city_aqis = {}\n",
    "    for city,link in city_aqi_item.items():\n",
    "        aqi_data = {}\n",
    "        soup2 = get_soup_obj(link)\n",
    "        #每个热点城市的整体平均数据\n",
    "        datas = soup2.find(class_= 'span12 avg').find(class_= 'span12 data')\n",
    "        for aqi_datas in datas.find_all(class_ = 'span1')[:-1]: #这里最后一个span1元素是其他城市，留着会报错，也可以用try,exception处理\n",
    "            aqi_data[aqi_datas.find(class_ = 'caption').text.strip()] = aqi_datas.find(class_ = 'value').text.strip()\n",
    "        aqi_data['链接'] = link\n",
    "        city_aqis[city] = aqi_data\n",
    "    return city_aqis\n",
    "\n",
    "#打印测试\n",
    "city_aqis = get_secondpage(citys_link_dict)\n",
    "for keys,values in city_aqis.items():\n",
    "    print(keys,\": \",values)\n"
   ]
  },
  {
   "cell_type": "markdown",
   "metadata": {},
   "source": [
    "依据'http://www.pm25.in/' 网址获得热门城市下的所有城市名称，以及该城市对应的链接，以及该城市的各种指数【AQI、PM2.5/1h、PM10/1h、CO/1h、NO2/1h、O3/1h、O3/8h、SO2/1h】数据"
   ]
  },
  {
   "cell_type": "code",
   "execution_count": 58,
   "metadata": {},
   "outputs": [
    {
     "name": "stdout",
     "output_type": "stream",
     "text": [
      "{'深圳': {'AQI': '55', 'NO2/1h': '22', 'CO/1h': '0.64', 'O3/1h': '114', 'SO2/1h': '5', 'PM10/1h': '55', 'PM2.5/1h': '30', '链接': 'http://www.pm25.in//shenzhen', 'O3/8h': '104'}}\n",
      "{'西安': {'AQI': '63', 'NO2/1h': '41', 'CO/1h': '0.83', 'O3/1h': '58', 'SO2/1h': '19', 'PM10/1h': '73', 'PM2.5/1h': '40', '链接': 'http://www.pm25.in//xian', 'O3/8h': '42'}}\n",
      "{'广州': {'AQI': '107', 'NO2/1h': '35', 'CO/1h': '0.7', 'O3/1h': '211', 'SO2/1h': '6', 'PM10/1h': '71', 'PM2.5/1h': '41', '链接': 'http://www.pm25.in//guangzhou', 'O3/8h': '109'}}\n",
      "{'武汉': {'AQI': '88', 'NO2/1h': '77', 'CO/1h': '1.01', 'O3/1h': '60', 'SO2/1h': '15', 'PM10/1h': '115', 'PM2.5/1h': '65', '链接': 'http://www.pm25.in//wuhan', 'O3/8h': '72'}}\n",
      "{'成都': {'AQI': '85', 'NO2/1h': '38', 'CO/1h': '0.68', 'O3/1h': '63', 'SO2/1h': '8', 'PM10/1h': '104', 'PM2.5/1h': '62', '链接': 'http://www.pm25.in//chengdu', 'O3/8h': '45'}}\n",
      "{'北京': {'AQI': '35', 'NO2/1h': '7', 'CO/1h': '0.23', 'O3/1h': '81', 'SO2/1h': '2', 'PM10/1h': '24', 'PM2.5/1h': '9', '链接': 'http://www.pm25.in//beijing', 'O3/8h': '69'}}\n",
      "{'天津': {'AQI': '41', 'NO2/1h': '20', 'CO/1h': '0.64', 'O3/1h': '85', 'SO2/1h': '14', 'PM10/1h': '40', 'PM2.5/1h': '14', '链接': 'http://www.pm25.in//tianjin', 'O3/8h': '67'}}\n",
      "{'杭州': {'AQI': '89', 'NO2/1h': '35', 'CO/1h': '0.7', 'O3/1h': '141', 'SO2/1h': '12', 'PM10/1h': '125', 'PM2.5/1h': '56', '链接': 'http://www.pm25.in//hangzhou', 'O3/8h': '93'}}\n",
      "{'南京': {'AQI': '67', 'NO2/1h': '27', 'CO/1h': '0.69', 'O3/1h': '105', 'SO2/1h': '12', 'PM10/1h': '81', 'PM2.5/1h': '34', '链接': 'http://www.pm25.in//nanjing', 'O3/8h': '80'}}\n",
      "{'上海': {'AQI': '63', 'NO2/1h': '35', 'CO/1h': '0.5', 'O3/1h': '93', 'SO2/1h': '6', 'PM10/1h': '74', 'PM2.5/1h': '23', '链接': 'http://www.pm25.in//shanghai', 'O3/8h': '80'}}\n"
     ]
    }
   ],
   "source": [
    "def get_fistpage_and_secondpage(url,soup):\n",
    "    \"\"\"\n",
    "    功能：\n",
    "        通过一级网址获得城市名称和对应的链接（二级网址），然后通过对应的链接（二级网址）得到该城市的一些指数，\n",
    "        这个方法可以通过传参二级网址调用get_secondpage方法获得城市对应的各种指数\n",
    "    参数：\n",
    "        url:一级网址\n",
    "        soup:需要分析的一级网址的源代码数据\n",
    "    返回值：\n",
    "        返回一个列表，列表的元素是字典，字典的元素是城市名称、城市对应的链接、城市的各种指数\n",
    "    \"\"\"\n",
    "#     需要返回的列表\n",
    "    city_aqi_list = []\n",
    "    \n",
    "#     TODO\n",
    "#     对soup的源代码数据进行分析，获得城市名称，城市链接，然后根据城市链接获得该城市的各种指数\n",
    "\n",
    "#访问并解析初始页面,并获取热门城市的二级网址\n",
    "    \n",
    "    citys_link_dict = {}\n",
    "    citys_hot = soup.find(class_ = 'hot').find(class_=\"unstyled\").find_all('li')\n",
    "    for city_hot in citys_hot:\n",
    "        citys_link_dict[city_hot.find('a').text] = url+city_hot.find('a')['href']\n",
    "    \n",
    "    city_aqis = get_secondpage(citys_link_dict)\n",
    "    #将宝宝的字典很傻逼的拆解然后按照这个倒霉规定弄成个列表\n",
    "    \n",
    "    for keys,values in city_aqis.items():\n",
    "        dict_per = {}\n",
    "        dict_per[keys] = values\n",
    "        city_aqi_list.append(dict_per)\n",
    "    return city_aqi_list\n",
    "\n",
    "##打印测试：\n",
    "city_aqi_list = get_fistpage_and_secondpage(url_premer,soup)\n",
    "for i in city_aqi_list:\n",
    "    print(i)"
   ]
  },
  {
   "cell_type": "markdown",
   "metadata": {},
   "source": [
    "将查询得到的数据下入json数据文件"
   ]
  },
  {
   "cell_type": "code",
   "execution_count": 64,
   "metadata": {},
   "outputs": [],
   "source": [
    "def write_city_aqi(city_aqi_data):\n",
    "    file_path = './dataFile/city_aqi.json'\n",
    "#     TODO\n",
    "#     将得到的city_aqi_data数据存入json文件\n",
    "\n",
    "    with open(file_path,'w') as fp:\n",
    "        json.dump(city_aqi_data,fp)\n",
    "    print(\"保存成功！\")\n"
   ]
  },
  {
   "cell_type": "markdown",
   "metadata": {},
   "source": [
    "使用main函数执行以上方法"
   ]
  },
  {
   "cell_type": "code",
   "execution_count": 65,
   "metadata": {},
   "outputs": [
    {
     "name": "stdout",
     "output_type": "stream",
     "text": [
      "{'深圳': {'AQI': '55', 'NO2/1h': '22', 'CO/1h': '0.64', 'O3/1h': '114', 'SO2/1h': '5', 'PM10/1h': '55', 'PM2.5/1h': '30', '链接': 'http://www.pm25.in//shenzhen', 'O3/8h': '104'}}\n",
      "{'西安': {'AQI': '63', 'NO2/1h': '41', 'CO/1h': '0.83', 'O3/1h': '58', 'SO2/1h': '19', 'PM10/1h': '73', 'PM2.5/1h': '40', '链接': 'http://www.pm25.in//xian', 'O3/8h': '42'}}\n",
      "{'广州': {'AQI': '107', 'NO2/1h': '35', 'CO/1h': '0.7', 'O3/1h': '211', 'SO2/1h': '6', 'PM10/1h': '71', 'PM2.5/1h': '41', '链接': 'http://www.pm25.in//guangzhou', 'O3/8h': '109'}}\n",
      "{'武汉': {'AQI': '88', 'NO2/1h': '77', 'CO/1h': '1.01', 'O3/1h': '60', 'SO2/1h': '15', 'PM10/1h': '115', 'PM2.5/1h': '65', '链接': 'http://www.pm25.in//wuhan', 'O3/8h': '72'}}\n",
      "{'成都': {'AQI': '85', 'NO2/1h': '38', 'CO/1h': '0.68', 'O3/1h': '63', 'SO2/1h': '8', 'PM10/1h': '104', 'PM2.5/1h': '62', '链接': 'http://www.pm25.in//chengdu', 'O3/8h': '45'}}\n",
      "{'北京': {'AQI': '35', 'NO2/1h': '7', 'CO/1h': '0.23', 'O3/1h': '81', 'SO2/1h': '2', 'PM10/1h': '24', 'PM2.5/1h': '9', '链接': 'http://www.pm25.in//beijing', 'O3/8h': '69'}}\n",
      "{'天津': {'AQI': '41', 'NO2/1h': '20', 'CO/1h': '0.64', 'O3/1h': '85', 'SO2/1h': '14', 'PM10/1h': '40', 'PM2.5/1h': '14', '链接': 'http://www.pm25.in//tianjin', 'O3/8h': '67'}}\n",
      "{'杭州': {'AQI': '89', 'NO2/1h': '35', 'CO/1h': '0.7', 'O3/1h': '141', 'SO2/1h': '12', 'PM10/1h': '125', 'PM2.5/1h': '56', '链接': 'http://www.pm25.in//hangzhou', 'O3/8h': '93'}}\n",
      "{'南京': {'AQI': '67', 'NO2/1h': '27', 'CO/1h': '0.69', 'O3/1h': '105', 'SO2/1h': '12', 'PM10/1h': '81', 'PM2.5/1h': '34', '链接': 'http://www.pm25.in//nanjing', 'O3/8h': '80'}}\n",
      "{'上海': {'AQI': '63', 'NO2/1h': '35', 'CO/1h': '0.5', 'O3/1h': '93', 'SO2/1h': '6', 'PM10/1h': '74', 'PM2.5/1h': '23', '链接': 'http://www.pm25.in//shanghai', 'O3/8h': '80'}}\n"
     ]
    }
   ],
   "source": [
    "if __name__==\"__main__\":\n",
    "    \n",
    "#     需要分析的url\n",
    "    url = 'http://www.pm25.in/'\n",
    "    \n",
    "#     获得url的解析数据\n",
    "    soup = get_soup_obj(url)\n",
    "    \n",
    "#     获得从一级网址和二级网址获得的结果数据综合\n",
    "    city_aqi_list = get_fistpage_and_secondpage(url,soup)\n",
    "    \n",
    "#     对爬取到的热门城市名称、城市链接、城市的各种指数数据进行遍历\n",
    "    for city_aqi in city_aqi_list:\n",
    "        print(city_aqi)\n",
    "\n",
    "    \n",
    "#     将得到的数据写入json文件\n",
    "    write_city_aqi(city_aqi_list)"
   ]
  },
  {
   "cell_type": "code",
   "execution_count": null,
   "metadata": {},
   "outputs": [],
   "source": []
  },
  {
   "cell_type": "code",
   "execution_count": null,
   "metadata": {},
   "outputs": [],
   "source": []
  }
 ],
 "metadata": {
  "kernelspec": {
   "display_name": "tfcpu",
   "language": "python",
   "name": "tf"
  },
  "language_info": {
   "codemirror_mode": {
    "name": "ipython",
    "version": 3
   },
   "file_extension": ".py",
   "mimetype": "text/x-python",
   "name": "python",
   "nbconvert_exporter": "python",
   "pygments_lexer": "ipython3",
   "version": "3.5.6"
  }
 },
 "nbformat": 4,
 "nbformat_minor": 2
}
