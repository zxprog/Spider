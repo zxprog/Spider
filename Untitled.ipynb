{
 "cells": [
  {
   "cell_type": "code",
   "execution_count": 6,
   "metadata": {},
   "outputs": [],
   "source": [
    "# 本地Chrome浏览器设置方法\n",
    "from selenium import webdriver # 从selenium库中调用webdriver模块\n",
    "import time # 调用time模块\n",
    "import cv2\n",
    "import requests\n",
    "import matplotlib.pyplot as plt\n",
    "import numpy as np\n",
    "import matplotlib.image as mpimg\n",
    "driver = webdriver.Chrome()\n",
    "url_login = 'http://yjsy1.ustb.edu.cn:8080/pyxx/login.aspx'\n",
    "student_number = 'g20188777'\n",
    "password = '972229787zx'\n",
    "student_name = 'zhouxu' \n",
    "driver.get(url_login) # 访问页面\n",
    "time.sleep(2) # 暂停两秒，等待浏览器缓冲\n",
    "img_element = driver.find_element_by_id('myCode')\n",
    "    #print(type(img_element))\n",
    "validation_img_src = img_element.get_attribute('src')\n",
    "img_res = requests.get(validation_img_src)  #z这里可能每访问一次，都会随机选择，所以会和看到的不一样，这里相当于访问了第二遍验证码\n",
    "with open(r'sch_valid_code.jpg','wb+') as f:\n",
    "    f.write(img_res.content)\n",
    "plt.imshow(mpimg.imread('sch_valid_code.jpg'))\n",
    "plt.show()\n",
    "\n",
    "def login(student_number,student_name,password,validation_code):\n",
    "    student_login = driver.find_element_by_id('_ctl0_txtusername')\n",
    "    student_login.send_keys(student_number)\n",
    "    English_name = driver.find_element_by_id('_ctl0_txtxmpy')\n",
    "    English_name.send_keys(student_name)\n",
    "    user_password = driver.find_element_by_id('_ctl0_txtpassword')\n",
    "    user_password.send_keys(password)\n",
    "    validation = driver.find_element_by_id('_ctl0_txtyzm')\n",
    "    validation.send_keys(validation_code)\n",
    "    login = driver.find_element_by_id('_ctl0_ImageButton1')\n",
    "    login.click()\n",
    "###官网上的是aspx文件，卡住了\n",
    "def choose_link(click_choice):\n",
    "    '''if click_choice == '查看成绩单':\n",
    "        report = driver.find_element_by_link_text('http://yjsy1.ustb.edu.cn:8080/pyxx/grgl/xskccjcx')  \n",
    "        report.click()\n",
    "    elif click_choice == '查看课表':\n",
    "        sechdule = driver.find_element_by_link_text('http://yjsy1.ustb.edu.cn:8080/pyxx/pygl/kbcx_xs')  \n",
    "        sechdule.click()'''\n",
    "    pass\n",
    "def choice():\n",
    "    list = ['查看成绩单','查看课表']\n",
    "    number = int(input('0：查看成绩单；1：查看课表'))\n",
    "    return list[number]\n"
   ]
  },
  {
   "cell_type": "code",
   "execution_count": 7,
   "metadata": {},
   "outputs": [],
   "source": []
  },
  {
   "cell_type": "code",
   "execution_count": null,
   "metadata": {},
   "outputs": [],
   "source": []
  },
  {
   "cell_type": "code",
   "execution_count": null,
   "metadata": {},
   "outputs": [],
   "source": []
  }
 ],
 "metadata": {
  "kernelspec": {
   "display_name": "tfcpu",
   "language": "python",
   "name": "tf"
  },
  "language_info": {
   "codemirror_mode": {
    "name": "ipython",
    "version": 3
   },
   "file_extension": ".py",
   "mimetype": "text/x-python",
   "name": "python",
   "nbconvert_exporter": "python",
   "pygments_lexer": "ipython3",
   "version": "3.5.6"
  }
 },
 "nbformat": 4,
 "nbformat_minor": 2
}
