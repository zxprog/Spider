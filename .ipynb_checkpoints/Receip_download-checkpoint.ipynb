{
 "cells": [
  {
   "cell_type": "code",
   "execution_count": null,
   "metadata": {},
   "outputs": [],
   "source": []
  },
  {
   "cell_type": "code",
   "execution_count": 1,
   "metadata": {},
   "outputs": [
    {
     "name": "stdout",
     "output_type": "stream",
     "text": [
      "200\n"
     ]
    }
   ],
   "source": [
    "import requests # 调用requests库\n",
    "from bs4 import BeautifulSoup # 调用BeautifulSoup库\n",
    "from Analysis import *\n",
    "url = 'http://www.xiachufang.com/explore/'\n",
    "soup = analysis(url)"
   ]
  },
  {
   "cell_type": "code",
   "execution_count": 44,
   "metadata": {},
   "outputs": [
    {
     "name": "stdout",
     "output_type": "stream",
     "text": [
      "\n",
      "                枸杞核桃花生黑芝麻片\n",
      "            \n",
      "\n",
      "熟黑芝麻、熟花生仁、熟核桃仁、枸杞、麦芽糖（见步骤5）、细砂糖（见步骤5）、水\n",
      "\n",
      "http://www.xiachufang.com/recipe/102188715/\n",
      "\n",
      "                6寸戚风蛋糕（2蛋）\n",
      "            \n",
      "\n",
      "【蛋黄糊】、蛋黄、细砂糖、水、色拉油or菜油、低粉、【蛋白霜】、蛋白、细砂糖\n",
      "\n",
      "http://www.xiachufang.com/recipe/100129276/\n",
      "\n",
      "                炒年糕\n",
      "            \n",
      "\n",
      "年糕、青菜、金针菇、鸡蛋、老抽、盐\n",
      "\n",
      "http://www.xiachufang.com/recipe/1079542/\n",
      "\n",
      "                传统八珍豆腐\n",
      "            \n",
      "\n",
      "内酯豆腐、太太乐宴会蘸酱汁、太太乐原味鲜、鱿鱼、虾仁、鸡胸肉、蟹肉棒、香菇、冬笋（玉兰片）、荷兰豆、胡萝卜、大葱、大蒜、玉米淀粉、鸡蛋清、白糖、白胡椒\n",
      "\n",
      "http://www.xiachufang.com/recipe/103667677/\n",
      "\n",
      "                超级嫩滑蛋挞做法\n",
      "            \n",
      "\n",
      "牛奶、淡奶油、细砂糖、蛋黄、蛋挞皮（现成买的）\n",
      "\n",
      "http://www.xiachufang.com/recipe/100411914/\n",
      "\n",
      "                海盐杏仁太妃糖\n",
      "            \n",
      "\n",
      "淡奶油、细砂糖、水怡（清净园）、海盐、无盐黄油、大杏仁（巴旦木）\n",
      "\n",
      "http://www.xiachufang.com/recipe/102927841/\n",
      "\n",
      "                酱香卤猪蹄\n",
      "            \n",
      "\n",
      "猪前脚、冰糖、姜片、南乳汁、卤料（见步骤三里）、盐、生抽、老抽、白糖、陈醋、白酒\n",
      "\n",
      "http://www.xiachufang.com/recipe/101834259/\n",
      "\n",
      "                蒜蓉粉丝蒸鲍鱼\n",
      "            \n",
      "\n",
      "鲍鱼、蒜、粉丝、海鲜酱油、蚝油、料酒、糖\n",
      "\n",
      "http://www.xiachufang.com/recipe/100020106/\n",
      "\n",
      "                花生芝麻椰蓉酥\n",
      "            \n",
      "\n",
      "低筋面粉、玉米油、细砂糖、全蛋液、熟花生碎、熟黑芝麻、椰蓉、盐、泡打粉、小苏打\n",
      "\n",
      "http://www.xiachufang.com/recipe/102214104/\n",
      "\n",
      "                奥利奥牛轧糖\n",
      "            \n",
      "\n",
      "黄油、棉花糖、奶粉、奥利奥饼干\n",
      "\n",
      "http://www.xiachufang.com/recipe/100450054/\n",
      "\n",
      "                生煎包\n",
      "            \n",
      "\n",
      "低粉、酵母、泡打粉、牛奶、调好味道的猪肉馅、肉皮冻、黑芝麻、小葱碎\n",
      "\n",
      "http://www.xiachufang.com/recipe/100633081/\n",
      "\n",
      "                醋溜绿豆芽\n",
      "            \n",
      "\n",
      "绿豆芽、小葱、花椒、白醋、糖、盐\n",
      "\n",
      "http://www.xiachufang.com/recipe/1000955/\n",
      "\n",
      "                超简单的无水蛋糕\n",
      "            \n",
      "\n",
      "鸡蛋、细砂糖、黄油、普通面粉\n",
      "\n",
      "http://www.xiachufang.com/recipe/102278676/\n",
      "\n",
      "                《Tinrry+》咸蛋黄肉松饼干（春节小零食、香脆可口）\n",
      "            \n",
      "\n",
      "原味猪肉松、咸蛋黄、无盐黄油、细砂糖、蛋清、低筋面粉\n",
      "\n",
      "http://www.xiachufang.com/recipe/103655626/\n",
      "\n",
      "                《Tinrry+》牛轧糖（棉花糖版）（简单好吃、送礼必备）\n",
      "            \n",
      "\n",
      "落基山白色棉花糖、无盐黄油、无糖奶粉、食用盐、熟杏仁、落基山白色棉花糖、无盐黄油、无糖奶粉、熟脱皮花生仁、熟杏仁、速溶咖啡粉、落基山白色棉花糖、无盐黄油、无糖奶粉、熟脱皮花生仁、熟芝麻、食用盐\n",
      "\n",
      "http://www.xiachufang.com/recipe/101693457/\n",
      "\n",
      "                桃花酥\n",
      "            \n",
      "\n",
      "油皮部分：、中筋面粉、猪油、水、糖粉、酥皮部分：、低筋面粉、猪油、红曲精油、馅料部分：、红豆沙馅、装饰：、蛋黄液、黑白芝麻\n",
      "\n",
      "http://www.xiachufang.com/recipe/102266401/\n",
      "\n",
      "                椰蓉荷花酥\n",
      "            \n",
      "\n",
      "水油皮1:红曲水油皮、中筋面粉、猪油、细砂糖或糖粉、红曲粉，（或抹茶粉）、水、水油皮2:白色水油皮、中筋面粉、猪油、细砂糖或糖粉、水、油酥：、中筋面粉、猪油、椰蓉馅：、无盐黄油、鸡蛋、 椰蓉、糖粉、这个椰蓉馅是做两份荷花酥的量，因为我同时做了抹茶的荷花酥，你们用馅的时候先分一半，然后再平均分出做10个荷花酥的椰蓉馅\n",
      "\n",
      "http://www.xiachufang.com/recipe/101887822/\n",
      "\n",
      "                全蛋海绵纸杯蛋糕\n",
      "            \n",
      "\n",
      "鸡蛋、白砂糖、低粉、玉米油\n",
      "\n",
      "http://www.xiachufang.com/recipe/101821251/\n",
      "\n",
      "                《Tinrry+》爆浆海盐奶盖蛋糕（原创爆款）\n",
      "            \n",
      "\n",
      "蛋黄、玉米油、纯牛奶、低筋面粉、蛋清、细砂糖、玉米淀粉、蛋黄、纯牛奶、细砂糖、玉米淀粉、奶油芝士、细砂糖、海盐、淡奶油、原味酸奶、卡仕达酱、杏仁片、糖粉\n",
      "\n",
      "http://www.xiachufang.com/recipe/102873682/\n",
      "\n",
      "                花生糖\n",
      "            \n",
      "\n",
      "花生粒、白砂糖\n",
      "\n",
      "http://www.xiachufang.com/recipe/100447426/\n",
      "\n",
      "                红烧猪蹄\n",
      "            \n",
      "\n",
      "猪前蹄、冰糖、桂皮、八角、香叶、姜、油、盐、生抽、白胡椒粉、豆腐乳、陈醋、啤酒.料酒或白酒、鸡精（可不放）\n",
      "\n",
      "http://www.xiachufang.com/recipe/101829462/\n",
      "\n",
      "                手工包子（肚脐包）\n",
      "            \n",
      "\n",
      "面粉（中筋）、水(冬温/夏冰)、酵母、盐、白砂糖、色拉油\n",
      "\n",
      "http://www.xiachufang.com/recipe/100593786/\n",
      "\n",
      "                新年锦鲤鱼年糕\n",
      "            \n",
      "\n",
      "糯米粉、澄粉、细砂糖、植物油、牛奶/椰浆/水、红曲粉/草莓粉\n",
      "\n",
      "http://www.xiachufang.com/recipe/101688114/\n",
      "\n",
      "                花生酥——简单到你\n",
      "            \n",
      "\n",
      "熟花生碎、糖粉、普通面粉或者低筋面粉、植物油、熟花生、蛋黄\n",
      "\n",
      "http://www.xiachufang.com/recipe/102198745/\n",
      "\n",
      "                酸辣土豆丝\n",
      "            \n",
      "\n",
      "土豆、干辣椒、青辣椒、醋、盐、生抽、蒜\n",
      "\n",
      "http://www.xiachufang.com/recipe/100528771/\n",
      "\n",
      "                奶酪葡萄干快手面包丨健康·烘焙\n",
      "            \n",
      "\n",
      "熟透的香蕉、大号鸡蛋（室温）、酸奶油、香草精、马苏里拉或车达奶酪、无盐黄油（融化的）、中筋面粉或全麦面粉、快熟燕麦片或即食燕麦片、红糖或白糖或蜂蜜、无铝泡打粉、小苏打粉、海盐、黑胡椒粉、葡萄干\n",
      "\n",
      "http://www.xiachufang.com/recipe/103504416/\n"
     ]
    }
   ],
   "source": [
    "F_labels = soup.find_all(class_='info pure-u')#找到每个共同的父标签\n",
    "\n",
    "with open('Receip.txt','w')as fb:\n",
    "    for label in F_labels:\n",
    "            #print(type(label))\n",
    "            #print(label.text)\n",
    "            food_name = label.find(class_='name').find('a').text#提取出名字元素\n",
    "            print(food_name)\n",
    "            picture = label.find('img')\n",
    "            #food_materals_element = label.find(class_='ing ellipsis').find_all('span')#提取出食材元素\n",
    "            food_materals= label.find(class_='ing ellipsis').text\n",
    "            #print(type(food_materals_element))\n",
    "\n",
    "            print(food_materals)\n",
    "            href = label.find(class_='name').find('a')['href']\n",
    "            url_food = 'http://www.xiachufang.com%s'%href\n",
    "            print(url_food)\n",
    "            fb.write('菜品： ')\n",
    "            fb.write(food_name)\n",
    "            fb.write('\\n')\n",
    "            fb.write('食材： ')\n",
    "            fb.write(food_materals)\n",
    "            fb.write('\\n')\n",
    "            fb.write('网址链接： ')\n",
    "            fb.write(url_food)\n",
    "            fb.write('\\n')\n",
    "   # print(type(food_materal),type(picture),type(href),type(food_name))\n",
    "#print(F_labels)"
   ]
  },
  {
   "cell_type": "code",
   "execution_count": null,
   "metadata": {},
   "outputs": [],
   "source": []
  },
  {
   "cell_type": "code",
   "execution_count": null,
   "metadata": {},
   "outputs": [],
   "source": []
  },
  {
   "cell_type": "code",
   "execution_count": null,
   "metadata": {},
   "outputs": [],
   "source": []
  },
  {
   "cell_type": "code",
   "execution_count": null,
   "metadata": {},
   "outputs": [],
   "source": []
  },
  {
   "cell_type": "code",
   "execution_count": null,
   "metadata": {},
   "outputs": [],
   "source": []
  },
  {
   "cell_type": "code",
   "execution_count": null,
   "metadata": {},
   "outputs": [],
   "source": []
  },
  {
   "cell_type": "code",
   "execution_count": null,
   "metadata": {},
   "outputs": [],
   "source": []
  },
  {
   "cell_type": "code",
   "execution_count": null,
   "metadata": {},
   "outputs": [],
   "source": []
  },
  {
   "cell_type": "code",
   "execution_count": null,
   "metadata": {},
   "outputs": [],
   "source": []
  },
  {
   "cell_type": "code",
   "execution_count": null,
   "metadata": {},
   "outputs": [],
   "source": []
  },
  {
   "cell_type": "code",
   "execution_count": null,
   "metadata": {},
   "outputs": [],
   "source": []
  },
  {
   "cell_type": "code",
   "execution_count": null,
   "metadata": {},
   "outputs": [],
   "source": []
  },
  {
   "cell_type": "code",
   "execution_count": null,
   "metadata": {},
   "outputs": [],
   "source": []
  },
  {
   "cell_type": "code",
   "execution_count": null,
   "metadata": {},
   "outputs": [],
   "source": []
  },
  {
   "cell_type": "code",
   "execution_count": null,
   "metadata": {},
   "outputs": [],
   "source": []
  },
  {
   "cell_type": "code",
   "execution_count": null,
   "metadata": {},
   "outputs": [],
   "source": []
  },
  {
   "cell_type": "code",
   "execution_count": null,
   "metadata": {},
   "outputs": [],
   "source": []
  },
  {
   "cell_type": "code",
   "execution_count": null,
   "metadata": {},
   "outputs": [],
   "source": []
  },
  {
   "cell_type": "code",
   "execution_count": null,
   "metadata": {},
   "outputs": [],
   "source": []
  },
  {
   "cell_type": "code",
   "execution_count": null,
   "metadata": {},
   "outputs": [],
   "source": []
  },
  {
   "cell_type": "code",
   "execution_count": null,
   "metadata": {},
   "outputs": [],
   "source": []
  },
  {
   "cell_type": "code",
   "execution_count": null,
   "metadata": {},
   "outputs": [],
   "source": []
  },
  {
   "cell_type": "code",
   "execution_count": null,
   "metadata": {},
   "outputs": [],
   "source": []
  },
  {
   "cell_type": "code",
   "execution_count": null,
   "metadata": {},
   "outputs": [],
   "source": []
  },
  {
   "cell_type": "code",
   "execution_count": null,
   "metadata": {},
   "outputs": [],
   "source": []
  },
  {
   "cell_type": "code",
   "execution_count": null,
   "metadata": {},
   "outputs": [],
   "source": []
  },
  {
   "cell_type": "code",
   "execution_count": null,
   "metadata": {},
   "outputs": [],
   "source": []
  },
  {
   "cell_type": "code",
   "execution_count": null,
   "metadata": {},
   "outputs": [],
   "source": []
  },
  {
   "cell_type": "code",
   "execution_count": null,
   "metadata": {},
   "outputs": [],
   "source": []
  },
  {
   "cell_type": "code",
   "execution_count": null,
   "metadata": {},
   "outputs": [],
   "source": []
  },
  {
   "cell_type": "code",
   "execution_count": null,
   "metadata": {},
   "outputs": [],
   "source": []
  },
  {
   "cell_type": "code",
   "execution_count": null,
   "metadata": {},
   "outputs": [],
   "source": []
  },
  {
   "cell_type": "code",
   "execution_count": null,
   "metadata": {},
   "outputs": [],
   "source": []
  },
  {
   "cell_type": "code",
   "execution_count": null,
   "metadata": {},
   "outputs": [],
   "source": []
  },
  {
   "cell_type": "code",
   "execution_count": null,
   "metadata": {},
   "outputs": [],
   "source": []
  },
  {
   "cell_type": "code",
   "execution_count": null,
   "metadata": {},
   "outputs": [],
   "source": []
  },
  {
   "cell_type": "code",
   "execution_count": null,
   "metadata": {},
   "outputs": [],
   "source": []
  },
  {
   "cell_type": "code",
   "execution_count": null,
   "metadata": {},
   "outputs": [],
   "source": []
  },
  {
   "cell_type": "code",
   "execution_count": null,
   "metadata": {},
   "outputs": [],
   "source": []
  },
  {
   "cell_type": "code",
   "execution_count": null,
   "metadata": {},
   "outputs": [],
   "source": []
  },
  {
   "cell_type": "code",
   "execution_count": null,
   "metadata": {},
   "outputs": [],
   "source": []
  },
  {
   "cell_type": "code",
   "execution_count": null,
   "metadata": {},
   "outputs": [],
   "source": []
  },
  {
   "cell_type": "code",
   "execution_count": null,
   "metadata": {},
   "outputs": [],
   "source": []
  },
  {
   "cell_type": "code",
   "execution_count": null,
   "metadata": {},
   "outputs": [],
   "source": []
  },
  {
   "cell_type": "code",
   "execution_count": null,
   "metadata": {},
   "outputs": [],
   "source": []
  }
 ],
 "metadata": {
  "kernelspec": {
   "display_name": "tfcpu",
   "language": "python",
   "name": "tf"
  },
  "language_info": {
   "codemirror_mode": {
    "name": "ipython",
    "version": 3
   },
   "file_extension": ".py",
   "mimetype": "text/x-python",
   "name": "python",
   "nbconvert_exporter": "python",
   "pygments_lexer": "ipython3",
   "version": "3.5.6"
  }
 },
 "nbformat": 4,
 "nbformat_minor": 2
}
