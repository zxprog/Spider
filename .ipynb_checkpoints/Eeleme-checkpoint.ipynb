{
 "cells": [
  {
   "cell_type": "code",
   "execution_count": 1,
   "metadata": {},
   "outputs": [
    {
     "ename": "NameError",
     "evalue": "name 'seesion' is not defined",
     "output_type": "error",
     "traceback": [
      "\u001b[1;31m---------------------------------------------------------------------------\u001b[0m",
      "\u001b[1;31mNameError\u001b[0m                                 Traceback (most recent call last)",
      "\u001b[1;32m<ipython-input-1-42df480928cd>\u001b[0m in \u001b[0;36m<module>\u001b[1;34m()\u001b[0m\n\u001b[0;32m     14\u001b[0m     \u001b[0mcookies\u001b[0m \u001b[1;33m=\u001b[0m \u001b[0mrequests\u001b[0m\u001b[1;33m.\u001b[0m\u001b[0mutils\u001b[0m\u001b[1;33m.\u001b[0m\u001b[0mcookiejar_from_dict\u001b[0m\u001b[1;33m(\u001b[0m\u001b[0mcookies_dict\u001b[0m\u001b[1;33m)\u001b[0m\u001b[1;33m\u001b[0m\u001b[0m\n\u001b[0;32m     15\u001b[0m     \u001b[1;31m#把转成字典的cookies再转成cookies本来的格式。\u001b[0m\u001b[1;33m\u001b[0m\u001b[1;33m\u001b[0m\u001b[0m\n\u001b[1;32m---> 16\u001b[1;33m     \u001b[0mseesion\u001b[0m\u001b[1;33m.\u001b[0m\u001b[0mcookies\u001b[0m \u001b[1;33m=\u001b[0m \u001b[0mcookies\u001b[0m\u001b[1;33m\u001b[0m\u001b[0m\n\u001b[0m\u001b[0;32m     17\u001b[0m     \u001b[1;31m#讲cookies存入会话的属性中\u001b[0m\u001b[1;33m\u001b[0m\u001b[1;33m\u001b[0m\u001b[0m\n\u001b[0;32m     18\u001b[0m \u001b[1;33m\u001b[0m\u001b[0m\n",
      "\u001b[1;31mNameError\u001b[0m: name 'seesion' is not defined"
     ]
    }
   ],
   "source": [
    "import requests,json\n",
    "session = requests.session()\n",
    "#创建会话。\n",
    "headers = {\n",
    "'User-Agent': 'Mozilla/5.0 (Windows NT 10.0; Win64; x64) AppleWebKit/537.36 (KHTML, like Gecko) Chrome/70.0.3538.110 Safari/537.36'\n",
    "}\n",
    "#添加请求头，避免被反爬虫。\n",
    "try:\n",
    "#如果能读取到cookies文件，执行以下代码，跳过except的代码，不用登录就能发表评论。\n",
    "    cookies_txt = open('cookies.txt', 'r')\n",
    "    #以reader读取模式，打开名为cookies.txt的文件。\n",
    "    cookies_dict = json.loads(cookies_txt.read())\n",
    "    #调用json模块的loads函数，把字符串转成字典。\n",
    "    cookies = requests.utils.cookiejar_from_dict(cookies_dict)\n",
    "    #把转成字典的cookies再转成cookies本来的格式。\n",
    "    seesion.cookies = cookies\n",
    "    #讲cookies存入会话的属性中\n",
    "\n",
    "except FileNotFoundError:\n",
    "#如果读取不到cookies文件，程序报“FileNotFoundError”（找不到文件）的错，则执行以下代码，重新登录获取cookies，再评论。\n",
    "\n",
    "    url = ' https://wordpress-edu-3autumn.localprod.forc.work/wp-login.php'\n",
    "    #登录的网址。\n",
    "    data = {'log': input('请输入你的账号:'),\n",
    "            'pwd': input('请输入你的密码:'),\n",
    "            'wp-submit': '登录',\n",
    "            'redirect_to': 'https://wordpress-edu-3autumn.localprod.forc.work/wp-admin/',\n",
    "            'testcookie': '1'}\n",
    "    #登录的参数。\n",
    "    session.post(url, headers=headers, data=data)\n",
    "    #在会话下，用post发起登录请求。\n",
    "\n",
    "    cookies_dict = requests.utils.dict_from_cookiejar(session.cookies)\n",
    "    #把cookies转化成字典。\n",
    "    cookies_str = json.dumps(cookies_dict)\n",
    "    #调用json模块的dump函数，把cookies从字典再转成字符串。\n",
    "    f = open('cookies.txt', 'w')\n",
    "    #创建名为cookies.txt的文件，以写入模式写入内容\n",
    "    f.write(cookies_str)\n",
    "    #把已经转成字符串的cookies写入文件\n",
    "    f.close()\n",
    "    #关闭文件\n",
    "\n",
    "url_1 = 'https://wordpress-edu-3autumn.localprod.forc.work/wp-comments-post.php'\n",
    "#文章的网址。\n",
    "data_1 = {\n",
    "'comment': input('请输入你想评论的内容：'),\n",
    "'submit': '发表评论',\n",
    "'comment_post_ID': '7',\n",
    "'comment_parent': '0'\n",
    "}\n",
    "#评论的参数。\n",
    "session.post(url_1, headers=headers, data=data_1)\n",
    "#在会话下，用post发起评论请求。"
   ]
  },
  {
   "cell_type": "code",
   "execution_count": 2,
   "metadata": {},
   "outputs": [
    {
     "name": "stdout",
     "output_type": "stream",
     "text": [
      "{'name': 'NEED_CAPTCHA', 'message': '账户存在风险,需要图形验证码'}\n"
     ]
    }
   ],
   "source": [
    "import requests,json\n",
    "url = 'https://h5.ele.me/restapi/eus/login/mobile_send_code'\n",
    "session = requests.session()\n",
    "#创建会话。\n",
    "headers = {\n",
    "'User-Agent': 'Mozilla/5.0 (Windows NT 10.0; Win64; x64) AppleWebKit/537.36 (KHTML, like Gecko) Chrome/70.0.3538.110 Safari/537.36'\n",
    "}\n",
    "payload = {'mobile': '18810607138', 'captcha_value': \"\", 'captcha_hash': \"\", 'scf': \"ms\"}\n",
    "res = session.post(url, headers=headers, data=payload)\n",
    "print(res.json())"
   ]
  },
  {
   "cell_type": "code",
   "execution_count": 3,
   "metadata": {},
   "outputs": [],
   "source": [
    "import base64\n",
    "import matplotlib.pyplot as plt\n",
    "#import matplotlib.image as mpimg\n",
    "import cv2\n",
    "def Token_img_show():\n",
    "    urlTokenImg = 'https://h5.ele.me/restapi/eus/v3/captchas'\n",
    "    dataTokenImg = {\n",
    "        \"captcha_str\":'18810607138'\n",
    "        }\n",
    "    tokenImgDatas = session.post(urlTokenImg,headers=headers,data=dataTokenImg)\n",
    "    tokenImg64Code = tokenImgDatas.json()['captcha_image']#取得验证码的base64编码 另一键：captcha_hash\n",
    "        #【上面注意json转字典.json()】\n",
    "        #print(tokenImg64Code)\n",
    "        #data:image/jpeg;base64,/9j/4AAQ......\n",
    "        #testBase64 = '/9j/4AAQSkZJRg......'\n",
    "        #【注意：试存静态编码转base64可知 上面base64编码要split一下，逗号后面是】\n",
    "    #rint(tokenImg64Code)\n",
    "    tokenImg64Code = tokenImg64Code.split(',')[1]#索引是从左向右0，1，2这样的注意\n",
    "    #rint(tokenImg64Code)\n",
    "    tokenImg = base64.b64decode(tokenImg64Code)#转成图片存到本地\n",
    "    with open(r'token.jpg','wb+') as fw:\n",
    "        fw.write(tokenImg)\n",
    "    plt.imshow(cv2.imread('token.jpg'))\n",
    "    plt.show()"
   ]
  },
  {
   "cell_type": "markdown",
   "metadata": {},
   "source": [
    "### 提交验证码"
   ]
  },
  {
   "cell_type": "code",
   "execution_count": 18,
   "metadata": {},
   "outputs": [],
   "source": [
    " #==取验证码，取完图片验证码\n",
    "    # 根据本地图片输入，传到下面取手机验证码（比没图片验证码时多了一步，原理是一样的）=\n",
    "def Post_token_img():\n",
    "    urlToken = 'https://h5.ele.me/restapi/eus/login/mobile_send_code'\n",
    "    tokenImgValue = input('请输入图片验证码，图片见本机已下载：')\n",
    "    #请求带有验证码的 手机验证码发送\n",
    "    dataToken = {\n",
    "        \"captcha_hash\":\"\",\n",
    "        \"captcha_value\":tokenImgValue,\n",
    "        \"mobile\":'18810607138',\n",
    "        \"scf\":\"ms\"\n",
    "    }\n",
    "    tokenTel = session.post(urlToken,headers=headers,data=dataToken)#只有一键validate_token\n",
    "    print(tokenTel.json())\n",
    "    return tokenTel"
   ]
  },
  {
   "cell_type": "markdown",
   "metadata": {},
   "source": [
    "### 登陆"
   ]
  },
  {
   "cell_type": "code",
   "execution_count": 23,
   "metadata": {},
   "outputs": [],
   "source": [
    "def login(tokenTel):\n",
    " \n",
    "    \n",
    "    validateToken = tokenTel.json()['validate_token']\n",
    "    \n",
    "    #验证码传入登录请求\n",
    "    validateCode = input('请输入手机验证码：')\n",
    "    #手机输入验证码，传入登录请求\n",
    "    #上面手机验证的validateToken validateCode两个一起传入登录请求中\n",
    "    #==登录==\n",
    "    urlLogin = 'https://h5.ele.me/restapi/eus/login/login_by_mobile'\n",
    "    #登录请求是怎么找到的？页面正常登录勾选network里Preserve log,完成登录后即可找到。Preserve log可保障不会登录后跳走消息这个请求\n",
    "\n",
    "    dataLogin = {\n",
    "        \"mobile\":'18810607138',\n",
    "        \"scf\":\"ms\",\n",
    "        \"validate_code\":validateCode,\n",
    "        \"validate_token\":validateToken\n",
    "    }\n",
    "    login_res = session.post(urlLogin,headers=headers,data=dataLogin)\n",
    "    if login_res.status_code ==200:\n",
    "        print('登陆成功')\n",
    "    else :\n",
    "        print('登陆失败')\n",
    "    return login_res"
   ]
  },
  {
   "cell_type": "code",
   "execution_count": 24,
   "metadata": {},
   "outputs": [
    {
     "data": {
      "image/png": "[encoded data removed]",
      "text/plain": [
       "<Figure size 432x288 with 1 Axes>"
      ]
     },
     "metadata": {
      "needs_background": "light"
     },
     "output_type": "display_data"
    },
    {
     "name": "stdout",
     "output_type": "stream",
     "text": [
      "请输入图片验证码，图片见本机已下载：6tbt\n",
      "{'validate_token': '8cec8c5a7be53cc9b5ebf1f0313ce702866dbfe4ff92df55d62405390df96f07'}\n",
      "请输入手机验证码：773061\n",
      "登陆成功\n"
     ]
    }
   ],
   "source": [
    "Token_img_show()\n",
    "tokenTel = Post_token_img()\n",
    "login_res = login(tokenTel)\n",
    "print(login_res.json())"
   ]
  },
  {
   "cell_type": "markdown",
   "metadata": {},
   "source": [
    "###  查询餐厅列表"
   ]
  },
  {
   "cell_type": "code",
   "execution_count": 26,
   "metadata": {},
   "outputs": [
    {
     "name": "stdout",
     "output_type": "stream",
     "text": [
      "{'need_bind_mobile': False, 'user_id': 2470326154}\n",
      "<RequestsCookieJar[<Cookie SID=qHb13c2SHAkT4zIchdNiM6AhpX3w01Kp0DZA for .ele.me/>, <Cookie USERID=2470326154 for .ele.me/>, <Cookie UTUSER=2470326154 for .ele.me/>, <Cookie track_id=1551062764|dd73a4522e2becacb69161ddf782f2823c3708e1c94270a405|ed8d1d40e00a75b7207f14d9d03c7530 for .ele.me/>]>\n"
     ]
    }
   ],
   "source": [
    "print(login_res.json())\n",
    "def save_cookies()\n",
    "    cookies_dict = requests.utils.dict_from_cookiejar(session.cookies)\n",
    "    cookies_str = json.dumps(cookies_dict)\n",
    "    with open('cookies_eleme.txt', 'w') as f:\n",
    "        f.write(cookies_str)\n",
    "def cookies_read():\n",
    "    cookies_txt = open('cookies_eleme.txt', 'r')\n",
    "    cookies_dict = json.loads(cookies_txt.read())\n",
    "    cookies = requests.utils.cookiejar_from_dict(cookies_dict)\n",
    "    return (cookies)\n",
    "    # 以上4行代码，是cookies读取。\n",
    "def serch_resturnts():\n",
    "    url_base = 'https://h5.ele.me/restapi/shopping/v3/restaurants?'"
   ]
  },
  {
   "attachments": {
    "image.png": {
     "image/png": "[encoded data removed]"
    }
   },
   "cell_type": "markdown",
   "metadata": {},
   "source": [
    "![image.png](attachment:image.png)"
   ]
  },
  {
   "cell_type": "code",
   "execution_count": null,
   "metadata": {},
   "outputs": [],
   "source": [
    "#每发一个验证码，code 和token都是不一样的\n",
    "validate_token = res.json()['validate_token']\n",
    "validate_code = input('请输入手机验证码')\n",
    "payload_login = {'mobile': \"18810607138\",\n",
    "'scf': \"ms\",\n",
    "'validate_code': validate_code,\n",
    "'validate_token':validate_token}\n",
    "res2 = session.post(url, headers=headers, data=payload)\n",
    "print(res2.status_state)"
   ]
  },
  {
   "cell_type": "code",
   "execution_count": null,
   "metadata": {},
   "outputs": [],
   "source": []
  },
  {
   "cell_type": "markdown",
   "metadata": {},
   "source": [
    "### 答案"
   ]
  },
  {
   "cell_type": "code",
   "execution_count": null,
   "metadata": {},
   "outputs": [],
   "source": [
    "import requests\n",
    "session = requests.session()\n",
    "\n",
    "headers = {\n",
    "'User-Agent': 'Mozilla/5.0 (Windows NT 10.0; Win64; x64) AppleWebKit/537.36 (KHTML, like Gecko) Chrome/70.0.3538.110 Safari/537.36'\n",
    "}\n",
    "url_1 = 'https://h5.ele.me/restapi/eus/login/mobile_send_code'\n",
    "tel = input('请输入手机号码：')\n",
    "data_1 = {'captcha_hash':'',\n",
    "        'captcha_value':'',\n",
    "        'mobile':tel,\n",
    "        'scf':''}\n",
    "\n",
    "token = session.post(url_1, headers=headers, data=data_1).json()['validate_token']\n",
    "\n",
    "url_2 = 'https://h5.ele.me/restapi/eus/login/login_by_mobile'\n",
    "code = input('请输入手机验证码：')\n",
    "data_2 = {'mobile':tel,\n",
    "        'scf':'ms',\n",
    "        'validate_code':code,\n",
    "        'validate_token':token}\n",
    "\n",
    "session.post(url_2,headers=headers,data=data_2)\n",
    "\n",
    "\n",
    "address_url = 'https://www.ele.me/restapi/v2/pois?'\n",
    "place = input('请输入你的收货地址：')\n",
    "params = {'extras[]':'count','geohash':'ws105rz9smwm','keyword':place,'limit':'20','type':'nearby'}\n",
    "# 这里使用了深圳的geohash\n",
    "\n",
    "address_res = requests.get(address_url,params=params)\n",
    "address_json = address_res.json()\n",
    "\n",
    "print('以下，是与'+place+'相关的位置信息：\\n')\n",
    "n=0\n",
    "for address in address_json:\n",
    "    print(str(n)+'. '+address['name']+'：'+address['short_address']+'\\n')\n",
    "    n = n+1\n",
    "address_num = int(input('请输入您选择位置的序号：'))\n",
    "final_address = address_json[address_num]"
   ]
  },
  {
   "cell_type": "code",
   "execution_count": null,
   "metadata": {},
   "outputs": [],
   "source": []
  },
  {
   "cell_type": "code",
   "execution_count": null,
   "metadata": {},
   "outputs": [],
   "source": []
  },
  {
   "cell_type": "code",
   "execution_count": null,
   "metadata": {},
   "outputs": [],
   "source": []
  },
  {
   "cell_type": "code",
   "execution_count": null,
   "metadata": {},
   "outputs": [],
   "source": []
  },
  {
   "cell_type": "code",
   "execution_count": null,
   "metadata": {},
   "outputs": [],
   "source": []
  },
  {
   "cell_type": "code",
   "execution_count": null,
   "metadata": {},
   "outputs": [],
   "source": []
  },
  {
   "cell_type": "code",
   "execution_count": null,
   "metadata": {},
   "outputs": [],
   "source": []
  },
  {
   "cell_type": "code",
   "execution_count": null,
   "metadata": {},
   "outputs": [],
   "source": []
  },
  {
   "cell_type": "code",
   "execution_count": null,
   "metadata": {},
   "outputs": [],
   "source": []
  },
  {
   "cell_type": "code",
   "execution_count": null,
   "metadata": {},
   "outputs": [],
   "source": []
  },
  {
   "cell_type": "code",
   "execution_count": null,
   "metadata": {},
   "outputs": [],
   "source": []
  },
  {
   "cell_type": "code",
   "execution_count": null,
   "metadata": {},
   "outputs": [],
   "source": []
  }
 ],
 "metadata": {
  "kernelspec": {
   "display_name": "tfcpu",
   "language": "python",
   "name": "tf"
  },
  "language_info": {
   "codemirror_mode": {
    "name": "ipython",
    "version": 3
   },
   "file_extension": ".py",
   "mimetype": "text/x-python",
   "name": "python",
   "nbconvert_exporter": "python",
   "pygments_lexer": "ipython3",
   "version": "3.5.6"
  }
 },
 "nbformat": 4,
 "nbformat_minor": 2
}
