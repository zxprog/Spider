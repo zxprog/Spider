{
 "cells": [
  {
   "cell_type": "code",
   "execution_count": 11,
   "metadata": {},
   "outputs": [
    {
     "name": "stdout",
     "output_type": "stream",
     "text": [
      "<class 'selenium.webdriver.remote.webelement.WebElement'>\n"
     ]
    }
   ],
   "source": [
    "# 本地Chrome浏览器设置方法\n",
    "from selenium import webdriver # 从selenium库中调用webdriver模块\n",
    "import time # 调用time模块\n",
    "driver = webdriver.Chrome() # 设置引擎为Chrome，真实地打开一个Chrome浏览器\n",
    "url = 'https://wordpress-edu-3autumn.localprod.forc.work/wp-login.php'\n",
    "user_name = 'spiderman'\n",
    "password = 'crawler334566'\n",
    "remarks = input()\n",
    "driver.get(url) # 访问页面\n",
    "time.sleep(2) # 暂停两秒，等待浏览器缓冲\n",
    "def login():\n",
    "    user_login = driver.find_element_by_id('user_login')\n",
    "    user_login.send_keys(user_name)\n",
    "    user_password = driver.find_element_by_id('user_pass')\n",
    "    user_password.send_keys(password)\n",
    "    rememberme = driver.find_element_by_id('rememberme')\n",
    "    rememberme.click()\n",
    "    login = driver.find_element_by_id('wp-submit')\n",
    "    login.click()\n",
    "\n",
    "def choose_bolg():\n",
    "    link_three = driver.find_element_by_id('post-20').find_element_by_tag_name('a')    \n",
    "    print(type(link_three))                                                     \n",
    "    link_three.click()\n",
    "def remark():\n",
    "    comment = driver.find_element_by_id('comment')\n",
    "    comment.send_keys(remarks)\n",
    "login()\n",
    "choose_bolg()\n",
    "time.sleep(1)\n",
    "\n",
    "\n",
    "\n",
    "#driver.close()"
   ]
  },
  {
   "cell_type": "code",
   "execution_count": null,
   "metadata": {},
   "outputs": [],
   "source": []
  },
  {
   "cell_type": "code",
   "execution_count": null,
   "metadata": {},
   "outputs": [],
   "source": []
  },
  {
   "cell_type": "code",
   "execution_count": null,
   "metadata": {},
   "outputs": [],
   "source": []
  },
  {
   "cell_type": "code",
   "execution_count": null,
   "metadata": {},
   "outputs": [],
   "source": []
  },
  {
   "cell_type": "code",
   "execution_count": null,
   "metadata": {},
   "outputs": [],
   "source": []
  },
  {
   "cell_type": "code",
   "execution_count": null,
   "metadata": {},
   "outputs": [],
   "source": []
  },
  {
   "cell_type": "code",
   "execution_count": null,
   "metadata": {},
   "outputs": [],
   "source": []
  },
  {
   "cell_type": "code",
   "execution_count": null,
   "metadata": {},
   "outputs": [],
   "source": []
  },
  {
   "cell_type": "code",
   "execution_count": null,
   "metadata": {},
   "outputs": [],
   "source": []
  },
  {
   "cell_type": "code",
   "execution_count": null,
   "metadata": {},
   "outputs": [],
   "source": []
  },
  {
   "cell_type": "code",
   "execution_count": null,
   "metadata": {},
   "outputs": [],
   "source": []
  },
  {
   "cell_type": "code",
   "execution_count": null,
   "metadata": {},
   "outputs": [],
   "source": []
  },
  {
   "cell_type": "code",
   "execution_count": null,
   "metadata": {},
   "outputs": [],
   "source": []
  }
 ],
 "metadata": {
  "kernelspec": {
   "display_name": "tfcpu",
   "language": "python",
   "name": "tf"
  },
  "language_info": {
   "codemirror_mode": {
    "name": "ipython",
    "version": 3
   },
   "file_extension": ".py",
   "mimetype": "text/x-python",
   "name": "python",
   "nbconvert_exporter": "python",
   "pygments_lexer": "ipython3",
   "version": "3.5.6"
  }
 },
 "nbformat": 4,
 "nbformat_minor": 2
}
