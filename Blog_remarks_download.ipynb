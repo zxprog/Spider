{
 "cells": [
  {
   "cell_type": "code",
   "execution_count": 29,
   "metadata": {},
   "outputs": [
    {
     "name": "stdout",
     "output_type": "stream",
     "text": [
      "200\n"
     ]
    }
   ],
   "source": [
    "import requests # 调用requests库\n",
    "from bs4 import BeautifulSoup # 调用BeautifulSoup库\n",
    "res = requests.get('https://wordpress-edu-3autumn.localprod.forc.work/all-about-the-future_04/')\n",
    "# 返回一个response对象，赋值给res\n",
    "html = res.text\n",
    "print(res.status_code)\n",
    "# 把res的内容以字符串的形式返回\n",
    "soup = BeautifulSoup( html,'html.parser') \n",
    "# 把网页解析为BeautifulSoup对象\n",
    "\n"
   ]
  },
  {
   "cell_type": "code",
   "execution_count": null,
   "metadata": {},
   "outputs": [],
   "source": []
  },
  {
   "cell_type": "code",
   "execution_count": 30,
   "metadata": {},
   "outputs": [
    {
     "name": "stdout",
     "output_type": "stream",
     "text": [
      "<class 'bs4.element.ResultSet'>\n"
     ]
    }
   ],
   "source": [
    "items = soup.find_all(class_='recentcomments') # 通过定位标签和属性提取我们想要的数据\n",
    "#print(items)\n",
    "print(type(items))\n",
    "#for item in items:\n",
    "    #print(item)"
   ]
  },
  {
   "cell_type": "code",
   "execution_count": 32,
   "metadata": {},
   "outputs": [
    {
     "name": "stdout",
     "output_type": "stream",
     "text": [
      "https://wordpress-edu-3autumn.localprod.forc.work/all-about-the-future_04/#comment-155 未来已来（四）——Python学习进阶图谱\n",
      "吴枫 如下，是我们学习Python编程的路径选择：A1-A2是必修，A3系列是个人根据自己的方向进行选择，A4及其之后则是人工智能线的深度学习路径。\n",
      "吴枫 第1个蜘蛛侠\n",
      "spiderman 几级评论这是？\n",
      "spiderman 一级评论入口在哪？\n",
      "master 第2个蜘蛛侠\n",
      "master 第3个蜘蛛侠\n",
      "master 第4个蜘蛛侠\n",
      "master 第5个蜘蛛侠\n",
      "master 第6个蜘蛛侠\n",
      "master 第7个蜘蛛侠\n",
      "master 第8个蜘蛛侠\n",
      "master 第9个蜘蛛侠\n",
      "master 第10个蜘蛛侠\n",
      "master 人人都是蜘蛛侠\n",
      "spiderman am I the first?\n",
      "spiderman 纯属测试\n",
      "spiderman 112233\n",
      "spiderman 小爷>纯属测试\n",
      "spiderman 好，好，好，非常好\n",
      "spiderman 小爷的第三次评论来了\n",
      "spiderman 这是小爷的第4次评论\n",
      "spiderman 看到了，不好意思\n",
      "spiderman 这一条是python发的哦，看到了吗\n",
      "spiderman 二级评论\n",
      "spiderman 这条也是旺旺旺发的，此条二级评论也是，隐藏的很深呐，被自己吓到了吧，啊哈～2019/1/27\n",
      "spiderman 补充：python发的，这是三级评论\n",
      "吴枫 哈哈厉害\n",
      "spiderman 旺旺旺python发的2019/1/27 第二条 hohahaha~~~\n",
      "spiderman 阿旺到此一游，第五条 2017/1/27\n",
      "spiderman 阿旺课堂第六条python模拟评论\n",
      "spiderman 王蔚来到此一游\n",
      "spiderman 王蔚来最帅\n",
      "spiderman 王蔚来宇宙最帅\n",
      "spiderman 王蔚来帮\n",
      "spiderman 王蔚来我校作《社会主义发展的回顾与展望》专…-中共青岛市委党校\n",
      "spiderman 王蔚来1\n",
      "spiderman 王蔚来21\n",
      "https://wordpress-edu-3autumn.localprod.forc.work/all-about-the-future_04/#comment-154 未来已来（四）——Python学习进阶图谱\n",
      "吴枫 如下，是我们学习Python编程的路径选择：A1-A2是必修，A3系列是个人根据自己的方向进行选择，A4及其之后则是人工智能线的深度学习路径。\n",
      "吴枫 第1个蜘蛛侠\n",
      "spiderman 几级评论这是？\n",
      "spiderman 一级评论入口在哪？\n",
      "master 第2个蜘蛛侠\n",
      "master 第3个蜘蛛侠\n",
      "master 第4个蜘蛛侠\n",
      "master 第5个蜘蛛侠\n",
      "master 第6个蜘蛛侠\n",
      "master 第7个蜘蛛侠\n",
      "master 第8个蜘蛛侠\n",
      "master 第9个蜘蛛侠\n",
      "master 第10个蜘蛛侠\n",
      "master 人人都是蜘蛛侠\n",
      "spiderman am I the first?\n",
      "spiderman 纯属测试\n",
      "spiderman 112233\n",
      "spiderman 小爷>纯属测试\n",
      "spiderman 好，好，好，非常好\n",
      "spiderman 小爷的第三次评论来了\n",
      "spiderman 这是小爷的第4次评论\n",
      "spiderman 看到了，不好意思\n",
      "spiderman 这一条是python发的哦，看到了吗\n",
      "spiderman 二级评论\n",
      "spiderman 这条也是旺旺旺发的，此条二级评论也是，隐藏的很深呐，被自己吓到了吧，啊哈～2019/1/27\n",
      "spiderman 补充：python发的，这是三级评论\n",
      "吴枫 哈哈厉害\n",
      "spiderman 旺旺旺python发的2019/1/27 第二条 hohahaha~~~\n",
      "spiderman 阿旺到此一游，第五条 2017/1/27\n",
      "spiderman 阿旺课堂第六条python模拟评论\n",
      "spiderman 王蔚来到此一游\n",
      "spiderman 王蔚来最帅\n",
      "spiderman 王蔚来宇宙最帅\n",
      "spiderman 王蔚来帮\n",
      "spiderman 王蔚来我校作《社会主义发展的回顾与展望》专…-中共青岛市委党校\n",
      "spiderman 王蔚来1\n",
      "spiderman 王蔚来21\n",
      "https://wordpress-edu-3autumn.localprod.forc.work/all-about-the-future_04/#comment-153 未来已来（四）——Python学习进阶图谱\n",
      "吴枫 如下，是我们学习Python编程的路径选择：A1-A2是必修，A3系列是个人根据自己的方向进行选择，A4及其之后则是人工智能线的深度学习路径。\n",
      "吴枫 第1个蜘蛛侠\n",
      "spiderman 几级评论这是？\n",
      "spiderman 一级评论入口在哪？\n",
      "master 第2个蜘蛛侠\n",
      "master 第3个蜘蛛侠\n",
      "master 第4个蜘蛛侠\n",
      "master 第5个蜘蛛侠\n",
      "master 第6个蜘蛛侠\n",
      "master 第7个蜘蛛侠\n",
      "master 第8个蜘蛛侠\n",
      "master 第9个蜘蛛侠\n",
      "master 第10个蜘蛛侠\n",
      "master 人人都是蜘蛛侠\n",
      "spiderman am I the first?\n",
      "spiderman 纯属测试\n",
      "spiderman 112233\n",
      "spiderman 小爷>纯属测试\n",
      "spiderman 好，好，好，非常好\n",
      "spiderman 小爷的第三次评论来了\n",
      "spiderman 这是小爷的第4次评论\n",
      "spiderman 看到了，不好意思\n",
      "spiderman 这一条是python发的哦，看到了吗\n",
      "spiderman 二级评论\n",
      "spiderman 这条也是旺旺旺发的，此条二级评论也是，隐藏的很深呐，被自己吓到了吧，啊哈～2019/1/27\n",
      "spiderman 补充：python发的，这是三级评论\n",
      "吴枫 哈哈厉害\n",
      "spiderman 旺旺旺python发的2019/1/27 第二条 hohahaha~~~\n",
      "spiderman 阿旺到此一游，第五条 2017/1/27\n",
      "spiderman 阿旺课堂第六条python模拟评论\n",
      "spiderman 王蔚来到此一游\n",
      "spiderman 王蔚来最帅\n",
      "spiderman 王蔚来宇宙最帅\n",
      "spiderman 王蔚来帮\n",
      "spiderman 王蔚来我校作《社会主义发展的回顾与展望》专…-中共青岛市委党校\n",
      "spiderman 王蔚来1\n",
      "spiderman 王蔚来21\n",
      "https://wordpress-edu-3autumn.localprod.forc.work/all-about-the-future_04/#comment-152 未来已来（四）——Python学习进阶图谱\n",
      "吴枫 如下，是我们学习Python编程的路径选择：A1-A2是必修，A3系列是个人根据自己的方向进行选择，A4及其之后则是人工智能线的深度学习路径。\n",
      "吴枫 第1个蜘蛛侠\n",
      "spiderman 几级评论这是？\n",
      "spiderman 一级评论入口在哪？\n",
      "master 第2个蜘蛛侠\n",
      "master 第3个蜘蛛侠\n",
      "master 第4个蜘蛛侠\n",
      "master 第5个蜘蛛侠\n",
      "master 第6个蜘蛛侠\n",
      "master 第7个蜘蛛侠\n",
      "master 第8个蜘蛛侠\n",
      "master 第9个蜘蛛侠\n",
      "master 第10个蜘蛛侠\n",
      "master 人人都是蜘蛛侠\n",
      "spiderman am I the first?\n",
      "spiderman 纯属测试\n",
      "spiderman 112233\n",
      "spiderman 小爷>纯属测试\n",
      "spiderman 好，好，好，非常好\n",
      "spiderman 小爷的第三次评论来了\n",
      "spiderman 这是小爷的第4次评论\n",
      "spiderman 看到了，不好意思\n",
      "spiderman 这一条是python发的哦，看到了吗\n",
      "spiderman 二级评论\n",
      "spiderman 这条也是旺旺旺发的，此条二级评论也是，隐藏的很深呐，被自己吓到了吧，啊哈～2019/1/27\n",
      "spiderman 补充：python发的，这是三级评论\n",
      "吴枫 哈哈厉害\n",
      "spiderman 旺旺旺python发的2019/1/27 第二条 hohahaha~~~\n",
      "spiderman 阿旺到此一游，第五条 2017/1/27\n",
      "spiderman 阿旺课堂第六条python模拟评论\n",
      "spiderman 王蔚来到此一游\n",
      "spiderman 王蔚来最帅\n",
      "spiderman 王蔚来宇宙最帅\n",
      "spiderman 王蔚来帮\n",
      "spiderman 王蔚来我校作《社会主义发展的回顾与展望》专…-中共青岛市委党校\n",
      "spiderman 王蔚来1\n",
      "spiderman 王蔚来21\n",
      "https://wordpress-edu-3autumn.localprod.forc.work/all-about-the-future_04/#comment-151 未来已来（四）——Python学习进阶图谱\n",
      "吴枫 如下，是我们学习Python编程的路径选择：A1-A2是必修，A3系列是个人根据自己的方向进行选择，A4及其之后则是人工智能线的深度学习路径。\n",
      "吴枫 第1个蜘蛛侠\n",
      "spiderman 几级评论这是？\n",
      "spiderman 一级评论入口在哪？\n",
      "master 第2个蜘蛛侠\n",
      "master 第3个蜘蛛侠\n",
      "master 第4个蜘蛛侠\n",
      "master 第5个蜘蛛侠\n",
      "master 第6个蜘蛛侠\n",
      "master 第7个蜘蛛侠\n",
      "master 第8个蜘蛛侠\n",
      "master 第9个蜘蛛侠\n",
      "master 第10个蜘蛛侠\n",
      "master 人人都是蜘蛛侠\n",
      "spiderman am I the first?\n",
      "spiderman 纯属测试\n",
      "spiderman 112233\n",
      "spiderman 小爷>纯属测试\n",
      "spiderman 好，好，好，非常好\n",
      "spiderman 小爷的第三次评论来了\n",
      "spiderman 这是小爷的第4次评论\n",
      "spiderman 看到了，不好意思\n",
      "spiderman 这一条是python发的哦，看到了吗\n",
      "spiderman 二级评论\n",
      "spiderman 这条也是旺旺旺发的，此条二级评论也是，隐藏的很深呐，被自己吓到了吧，啊哈～2019/1/27\n",
      "spiderman 补充：python发的，这是三级评论\n",
      "吴枫 哈哈厉害\n",
      "spiderman 旺旺旺python发的2019/1/27 第二条 hohahaha~~~\n",
      "spiderman 阿旺到此一游，第五条 2017/1/27\n",
      "spiderman 阿旺课堂第六条python模拟评论\n",
      "spiderman 王蔚来到此一游\n",
      "spiderman 王蔚来最帅\n",
      "spiderman 王蔚来宇宙最帅\n",
      "spiderman 王蔚来帮\n",
      "spiderman 王蔚来我校作《社会主义发展的回顾与展望》专…-中共青岛市委党校\n",
      "spiderman 王蔚来1\n",
      "spiderman 王蔚来21\n"
     ]
    }
   ],
   "source": [
    "urls = []\n",
    "titles = []\n",
    "for item in items:\n",
    "    #kind = item.find('h2') # 在列表中的每个元素里，匹配标签<h2>提取出数据\n",
    "    link = item.find('a') #提取出a标签元素\n",
    "    href = link['href'] #在列表中的每个元素里，匹配属性class_='info'提取出数据\n",
    "    title = link.text\n",
    "    print(href,title)\n",
    "    res2 = requests.get(href)\n",
    "    html_remarks = res2.text\n",
    "    soup_remarks = BeautifulSoup( html_remarks,'html.parser') \n",
    "    item_remarks = soup_remarks.find_all('article')\n",
    "    with open('Blog_remarks_download.txt','a') as fp:\n",
    "        fp.write('网址是')\n",
    "        fp.write(href)\n",
    "        fp.write('\\n')\n",
    "    for item_remark in item_remarks:\n",
    "        author_element = item_remark.find(class_='fn')#返回一个tag对象\n",
    "        remark_element = item_remark.find('p')\n",
    "        author = author_element.text\n",
    "        remark = remark_element.text\n",
    "        print(author,remark)\n",
    "        with open('Blog_remarks_download.txt','a') as fp:\n",
    "            fp.write('网友：')\n",
    "            fp.write(author)\n",
    "            fp.write('\\n')\n",
    "            fp.write('评论：')\n",
    "            fp.write(remark)\n",
    "            fp.write('\\n')\n",
    "    #urls.append(href)\n",
    "    #titles.append(title)\n",
    "    \n"
   ]
  },
  {
   "cell_type": "code",
   "execution_count": null,
   "metadata": {},
   "outputs": [],
   "source": []
  },
  {
   "cell_type": "code",
   "execution_count": null,
   "metadata": {},
   "outputs": [],
   "source": []
  },
  {
   "cell_type": "code",
   "execution_count": null,
   "metadata": {},
   "outputs": [],
   "source": []
  },
  {
   "cell_type": "code",
   "execution_count": null,
   "metadata": {},
   "outputs": [],
   "source": [
    "for item in items:\n",
    "    kind = item.find('h2') # 在列表中的每个元素里，匹配标签<h2>提取出数据\n",
    "    title = item.find(class_='title') #在列表中的每个元素里，匹配属性class_='title'提取出数据\n",
    "    brief = item.find(class_='info') #在列表中的每个元素里，匹配属性class_='info'提取出数据\n",
    "    #print(kind,'\\n',title,'\\n',brief) # 打印提取出的数据\n",
    "    print(type(kind),type(title),type(brief)) # 打印提取出的数据类型\n",
    "    print(kind.text,'\\n',title.text,'\\n',title['href'],'\\n',brief.text) # 打印书籍的类型、名字、链接和简介的文字"
   ]
  },
  {
   "cell_type": "code",
   "execution_count": null,
   "metadata": {},
   "outputs": [],
   "source": []
  },
  {
   "cell_type": "code",
   "execution_count": null,
   "metadata": {},
   "outputs": [],
   "source": []
  },
  {
   "cell_type": "code",
   "execution_count": null,
   "metadata": {},
   "outputs": [],
   "source": []
  },
  {
   "cell_type": "code",
   "execution_count": null,
   "metadata": {},
   "outputs": [],
   "source": []
  },
  {
   "cell_type": "code",
   "execution_count": null,
   "metadata": {},
   "outputs": [],
   "source": []
  },
  {
   "cell_type": "code",
   "execution_count": null,
   "metadata": {},
   "outputs": [],
   "source": []
  },
  {
   "cell_type": "code",
   "execution_count": null,
   "metadata": {},
   "outputs": [],
   "source": []
  },
  {
   "cell_type": "code",
   "execution_count": null,
   "metadata": {},
   "outputs": [],
   "source": []
  },
  {
   "cell_type": "code",
   "execution_count": null,
   "metadata": {},
   "outputs": [],
   "source": []
  },
  {
   "cell_type": "code",
   "execution_count": null,
   "metadata": {},
   "outputs": [],
   "source": []
  },
  {
   "cell_type": "code",
   "execution_count": null,
   "metadata": {},
   "outputs": [],
   "source": []
  },
  {
   "cell_type": "code",
   "execution_count": null,
   "metadata": {},
   "outputs": [],
   "source": []
  },
  {
   "cell_type": "code",
   "execution_count": null,
   "metadata": {},
   "outputs": [],
   "source": []
  },
  {
   "cell_type": "code",
   "execution_count": null,
   "metadata": {},
   "outputs": [],
   "source": []
  },
  {
   "cell_type": "code",
   "execution_count": null,
   "metadata": {},
   "outputs": [],
   "source": []
  },
  {
   "cell_type": "code",
   "execution_count": null,
   "metadata": {},
   "outputs": [],
   "source": []
  },
  {
   "cell_type": "code",
   "execution_count": null,
   "metadata": {},
   "outputs": [],
   "source": []
  },
  {
   "cell_type": "code",
   "execution_count": null,
   "metadata": {},
   "outputs": [],
   "source": []
  },
  {
   "cell_type": "code",
   "execution_count": null,
   "metadata": {},
   "outputs": [],
   "source": []
  },
  {
   "cell_type": "code",
   "execution_count": null,
   "metadata": {},
   "outputs": [],
   "source": []
  },
  {
   "cell_type": "code",
   "execution_count": null,
   "metadata": {},
   "outputs": [],
   "source": []
  },
  {
   "cell_type": "code",
   "execution_count": null,
   "metadata": {},
   "outputs": [],
   "source": []
  },
  {
   "cell_type": "code",
   "execution_count": null,
   "metadata": {},
   "outputs": [],
   "source": []
  },
  {
   "cell_type": "code",
   "execution_count": null,
   "metadata": {},
   "outputs": [],
   "source": []
  },
  {
   "cell_type": "code",
   "execution_count": null,
   "metadata": {},
   "outputs": [],
   "source": []
  }
 ],
 "metadata": {
  "kernelspec": {
   "display_name": "tfcpu",
   "language": "python",
   "name": "tf"
  },
  "language_info": {
   "codemirror_mode": {
    "name": "ipython",
    "version": 3
   },
   "file_extension": ".py",
   "mimetype": "text/x-python",
   "name": "python",
   "nbconvert_exporter": "python",
   "pygments_lexer": "ipython3",
   "version": "3.5.6"
  }
 },
 "nbformat": 4,
 "nbformat_minor": 2
}
